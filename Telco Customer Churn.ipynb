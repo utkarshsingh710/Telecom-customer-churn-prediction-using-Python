{
 "cells": [
  {
   "cell_type": "markdown",
   "metadata": {},
   "source": [
    "<font size=\"8\">Customer churn prediction model - Telecom</font>"
   ]
  },
  {
   "cell_type": "markdown",
   "metadata": {},
   "source": [
    "<font size=\"4\">by: Utkarsh Singh</font>"
   ]
  },
  {
   "cell_type": "markdown",
   "metadata": {},
   "source": [
    "# Import libraries"
   ]
  },
  {
   "cell_type": "code",
   "execution_count": 1,
   "metadata": {
    "ExecuteTime": {
     "end_time": "2020-08-11T16:00:25.041368Z",
     "start_time": "2020-08-11T15:59:53.046380Z"
    }
   },
   "outputs": [],
   "source": [
    "import pandas as pd, numpy as np, scipy as sp, sklearn , matplotlib.pyplot as plt, seaborn as sns,plotly as ply, statsmodels, warnings"
   ]
  },
  {
   "cell_type": "code",
   "execution_count": 2,
   "metadata": {
    "ExecuteTime": {
     "end_time": "2020-08-11T16:00:28.537595Z",
     "start_time": "2020-08-11T16:00:28.533598Z"
    }
   },
   "outputs": [],
   "source": [
    "import os\n",
    "os.chdir(\"C:\\\\Users\\\\Hi\\\\Documents\\\\UC BANA Master\\\\Data science - Python\\\\telco-customer-churn - Kaggle\")"
   ]
  },
  {
   "cell_type": "markdown",
   "metadata": {},
   "source": [
    "# Define functions"
   ]
  },
  {
   "cell_type": "code",
   "execution_count": 59,
   "metadata": {
    "ExecuteTime": {
     "end_time": "2020-08-11T18:58:09.650648Z",
     "start_time": "2020-08-11T18:58:09.628660Z"
    }
   },
   "outputs": [],
   "source": [
    "# Obtain frequency for all categorical variables\n",
    "\n",
    "def categorical_var_freq(df):\n",
    "    x=0\n",
    "    while x < len(list(df.select_dtypes(include = \"object\").columns)):\n",
    "        varname = list(df.select_dtypes(include = \"object\").columns)[x]\n",
    "        print(varname,\"\\n\")\n",
    "        print(pd.DataFrame(df[varname].value_counts()),\"\\n\")\n",
    "        x=x+1\n",
    "\n",
    "        \n",
    "# Cramer's V statistic for measuring association between categorical predictors\n",
    "\n",
    "import scipy.stats as ss\n",
    "\n",
    "def cramers_v(X,Y):\n",
    "    confusion_matrix = pd.crosstab(X,Y).values\n",
    "    chi2 = ss.chi2_contingency(confusion_matrix)[0]\n",
    "    n = confusion_matrix.sum()\n",
    "    phi2 = chi2/n\n",
    "    r,k = confusion_matrix.shape\n",
    "    phi2corr = max(0, phi2-((k-1)*(r-1))/(n-1))\n",
    "    rcorr = r-((r-1)**2)/(n-1)\n",
    "    kcorr = k-((k-1)**2)/(n-1)\n",
    "    return np.sqrt(phi2corr/min((kcorr-1),(rcorr-1)))\n",
    "\n",
    "# Symmetric misclassification using p threshold\n",
    "\n",
    "def symm_misclassif(y_true,y_pred,p): \n",
    "    FP = np.sum((y_pred.reshape((y_true.shape[0],1))>p) & (y_true==0)) \n",
    "    FN = np.sum((y_pred.reshape((y_true.shape[0],1))<=p) & (y_true==1)) \n",
    "    misclassification = FP+FN \n",
    "    misclassification_rate = misclassification/y_true.shape[0] \n",
    "    return misclassification_rate\n",
    "\n",
    "# Asymmetric misclassification using p threshold and 1:3 class weights for 0:1\n",
    "\n",
    "def asymm_misclassif(y_true,y_pred,p): \n",
    "    FP = (y_pred.reshape((y_true.shape[0],1))>p) & (y_true==0)\n",
    "    FN = (y_pred.reshape((y_true.shape[0],1))<=p) & (y_true==1)\n",
    "    misclassification_rate = np.mean(FP+np.multiply(FN,3))\n",
    "    return misclassification_rate"
   ]
  },
  {
   "cell_type": "markdown",
   "metadata": {},
   "source": [
    "# Read raw data"
   ]
  },
  {
   "cell_type": "code",
   "execution_count": 4,
   "metadata": {
    "ExecuteTime": {
     "end_time": "2020-08-11T16:00:47.001342Z",
     "start_time": "2020-08-11T16:00:46.714912Z"
    }
   },
   "outputs": [],
   "source": [
    "churndata = pd.read_csv(\"WA_Fn-UseC_-Telco-Customer-Churn.csv\")"
   ]
  },
  {
   "cell_type": "code",
   "execution_count": 8,
   "metadata": {
    "ExecuteTime": {
     "end_time": "2020-04-20T23:22:23.418387Z",
     "start_time": "2020-04-20T23:22:23.413388Z"
    }
   },
   "outputs": [
    {
     "data": {
      "text/plain": [
       "(7043, 21)"
      ]
     },
     "execution_count": 8,
     "metadata": {},
     "output_type": "execute_result"
    }
   ],
   "source": [
    "churndata.shape"
   ]
  },
  {
   "cell_type": "code",
   "execution_count": 83,
   "metadata": {
    "ExecuteTime": {
     "end_time": "2020-02-29T01:26:51.996250Z",
     "start_time": "2020-02-29T01:26:51.939286Z"
    },
    "scrolled": true
   },
   "outputs": [
    {
     "data": {
      "text/html": [
       "<div>\n",
       "<style scoped>\n",
       "    .dataframe tbody tr th:only-of-type {\n",
       "        vertical-align: middle;\n",
       "    }\n",
       "\n",
       "    .dataframe tbody tr th {\n",
       "        vertical-align: top;\n",
       "    }\n",
       "\n",
       "    .dataframe thead th {\n",
       "        text-align: right;\n",
       "    }\n",
       "</style>\n",
       "<table border=\"1\" class=\"dataframe\">\n",
       "  <thead>\n",
       "    <tr style=\"text-align: right;\">\n",
       "      <th></th>\n",
       "      <th>customerID</th>\n",
       "      <th>gender</th>\n",
       "      <th>SeniorCitizen</th>\n",
       "      <th>Partner</th>\n",
       "      <th>Dependents</th>\n",
       "      <th>tenure</th>\n",
       "      <th>PhoneService</th>\n",
       "      <th>MultipleLines</th>\n",
       "      <th>InternetService</th>\n",
       "      <th>OnlineSecurity</th>\n",
       "      <th>...</th>\n",
       "      <th>DeviceProtection</th>\n",
       "      <th>TechSupport</th>\n",
       "      <th>StreamingTV</th>\n",
       "      <th>StreamingMovies</th>\n",
       "      <th>Contract</th>\n",
       "      <th>PaperlessBilling</th>\n",
       "      <th>PaymentMethod</th>\n",
       "      <th>MonthlyCharges</th>\n",
       "      <th>TotalCharges</th>\n",
       "      <th>response</th>\n",
       "    </tr>\n",
       "  </thead>\n",
       "  <tbody>\n",
       "    <tr>\n",
       "      <th>1</th>\n",
       "      <td>5575-GNVDE</td>\n",
       "      <td>Male</td>\n",
       "      <td>0</td>\n",
       "      <td>No</td>\n",
       "      <td>No</td>\n",
       "      <td>34</td>\n",
       "      <td>Yes</td>\n",
       "      <td>No</td>\n",
       "      <td>DSL</td>\n",
       "      <td>Yes</td>\n",
       "      <td>...</td>\n",
       "      <td>Yes</td>\n",
       "      <td>No</td>\n",
       "      <td>No</td>\n",
       "      <td>No</td>\n",
       "      <td>One year</td>\n",
       "      <td>No</td>\n",
       "      <td>Mailed check</td>\n",
       "      <td>56.95</td>\n",
       "      <td>1889.5</td>\n",
       "      <td>0</td>\n",
       "    </tr>\n",
       "    <tr>\n",
       "      <th>2</th>\n",
       "      <td>3668-QPYBK</td>\n",
       "      <td>Male</td>\n",
       "      <td>0</td>\n",
       "      <td>No</td>\n",
       "      <td>No</td>\n",
       "      <td>2</td>\n",
       "      <td>Yes</td>\n",
       "      <td>No</td>\n",
       "      <td>DSL</td>\n",
       "      <td>Yes</td>\n",
       "      <td>...</td>\n",
       "      <td>No</td>\n",
       "      <td>No</td>\n",
       "      <td>No</td>\n",
       "      <td>No</td>\n",
       "      <td>Month-to-month</td>\n",
       "      <td>Yes</td>\n",
       "      <td>Mailed check</td>\n",
       "      <td>53.85</td>\n",
       "      <td>108.15</td>\n",
       "      <td>1</td>\n",
       "    </tr>\n",
       "    <tr>\n",
       "      <th>3</th>\n",
       "      <td>7795-CFOCW</td>\n",
       "      <td>Male</td>\n",
       "      <td>0</td>\n",
       "      <td>No</td>\n",
       "      <td>No</td>\n",
       "      <td>45</td>\n",
       "      <td>No</td>\n",
       "      <td>No phone service</td>\n",
       "      <td>DSL</td>\n",
       "      <td>Yes</td>\n",
       "      <td>...</td>\n",
       "      <td>Yes</td>\n",
       "      <td>Yes</td>\n",
       "      <td>No</td>\n",
       "      <td>No</td>\n",
       "      <td>One year</td>\n",
       "      <td>No</td>\n",
       "      <td>Bank transfer (automatic)</td>\n",
       "      <td>42.30</td>\n",
       "      <td>1840.75</td>\n",
       "      <td>0</td>\n",
       "    </tr>\n",
       "    <tr>\n",
       "      <th>4</th>\n",
       "      <td>9237-HQITU</td>\n",
       "      <td>Female</td>\n",
       "      <td>0</td>\n",
       "      <td>No</td>\n",
       "      <td>No</td>\n",
       "      <td>2</td>\n",
       "      <td>Yes</td>\n",
       "      <td>No</td>\n",
       "      <td>Fiber optic</td>\n",
       "      <td>No</td>\n",
       "      <td>...</td>\n",
       "      <td>No</td>\n",
       "      <td>No</td>\n",
       "      <td>No</td>\n",
       "      <td>No</td>\n",
       "      <td>Month-to-month</td>\n",
       "      <td>Yes</td>\n",
       "      <td>Electronic check</td>\n",
       "      <td>70.70</td>\n",
       "      <td>151.65</td>\n",
       "      <td>1</td>\n",
       "    </tr>\n",
       "    <tr>\n",
       "      <th>5</th>\n",
       "      <td>9305-CDSKC</td>\n",
       "      <td>Female</td>\n",
       "      <td>0</td>\n",
       "      <td>No</td>\n",
       "      <td>No</td>\n",
       "      <td>8</td>\n",
       "      <td>Yes</td>\n",
       "      <td>Yes</td>\n",
       "      <td>Fiber optic</td>\n",
       "      <td>No</td>\n",
       "      <td>...</td>\n",
       "      <td>Yes</td>\n",
       "      <td>No</td>\n",
       "      <td>Yes</td>\n",
       "      <td>Yes</td>\n",
       "      <td>Month-to-month</td>\n",
       "      <td>Yes</td>\n",
       "      <td>Electronic check</td>\n",
       "      <td>99.65</td>\n",
       "      <td>820.5</td>\n",
       "      <td>1</td>\n",
       "    </tr>\n",
       "    <tr>\n",
       "      <th>6</th>\n",
       "      <td>1452-KIOVK</td>\n",
       "      <td>Male</td>\n",
       "      <td>0</td>\n",
       "      <td>No</td>\n",
       "      <td>Yes</td>\n",
       "      <td>22</td>\n",
       "      <td>Yes</td>\n",
       "      <td>Yes</td>\n",
       "      <td>Fiber optic</td>\n",
       "      <td>No</td>\n",
       "      <td>...</td>\n",
       "      <td>No</td>\n",
       "      <td>No</td>\n",
       "      <td>Yes</td>\n",
       "      <td>No</td>\n",
       "      <td>Month-to-month</td>\n",
       "      <td>Yes</td>\n",
       "      <td>Credit card (automatic)</td>\n",
       "      <td>89.10</td>\n",
       "      <td>1949.4</td>\n",
       "      <td>0</td>\n",
       "    </tr>\n",
       "    <tr>\n",
       "      <th>7</th>\n",
       "      <td>6713-OKOMC</td>\n",
       "      <td>Female</td>\n",
       "      <td>0</td>\n",
       "      <td>No</td>\n",
       "      <td>No</td>\n",
       "      <td>10</td>\n",
       "      <td>No</td>\n",
       "      <td>No phone service</td>\n",
       "      <td>DSL</td>\n",
       "      <td>Yes</td>\n",
       "      <td>...</td>\n",
       "      <td>No</td>\n",
       "      <td>No</td>\n",
       "      <td>No</td>\n",
       "      <td>No</td>\n",
       "      <td>Month-to-month</td>\n",
       "      <td>No</td>\n",
       "      <td>Mailed check</td>\n",
       "      <td>29.75</td>\n",
       "      <td>301.9</td>\n",
       "      <td>0</td>\n",
       "    </tr>\n",
       "    <tr>\n",
       "      <th>8</th>\n",
       "      <td>7892-POOKP</td>\n",
       "      <td>Female</td>\n",
       "      <td>0</td>\n",
       "      <td>Yes</td>\n",
       "      <td>No</td>\n",
       "      <td>28</td>\n",
       "      <td>Yes</td>\n",
       "      <td>Yes</td>\n",
       "      <td>Fiber optic</td>\n",
       "      <td>No</td>\n",
       "      <td>...</td>\n",
       "      <td>Yes</td>\n",
       "      <td>Yes</td>\n",
       "      <td>Yes</td>\n",
       "      <td>Yes</td>\n",
       "      <td>Month-to-month</td>\n",
       "      <td>Yes</td>\n",
       "      <td>Electronic check</td>\n",
       "      <td>104.80</td>\n",
       "      <td>3046.05</td>\n",
       "      <td>1</td>\n",
       "    </tr>\n",
       "    <tr>\n",
       "      <th>9</th>\n",
       "      <td>6388-TABGU</td>\n",
       "      <td>Male</td>\n",
       "      <td>0</td>\n",
       "      <td>No</td>\n",
       "      <td>Yes</td>\n",
       "      <td>62</td>\n",
       "      <td>Yes</td>\n",
       "      <td>No</td>\n",
       "      <td>DSL</td>\n",
       "      <td>Yes</td>\n",
       "      <td>...</td>\n",
       "      <td>No</td>\n",
       "      <td>No</td>\n",
       "      <td>No</td>\n",
       "      <td>No</td>\n",
       "      <td>One year</td>\n",
       "      <td>No</td>\n",
       "      <td>Bank transfer (automatic)</td>\n",
       "      <td>56.15</td>\n",
       "      <td>3487.95</td>\n",
       "      <td>0</td>\n",
       "    </tr>\n",
       "  </tbody>\n",
       "</table>\n",
       "<p>9 rows × 21 columns</p>\n",
       "</div>"
      ],
      "text/plain": [
       "   customerID  gender  SeniorCitizen Partner Dependents  tenure PhoneService  \\\n",
       "1  5575-GNVDE    Male              0      No         No      34          Yes   \n",
       "2  3668-QPYBK    Male              0      No         No       2          Yes   \n",
       "3  7795-CFOCW    Male              0      No         No      45           No   \n",
       "4  9237-HQITU  Female              0      No         No       2          Yes   \n",
       "5  9305-CDSKC  Female              0      No         No       8          Yes   \n",
       "6  1452-KIOVK    Male              0      No        Yes      22          Yes   \n",
       "7  6713-OKOMC  Female              0      No         No      10           No   \n",
       "8  7892-POOKP  Female              0     Yes         No      28          Yes   \n",
       "9  6388-TABGU    Male              0      No        Yes      62          Yes   \n",
       "\n",
       "      MultipleLines InternetService OnlineSecurity  ... DeviceProtection  \\\n",
       "1                No             DSL            Yes  ...              Yes   \n",
       "2                No             DSL            Yes  ...               No   \n",
       "3  No phone service             DSL            Yes  ...              Yes   \n",
       "4                No     Fiber optic             No  ...               No   \n",
       "5               Yes     Fiber optic             No  ...              Yes   \n",
       "6               Yes     Fiber optic             No  ...               No   \n",
       "7  No phone service             DSL            Yes  ...               No   \n",
       "8               Yes     Fiber optic             No  ...              Yes   \n",
       "9                No             DSL            Yes  ...               No   \n",
       "\n",
       "  TechSupport StreamingTV StreamingMovies        Contract PaperlessBilling  \\\n",
       "1          No          No              No        One year               No   \n",
       "2          No          No              No  Month-to-month              Yes   \n",
       "3         Yes          No              No        One year               No   \n",
       "4          No          No              No  Month-to-month              Yes   \n",
       "5          No         Yes             Yes  Month-to-month              Yes   \n",
       "6          No         Yes              No  Month-to-month              Yes   \n",
       "7          No          No              No  Month-to-month               No   \n",
       "8         Yes         Yes             Yes  Month-to-month              Yes   \n",
       "9          No          No              No        One year               No   \n",
       "\n",
       "               PaymentMethod MonthlyCharges  TotalCharges response  \n",
       "1               Mailed check          56.95        1889.5        0  \n",
       "2               Mailed check          53.85        108.15        1  \n",
       "3  Bank transfer (automatic)          42.30       1840.75        0  \n",
       "4           Electronic check          70.70        151.65        1  \n",
       "5           Electronic check          99.65         820.5        1  \n",
       "6    Credit card (automatic)          89.10        1949.4        0  \n",
       "7               Mailed check          29.75         301.9        0  \n",
       "8           Electronic check         104.80       3046.05        1  \n",
       "9  Bank transfer (automatic)          56.15       3487.95        0  \n",
       "\n",
       "[9 rows x 21 columns]"
      ]
     },
     "metadata": {},
     "output_type": "display_data"
    }
   ],
   "source": [
    "display(churndata.iloc[1:10,:])"
   ]
  },
  {
   "cell_type": "markdown",
   "metadata": {},
   "source": [
    "# Data quality"
   ]
  },
  {
   "cell_type": "code",
   "execution_count": 9,
   "metadata": {
    "ExecuteTime": {
     "end_time": "2020-04-20T23:22:27.506227Z",
     "start_time": "2020-04-20T23:22:27.496255Z"
    },
    "scrolled": true
   },
   "outputs": [
    {
     "data": {
      "text/plain": [
       "customerID           object\n",
       "gender               object\n",
       "SeniorCitizen         int64\n",
       "Partner              object\n",
       "Dependents           object\n",
       "tenure                int64\n",
       "PhoneService         object\n",
       "MultipleLines        object\n",
       "InternetService      object\n",
       "OnlineSecurity       object\n",
       "OnlineBackup         object\n",
       "DeviceProtection     object\n",
       "TechSupport          object\n",
       "StreamingTV          object\n",
       "StreamingMovies      object\n",
       "Contract             object\n",
       "PaperlessBilling     object\n",
       "PaymentMethod        object\n",
       "MonthlyCharges      float64\n",
       "TotalCharges         object\n",
       "Churn                object\n",
       "dtype: object"
      ]
     },
     "execution_count": 9,
     "metadata": {},
     "output_type": "execute_result"
    }
   ],
   "source": [
    "# Columns\n",
    "\n",
    "churndata.dtypes"
   ]
  },
  {
   "cell_type": "code",
   "execution_count": 5,
   "metadata": {
    "ExecuteTime": {
     "end_time": "2020-08-11T16:00:57.008770Z",
     "start_time": "2020-08-11T16:00:56.944813Z"
    }
   },
   "outputs": [],
   "source": [
    "# Convert datatype of TotalCharges column\n",
    "churndata['TotalCharges'].replace(\" \",np.nan,inplace=True)\n",
    "churndata['TotalCharges'] = churndata['TotalCharges'].astype(\"float\")"
   ]
  },
  {
   "cell_type": "code",
   "execution_count": 6,
   "metadata": {
    "ExecuteTime": {
     "end_time": "2020-07-26T18:05:13.407842Z",
     "start_time": "2020-07-26T18:05:13.389853Z"
    }
   },
   "outputs": [
    {
     "name": "stdout",
     "output_type": "stream",
     "text": [
      "7043\n",
      "(7043, 21)\n"
     ]
    }
   ],
   "source": [
    "# Primary key uniqueness\n",
    "\n",
    "print(churndata['customerID'].nunique())\n",
    "print(churndata.shape)"
   ]
  },
  {
   "cell_type": "code",
   "execution_count": 5,
   "metadata": {
    "ExecuteTime": {
     "end_time": "2020-05-10T16:36:44.993739Z",
     "start_time": "2020-05-10T16:36:44.973751Z"
    },
    "scrolled": false
   },
   "outputs": [
    {
     "data": {
      "text/plain": [
       "customerID           0\n",
       "gender               0\n",
       "SeniorCitizen        0\n",
       "Partner              0\n",
       "Dependents           0\n",
       "tenure               0\n",
       "PhoneService         0\n",
       "MultipleLines        0\n",
       "InternetService      0\n",
       "OnlineSecurity       0\n",
       "OnlineBackup         0\n",
       "DeviceProtection     0\n",
       "TechSupport          0\n",
       "StreamingTV          0\n",
       "StreamingMovies      0\n",
       "Contract             0\n",
       "PaperlessBilling     0\n",
       "PaymentMethod        0\n",
       "MonthlyCharges       0\n",
       "TotalCharges        11\n",
       "Churn                0\n",
       "dtype: int64"
      ]
     },
     "execution_count": 5,
     "metadata": {},
     "output_type": "execute_result"
    }
   ],
   "source": [
    "\n",
    "churndata.isna().sum()\n",
    "\n",
    "# test = churndata.dropna(axis=0)\n",
    "# test.to_csv(\"TelcoChurnClean.csv\")"
   ]
  },
  {
   "cell_type": "markdown",
   "metadata": {},
   "source": [
    "**11** missing values found in the column TotalCharges."
   ]
  },
  {
   "cell_type": "markdown",
   "metadata": {},
   "source": [
    "# Data Exploration"
   ]
  },
  {
   "cell_type": "markdown",
   "metadata": {},
   "source": [
    "## Convert response variable into integer 0/1"
   ]
  },
  {
   "cell_type": "code",
   "execution_count": 6,
   "metadata": {
    "ExecuteTime": {
     "end_time": "2020-08-11T16:01:04.260525Z",
     "start_time": "2020-08-11T16:01:04.045651Z"
    },
    "scrolled": true
   },
   "outputs": [
    {
     "data": {
      "text/html": [
       "<div>\n",
       "<style scoped>\n",
       "    .dataframe tbody tr th:only-of-type {\n",
       "        vertical-align: middle;\n",
       "    }\n",
       "\n",
       "    .dataframe tbody tr th {\n",
       "        vertical-align: top;\n",
       "    }\n",
       "\n",
       "    .dataframe thead th {\n",
       "        text-align: right;\n",
       "    }\n",
       "</style>\n",
       "<table border=\"1\" class=\"dataframe\">\n",
       "  <thead>\n",
       "    <tr style=\"text-align: right;\">\n",
       "      <th></th>\n",
       "      <th>customerID</th>\n",
       "      <th>gender</th>\n",
       "      <th>SeniorCitizen</th>\n",
       "      <th>Partner</th>\n",
       "      <th>Dependents</th>\n",
       "      <th>tenure</th>\n",
       "      <th>PhoneService</th>\n",
       "      <th>MultipleLines</th>\n",
       "      <th>InternetService</th>\n",
       "      <th>OnlineSecurity</th>\n",
       "      <th>...</th>\n",
       "      <th>DeviceProtection</th>\n",
       "      <th>TechSupport</th>\n",
       "      <th>StreamingTV</th>\n",
       "      <th>StreamingMovies</th>\n",
       "      <th>Contract</th>\n",
       "      <th>PaperlessBilling</th>\n",
       "      <th>PaymentMethod</th>\n",
       "      <th>MonthlyCharges</th>\n",
       "      <th>TotalCharges</th>\n",
       "      <th>response</th>\n",
       "    </tr>\n",
       "  </thead>\n",
       "  <tbody>\n",
       "    <tr>\n",
       "      <th>0</th>\n",
       "      <td>7590-VHVEG</td>\n",
       "      <td>Female</td>\n",
       "      <td>0</td>\n",
       "      <td>Yes</td>\n",
       "      <td>No</td>\n",
       "      <td>1</td>\n",
       "      <td>No</td>\n",
       "      <td>No phone service</td>\n",
       "      <td>DSL</td>\n",
       "      <td>No</td>\n",
       "      <td>...</td>\n",
       "      <td>No</td>\n",
       "      <td>No</td>\n",
       "      <td>No</td>\n",
       "      <td>No</td>\n",
       "      <td>Month-to-month</td>\n",
       "      <td>Yes</td>\n",
       "      <td>Electronic check</td>\n",
       "      <td>29.85</td>\n",
       "      <td>29.85</td>\n",
       "      <td>0</td>\n",
       "    </tr>\n",
       "    <tr>\n",
       "      <th>1</th>\n",
       "      <td>5575-GNVDE</td>\n",
       "      <td>Male</td>\n",
       "      <td>0</td>\n",
       "      <td>No</td>\n",
       "      <td>No</td>\n",
       "      <td>34</td>\n",
       "      <td>Yes</td>\n",
       "      <td>No</td>\n",
       "      <td>DSL</td>\n",
       "      <td>Yes</td>\n",
       "      <td>...</td>\n",
       "      <td>Yes</td>\n",
       "      <td>No</td>\n",
       "      <td>No</td>\n",
       "      <td>No</td>\n",
       "      <td>One year</td>\n",
       "      <td>No</td>\n",
       "      <td>Mailed check</td>\n",
       "      <td>56.95</td>\n",
       "      <td>1889.50</td>\n",
       "      <td>0</td>\n",
       "    </tr>\n",
       "    <tr>\n",
       "      <th>2</th>\n",
       "      <td>3668-QPYBK</td>\n",
       "      <td>Male</td>\n",
       "      <td>0</td>\n",
       "      <td>No</td>\n",
       "      <td>No</td>\n",
       "      <td>2</td>\n",
       "      <td>Yes</td>\n",
       "      <td>No</td>\n",
       "      <td>DSL</td>\n",
       "      <td>Yes</td>\n",
       "      <td>...</td>\n",
       "      <td>No</td>\n",
       "      <td>No</td>\n",
       "      <td>No</td>\n",
       "      <td>No</td>\n",
       "      <td>Month-to-month</td>\n",
       "      <td>Yes</td>\n",
       "      <td>Mailed check</td>\n",
       "      <td>53.85</td>\n",
       "      <td>108.15</td>\n",
       "      <td>1</td>\n",
       "    </tr>\n",
       "    <tr>\n",
       "      <th>3</th>\n",
       "      <td>7795-CFOCW</td>\n",
       "      <td>Male</td>\n",
       "      <td>0</td>\n",
       "      <td>No</td>\n",
       "      <td>No</td>\n",
       "      <td>45</td>\n",
       "      <td>No</td>\n",
       "      <td>No phone service</td>\n",
       "      <td>DSL</td>\n",
       "      <td>Yes</td>\n",
       "      <td>...</td>\n",
       "      <td>Yes</td>\n",
       "      <td>Yes</td>\n",
       "      <td>No</td>\n",
       "      <td>No</td>\n",
       "      <td>One year</td>\n",
       "      <td>No</td>\n",
       "      <td>Bank transfer (automatic)</td>\n",
       "      <td>42.30</td>\n",
       "      <td>1840.75</td>\n",
       "      <td>0</td>\n",
       "    </tr>\n",
       "    <tr>\n",
       "      <th>4</th>\n",
       "      <td>9237-HQITU</td>\n",
       "      <td>Female</td>\n",
       "      <td>0</td>\n",
       "      <td>No</td>\n",
       "      <td>No</td>\n",
       "      <td>2</td>\n",
       "      <td>Yes</td>\n",
       "      <td>No</td>\n",
       "      <td>Fiber optic</td>\n",
       "      <td>No</td>\n",
       "      <td>...</td>\n",
       "      <td>No</td>\n",
       "      <td>No</td>\n",
       "      <td>No</td>\n",
       "      <td>No</td>\n",
       "      <td>Month-to-month</td>\n",
       "      <td>Yes</td>\n",
       "      <td>Electronic check</td>\n",
       "      <td>70.70</td>\n",
       "      <td>151.65</td>\n",
       "      <td>1</td>\n",
       "    </tr>\n",
       "    <tr>\n",
       "      <th>...</th>\n",
       "      <td>...</td>\n",
       "      <td>...</td>\n",
       "      <td>...</td>\n",
       "      <td>...</td>\n",
       "      <td>...</td>\n",
       "      <td>...</td>\n",
       "      <td>...</td>\n",
       "      <td>...</td>\n",
       "      <td>...</td>\n",
       "      <td>...</td>\n",
       "      <td>...</td>\n",
       "      <td>...</td>\n",
       "      <td>...</td>\n",
       "      <td>...</td>\n",
       "      <td>...</td>\n",
       "      <td>...</td>\n",
       "      <td>...</td>\n",
       "      <td>...</td>\n",
       "      <td>...</td>\n",
       "      <td>...</td>\n",
       "      <td>...</td>\n",
       "    </tr>\n",
       "    <tr>\n",
       "      <th>7038</th>\n",
       "      <td>6840-RESVB</td>\n",
       "      <td>Male</td>\n",
       "      <td>0</td>\n",
       "      <td>Yes</td>\n",
       "      <td>Yes</td>\n",
       "      <td>24</td>\n",
       "      <td>Yes</td>\n",
       "      <td>Yes</td>\n",
       "      <td>DSL</td>\n",
       "      <td>Yes</td>\n",
       "      <td>...</td>\n",
       "      <td>Yes</td>\n",
       "      <td>Yes</td>\n",
       "      <td>Yes</td>\n",
       "      <td>Yes</td>\n",
       "      <td>One year</td>\n",
       "      <td>Yes</td>\n",
       "      <td>Mailed check</td>\n",
       "      <td>84.80</td>\n",
       "      <td>1990.50</td>\n",
       "      <td>0</td>\n",
       "    </tr>\n",
       "    <tr>\n",
       "      <th>7039</th>\n",
       "      <td>2234-XADUH</td>\n",
       "      <td>Female</td>\n",
       "      <td>0</td>\n",
       "      <td>Yes</td>\n",
       "      <td>Yes</td>\n",
       "      <td>72</td>\n",
       "      <td>Yes</td>\n",
       "      <td>Yes</td>\n",
       "      <td>Fiber optic</td>\n",
       "      <td>No</td>\n",
       "      <td>...</td>\n",
       "      <td>Yes</td>\n",
       "      <td>No</td>\n",
       "      <td>Yes</td>\n",
       "      <td>Yes</td>\n",
       "      <td>One year</td>\n",
       "      <td>Yes</td>\n",
       "      <td>Credit card (automatic)</td>\n",
       "      <td>103.20</td>\n",
       "      <td>7362.90</td>\n",
       "      <td>0</td>\n",
       "    </tr>\n",
       "    <tr>\n",
       "      <th>7040</th>\n",
       "      <td>4801-JZAZL</td>\n",
       "      <td>Female</td>\n",
       "      <td>0</td>\n",
       "      <td>Yes</td>\n",
       "      <td>Yes</td>\n",
       "      <td>11</td>\n",
       "      <td>No</td>\n",
       "      <td>No phone service</td>\n",
       "      <td>DSL</td>\n",
       "      <td>Yes</td>\n",
       "      <td>...</td>\n",
       "      <td>No</td>\n",
       "      <td>No</td>\n",
       "      <td>No</td>\n",
       "      <td>No</td>\n",
       "      <td>Month-to-month</td>\n",
       "      <td>Yes</td>\n",
       "      <td>Electronic check</td>\n",
       "      <td>29.60</td>\n",
       "      <td>346.45</td>\n",
       "      <td>0</td>\n",
       "    </tr>\n",
       "    <tr>\n",
       "      <th>7041</th>\n",
       "      <td>8361-LTMKD</td>\n",
       "      <td>Male</td>\n",
       "      <td>1</td>\n",
       "      <td>Yes</td>\n",
       "      <td>No</td>\n",
       "      <td>4</td>\n",
       "      <td>Yes</td>\n",
       "      <td>Yes</td>\n",
       "      <td>Fiber optic</td>\n",
       "      <td>No</td>\n",
       "      <td>...</td>\n",
       "      <td>No</td>\n",
       "      <td>No</td>\n",
       "      <td>No</td>\n",
       "      <td>No</td>\n",
       "      <td>Month-to-month</td>\n",
       "      <td>Yes</td>\n",
       "      <td>Mailed check</td>\n",
       "      <td>74.40</td>\n",
       "      <td>306.60</td>\n",
       "      <td>1</td>\n",
       "    </tr>\n",
       "    <tr>\n",
       "      <th>7042</th>\n",
       "      <td>3186-AJIEK</td>\n",
       "      <td>Male</td>\n",
       "      <td>0</td>\n",
       "      <td>No</td>\n",
       "      <td>No</td>\n",
       "      <td>66</td>\n",
       "      <td>Yes</td>\n",
       "      <td>No</td>\n",
       "      <td>Fiber optic</td>\n",
       "      <td>Yes</td>\n",
       "      <td>...</td>\n",
       "      <td>Yes</td>\n",
       "      <td>Yes</td>\n",
       "      <td>Yes</td>\n",
       "      <td>Yes</td>\n",
       "      <td>Two year</td>\n",
       "      <td>Yes</td>\n",
       "      <td>Bank transfer (automatic)</td>\n",
       "      <td>105.65</td>\n",
       "      <td>6844.50</td>\n",
       "      <td>0</td>\n",
       "    </tr>\n",
       "  </tbody>\n",
       "</table>\n",
       "<p>7043 rows × 21 columns</p>\n",
       "</div>"
      ],
      "text/plain": [
       "      customerID  gender  SeniorCitizen Partner Dependents  tenure  \\\n",
       "0     7590-VHVEG  Female              0     Yes         No       1   \n",
       "1     5575-GNVDE    Male              0      No         No      34   \n",
       "2     3668-QPYBK    Male              0      No         No       2   \n",
       "3     7795-CFOCW    Male              0      No         No      45   \n",
       "4     9237-HQITU  Female              0      No         No       2   \n",
       "...          ...     ...            ...     ...        ...     ...   \n",
       "7038  6840-RESVB    Male              0     Yes        Yes      24   \n",
       "7039  2234-XADUH  Female              0     Yes        Yes      72   \n",
       "7040  4801-JZAZL  Female              0     Yes        Yes      11   \n",
       "7041  8361-LTMKD    Male              1     Yes         No       4   \n",
       "7042  3186-AJIEK    Male              0      No         No      66   \n",
       "\n",
       "     PhoneService     MultipleLines InternetService OnlineSecurity  ...  \\\n",
       "0              No  No phone service             DSL             No  ...   \n",
       "1             Yes                No             DSL            Yes  ...   \n",
       "2             Yes                No             DSL            Yes  ...   \n",
       "3              No  No phone service             DSL            Yes  ...   \n",
       "4             Yes                No     Fiber optic             No  ...   \n",
       "...           ...               ...             ...            ...  ...   \n",
       "7038          Yes               Yes             DSL            Yes  ...   \n",
       "7039          Yes               Yes     Fiber optic             No  ...   \n",
       "7040           No  No phone service             DSL            Yes  ...   \n",
       "7041          Yes               Yes     Fiber optic             No  ...   \n",
       "7042          Yes                No     Fiber optic            Yes  ...   \n",
       "\n",
       "     DeviceProtection TechSupport StreamingTV StreamingMovies        Contract  \\\n",
       "0                  No          No          No              No  Month-to-month   \n",
       "1                 Yes          No          No              No        One year   \n",
       "2                  No          No          No              No  Month-to-month   \n",
       "3                 Yes         Yes          No              No        One year   \n",
       "4                  No          No          No              No  Month-to-month   \n",
       "...               ...         ...         ...             ...             ...   \n",
       "7038              Yes         Yes         Yes             Yes        One year   \n",
       "7039              Yes          No         Yes             Yes        One year   \n",
       "7040               No          No          No              No  Month-to-month   \n",
       "7041               No          No          No              No  Month-to-month   \n",
       "7042              Yes         Yes         Yes             Yes        Two year   \n",
       "\n",
       "     PaperlessBilling              PaymentMethod MonthlyCharges  TotalCharges  \\\n",
       "0                 Yes           Electronic check          29.85         29.85   \n",
       "1                  No               Mailed check          56.95       1889.50   \n",
       "2                 Yes               Mailed check          53.85        108.15   \n",
       "3                  No  Bank transfer (automatic)          42.30       1840.75   \n",
       "4                 Yes           Electronic check          70.70        151.65   \n",
       "...               ...                        ...            ...           ...   \n",
       "7038              Yes               Mailed check          84.80       1990.50   \n",
       "7039              Yes    Credit card (automatic)         103.20       7362.90   \n",
       "7040              Yes           Electronic check          29.60        346.45   \n",
       "7041              Yes               Mailed check          74.40        306.60   \n",
       "7042              Yes  Bank transfer (automatic)         105.65       6844.50   \n",
       "\n",
       "      response  \n",
       "0            0  \n",
       "1            0  \n",
       "2            1  \n",
       "3            0  \n",
       "4            1  \n",
       "...        ...  \n",
       "7038         0  \n",
       "7039         0  \n",
       "7040         0  \n",
       "7041         1  \n",
       "7042         0  \n",
       "\n",
       "[7043 rows x 21 columns]"
      ]
     },
     "metadata": {},
     "output_type": "display_data"
    }
   ],
   "source": [
    "churndata['response'] = churndata['Churn'].apply(lambda x: 1 if x == 'Yes' else 0)\n",
    "churndata.drop(['Churn'],axis=1,inplace=True)\n",
    "display(churndata)"
   ]
  },
  {
   "cell_type": "markdown",
   "metadata": {},
   "source": [
    "## Stacked bar: All categorical variables vs response"
   ]
  },
  {
   "cell_type": "markdown",
   "metadata": {
    "ExecuteTime": {
     "end_time": "2020-02-28T04:59:04.747367Z",
     "start_time": "2020-02-28T04:59:04.739372Z"
    },
    "hide_input": true
   },
   "source": [
    "Let us look at the distribution of the response variable across levels of each categorical variable"
   ]
  },
  {
   "cell_type": "code",
   "execution_count": 82,
   "metadata": {
    "ExecuteTime": {
     "end_time": "2020-02-28T22:53:20.341809Z",
     "start_time": "2020-02-28T22:51:02.292049Z"
    },
    "hide_input": true,
    "scrolled": false
   },
   "outputs": [
    {
     "data": {
      "image/png": "[encoded data removed]",
      "text/plain": [
       "<Figure size 2880x2880 with 16 Axes>"
      ]
     },
     "metadata": {
      "needs_background": "light"
     },
     "output_type": "display_data"
    }
   ],
   "source": [
    "df = churndata.copy()\n",
    "target = 'response'\n",
    "dataid = 'customerID'\n",
    "\n",
    "categcolnames = list(df.select_dtypes(include = \"object\").columns)\n",
    "categcolnames.remove('customerID')\n",
    "\n",
    "\n",
    "\n",
    "\n",
    "fig, axes = plt.subplots(4, 4, figsize=(40,40))\n",
    "\n",
    "\n",
    "for var,ax in zip(categcolnames,axes.flatten()):\n",
    "\n",
    "    plotdf1 = df[[dataid,target,var]].groupby([var,target])[[dataid]].nunique().reset_index().pivot(index = var,columns = target,values =dataid).reset_index().replace(np.nan,0)\n",
    "    totals = [i+j for i,j in zip(plotdf1[0], plotdf1[1])]\n",
    "    nonevents = [i / j * 100 for i,j in zip(plotdf1[0], totals)]\n",
    "    events = [i / j * 100 for i,j in zip(plotdf1[1], totals)]\n",
    "\n",
    "    barWidth = 0.85\n",
    "    names = df[var].unique()\n",
    "    r = list(range(len(names)))\n",
    "    # Create nonevents bar\n",
    "    ax.bar(r, nonevents, color='blue', edgecolor='white', width=barWidth)\n",
    "    # Create events Bars\n",
    "    ax.bar(r, events, bottom=nonevents, color='orange', edgecolor='white', width=barWidth)\n",
    "    # Custom x axis\n",
    "#     ax.xticks(r, names, rotation=45)\n",
    "    ax.set_title(var)\n",
    "    ax.set_xticks(r)\n",
    "    ax.set_xticklabels(names)\n"
   ]
  },
  {
   "cell_type": "markdown",
   "metadata": {},
   "source": [
    "## Histograms - Continuous variables vs response"
   ]
  },
  {
   "cell_type": "markdown",
   "metadata": {
    "hide_input": true
   },
   "source": [
    "Let us now check distribution of continuous variables for the churn and non-churn customers"
   ]
  },
  {
   "cell_type": "code",
   "execution_count": 103,
   "metadata": {
    "ExecuteTime": {
     "end_time": "2020-05-10T21:02:03.063671Z",
     "start_time": "2020-05-10T21:02:02.213161Z"
    },
    "hide_input": false,
    "scrolled": true
   },
   "outputs": [
    {
     "data": {
      "image/png": "[encoded data removed]",
      "text/plain": [
       "<Figure size 1440x432 with 3 Axes>"
      ]
     },
     "metadata": {
      "needs_background": "light"
     },
     "output_type": "display_data"
    }
   ],
   "source": [
    "warnings.simplefilter('ignore')\n",
    "\n",
    "df0 = churndata[churndata['response']==0]\n",
    "df1 = churndata[churndata['response']==1]\n",
    "\n",
    "numericcolnames = list(df.select_dtypes(exclude = \"object\").columns)\n",
    "\n",
    "fig, axes = plt.subplots(1, 3, figsize=(20,6))\n",
    "\n",
    "for var,axe in zip(numericcolnames,axes.flatten()):\n",
    "    sb.distplot(df0[var],color=\"blue\",label='Non-Churn',ax=axe);\n",
    "    sb.distplot(df1[var],color=\"orange\",label='Churn',ax=axe);\n",
    "    axe.legend(loc='best');\n"
   ]
  },
  {
   "cell_type": "markdown",
   "metadata": {},
   "source": [
    "<br>\n",
    "\n",
    "There is a significant difference between the distributions of **Tenure** and **Monthly Charges** for Churned and Retained customers"
   ]
  },
  {
   "cell_type": "markdown",
   "metadata": {},
   "source": [
    "## Class proportion"
   ]
  },
  {
   "cell_type": "code",
   "execution_count": 8,
   "metadata": {
    "ExecuteTime": {
     "end_time": "2020-05-10T16:41:42.486129Z",
     "start_time": "2020-05-10T16:41:42.479155Z"
    }
   },
   "outputs": [
    {
     "name": "stdout",
     "output_type": "stream",
     "text": [
      "proportion of churned customers is:  26.54 %\n"
     ]
    }
   ],
   "source": [
    "print('proportion of churned customers is: ',np.around((churndata['response'].mean())*100,decimals=2),'%')"
   ]
  },
  {
   "cell_type": "markdown",
   "metadata": {},
   "source": [
    "## Variable Summary"
   ]
  },
  {
   "cell_type": "code",
   "execution_count": 8,
   "metadata": {
    "ExecuteTime": {
     "end_time": "2020-03-02T18:15:03.015778Z",
     "start_time": "2020-03-02T18:15:02.857778Z"
    }
   },
   "outputs": [
    {
     "data": {
      "text/html": [
       "<div>\n",
       "<style scoped>\n",
       "    .dataframe tbody tr th:only-of-type {\n",
       "        vertical-align: middle;\n",
       "    }\n",
       "\n",
       "    .dataframe tbody tr th {\n",
       "        vertical-align: top;\n",
       "    }\n",
       "\n",
       "    .dataframe thead th {\n",
       "        text-align: right;\n",
       "    }\n",
       "</style>\n",
       "<table border=\"1\" class=\"dataframe\">\n",
       "  <thead>\n",
       "    <tr style=\"text-align: right;\">\n",
       "      <th></th>\n",
       "      <th>gender</th>\n",
       "      <th>SeniorCitizen</th>\n",
       "      <th>Partner</th>\n",
       "      <th>Dependents</th>\n",
       "      <th>tenure</th>\n",
       "      <th>PhoneService</th>\n",
       "      <th>MultipleLines</th>\n",
       "      <th>InternetService</th>\n",
       "      <th>OnlineSecurity</th>\n",
       "      <th>OnlineBackup</th>\n",
       "      <th>DeviceProtection</th>\n",
       "      <th>TechSupport</th>\n",
       "      <th>StreamingTV</th>\n",
       "      <th>StreamingMovies</th>\n",
       "      <th>Contract</th>\n",
       "      <th>PaperlessBilling</th>\n",
       "      <th>PaymentMethod</th>\n",
       "      <th>MonthlyCharges</th>\n",
       "      <th>TotalCharges</th>\n",
       "      <th>response</th>\n",
       "    </tr>\n",
       "  </thead>\n",
       "  <tbody>\n",
       "    <tr>\n",
       "      <th>count</th>\n",
       "      <td>7043</td>\n",
       "      <td>7043.000000</td>\n",
       "      <td>7043</td>\n",
       "      <td>7043</td>\n",
       "      <td>7043.000000</td>\n",
       "      <td>7043</td>\n",
       "      <td>7043</td>\n",
       "      <td>7043</td>\n",
       "      <td>7043</td>\n",
       "      <td>7043</td>\n",
       "      <td>7043</td>\n",
       "      <td>7043</td>\n",
       "      <td>7043</td>\n",
       "      <td>7043</td>\n",
       "      <td>7043</td>\n",
       "      <td>7043</td>\n",
       "      <td>7043</td>\n",
       "      <td>7043.000000</td>\n",
       "      <td>7043</td>\n",
       "      <td>7043.000000</td>\n",
       "    </tr>\n",
       "    <tr>\n",
       "      <th>unique</th>\n",
       "      <td>2</td>\n",
       "      <td>NaN</td>\n",
       "      <td>2</td>\n",
       "      <td>2</td>\n",
       "      <td>NaN</td>\n",
       "      <td>2</td>\n",
       "      <td>3</td>\n",
       "      <td>3</td>\n",
       "      <td>3</td>\n",
       "      <td>3</td>\n",
       "      <td>3</td>\n",
       "      <td>3</td>\n",
       "      <td>3</td>\n",
       "      <td>3</td>\n",
       "      <td>3</td>\n",
       "      <td>2</td>\n",
       "      <td>4</td>\n",
       "      <td>NaN</td>\n",
       "      <td>6531</td>\n",
       "      <td>NaN</td>\n",
       "    </tr>\n",
       "    <tr>\n",
       "      <th>top</th>\n",
       "      <td>Male</td>\n",
       "      <td>NaN</td>\n",
       "      <td>No</td>\n",
       "      <td>No</td>\n",
       "      <td>NaN</td>\n",
       "      <td>Yes</td>\n",
       "      <td>No</td>\n",
       "      <td>Fiber optic</td>\n",
       "      <td>No</td>\n",
       "      <td>No</td>\n",
       "      <td>No</td>\n",
       "      <td>No</td>\n",
       "      <td>No</td>\n",
       "      <td>No</td>\n",
       "      <td>Month-to-month</td>\n",
       "      <td>Yes</td>\n",
       "      <td>Electronic check</td>\n",
       "      <td>NaN</td>\n",
       "      <td></td>\n",
       "      <td>NaN</td>\n",
       "    </tr>\n",
       "    <tr>\n",
       "      <th>freq</th>\n",
       "      <td>3555</td>\n",
       "      <td>NaN</td>\n",
       "      <td>3641</td>\n",
       "      <td>4933</td>\n",
       "      <td>NaN</td>\n",
       "      <td>6361</td>\n",
       "      <td>3390</td>\n",
       "      <td>3096</td>\n",
       "      <td>3498</td>\n",
       "      <td>3088</td>\n",
       "      <td>3095</td>\n",
       "      <td>3473</td>\n",
       "      <td>2810</td>\n",
       "      <td>2785</td>\n",
       "      <td>3875</td>\n",
       "      <td>4171</td>\n",
       "      <td>2365</td>\n",
       "      <td>NaN</td>\n",
       "      <td>11</td>\n",
       "      <td>NaN</td>\n",
       "    </tr>\n",
       "    <tr>\n",
       "      <th>mean</th>\n",
       "      <td>NaN</td>\n",
       "      <td>0.162147</td>\n",
       "      <td>NaN</td>\n",
       "      <td>NaN</td>\n",
       "      <td>32.371149</td>\n",
       "      <td>NaN</td>\n",
       "      <td>NaN</td>\n",
       "      <td>NaN</td>\n",
       "      <td>NaN</td>\n",
       "      <td>NaN</td>\n",
       "      <td>NaN</td>\n",
       "      <td>NaN</td>\n",
       "      <td>NaN</td>\n",
       "      <td>NaN</td>\n",
       "      <td>NaN</td>\n",
       "      <td>NaN</td>\n",
       "      <td>NaN</td>\n",
       "      <td>64.761692</td>\n",
       "      <td>NaN</td>\n",
       "      <td>0.265370</td>\n",
       "    </tr>\n",
       "    <tr>\n",
       "      <th>std</th>\n",
       "      <td>NaN</td>\n",
       "      <td>0.368612</td>\n",
       "      <td>NaN</td>\n",
       "      <td>NaN</td>\n",
       "      <td>24.559481</td>\n",
       "      <td>NaN</td>\n",
       "      <td>NaN</td>\n",
       "      <td>NaN</td>\n",
       "      <td>NaN</td>\n",
       "      <td>NaN</td>\n",
       "      <td>NaN</td>\n",
       "      <td>NaN</td>\n",
       "      <td>NaN</td>\n",
       "      <td>NaN</td>\n",
       "      <td>NaN</td>\n",
       "      <td>NaN</td>\n",
       "      <td>NaN</td>\n",
       "      <td>30.090047</td>\n",
       "      <td>NaN</td>\n",
       "      <td>0.441561</td>\n",
       "    </tr>\n",
       "    <tr>\n",
       "      <th>min</th>\n",
       "      <td>NaN</td>\n",
       "      <td>0.000000</td>\n",
       "      <td>NaN</td>\n",
       "      <td>NaN</td>\n",
       "      <td>0.000000</td>\n",
       "      <td>NaN</td>\n",
       "      <td>NaN</td>\n",
       "      <td>NaN</td>\n",
       "      <td>NaN</td>\n",
       "      <td>NaN</td>\n",
       "      <td>NaN</td>\n",
       "      <td>NaN</td>\n",
       "      <td>NaN</td>\n",
       "      <td>NaN</td>\n",
       "      <td>NaN</td>\n",
       "      <td>NaN</td>\n",
       "      <td>NaN</td>\n",
       "      <td>18.250000</td>\n",
       "      <td>NaN</td>\n",
       "      <td>0.000000</td>\n",
       "    </tr>\n",
       "    <tr>\n",
       "      <th>25%</th>\n",
       "      <td>NaN</td>\n",
       "      <td>0.000000</td>\n",
       "      <td>NaN</td>\n",
       "      <td>NaN</td>\n",
       "      <td>9.000000</td>\n",
       "      <td>NaN</td>\n",
       "      <td>NaN</td>\n",
       "      <td>NaN</td>\n",
       "      <td>NaN</td>\n",
       "      <td>NaN</td>\n",
       "      <td>NaN</td>\n",
       "      <td>NaN</td>\n",
       "      <td>NaN</td>\n",
       "      <td>NaN</td>\n",
       "      <td>NaN</td>\n",
       "      <td>NaN</td>\n",
       "      <td>NaN</td>\n",
       "      <td>35.500000</td>\n",
       "      <td>NaN</td>\n",
       "      <td>0.000000</td>\n",
       "    </tr>\n",
       "    <tr>\n",
       "      <th>50%</th>\n",
       "      <td>NaN</td>\n",
       "      <td>0.000000</td>\n",
       "      <td>NaN</td>\n",
       "      <td>NaN</td>\n",
       "      <td>29.000000</td>\n",
       "      <td>NaN</td>\n",
       "      <td>NaN</td>\n",
       "      <td>NaN</td>\n",
       "      <td>NaN</td>\n",
       "      <td>NaN</td>\n",
       "      <td>NaN</td>\n",
       "      <td>NaN</td>\n",
       "      <td>NaN</td>\n",
       "      <td>NaN</td>\n",
       "      <td>NaN</td>\n",
       "      <td>NaN</td>\n",
       "      <td>NaN</td>\n",
       "      <td>70.350000</td>\n",
       "      <td>NaN</td>\n",
       "      <td>0.000000</td>\n",
       "    </tr>\n",
       "    <tr>\n",
       "      <th>75%</th>\n",
       "      <td>NaN</td>\n",
       "      <td>0.000000</td>\n",
       "      <td>NaN</td>\n",
       "      <td>NaN</td>\n",
       "      <td>55.000000</td>\n",
       "      <td>NaN</td>\n",
       "      <td>NaN</td>\n",
       "      <td>NaN</td>\n",
       "      <td>NaN</td>\n",
       "      <td>NaN</td>\n",
       "      <td>NaN</td>\n",
       "      <td>NaN</td>\n",
       "      <td>NaN</td>\n",
       "      <td>NaN</td>\n",
       "      <td>NaN</td>\n",
       "      <td>NaN</td>\n",
       "      <td>NaN</td>\n",
       "      <td>89.850000</td>\n",
       "      <td>NaN</td>\n",
       "      <td>1.000000</td>\n",
       "    </tr>\n",
       "    <tr>\n",
       "      <th>max</th>\n",
       "      <td>NaN</td>\n",
       "      <td>1.000000</td>\n",
       "      <td>NaN</td>\n",
       "      <td>NaN</td>\n",
       "      <td>72.000000</td>\n",
       "      <td>NaN</td>\n",
       "      <td>NaN</td>\n",
       "      <td>NaN</td>\n",
       "      <td>NaN</td>\n",
       "      <td>NaN</td>\n",
       "      <td>NaN</td>\n",
       "      <td>NaN</td>\n",
       "      <td>NaN</td>\n",
       "      <td>NaN</td>\n",
       "      <td>NaN</td>\n",
       "      <td>NaN</td>\n",
       "      <td>NaN</td>\n",
       "      <td>118.750000</td>\n",
       "      <td>NaN</td>\n",
       "      <td>1.000000</td>\n",
       "    </tr>\n",
       "  </tbody>\n",
       "</table>\n",
       "</div>"
      ],
      "text/plain": [
       "       gender  SeniorCitizen Partner Dependents       tenure PhoneService  \\\n",
       "count    7043    7043.000000    7043       7043  7043.000000         7043   \n",
       "unique      2            NaN       2          2          NaN            2   \n",
       "top      Male            NaN      No         No          NaN          Yes   \n",
       "freq     3555            NaN    3641       4933          NaN         6361   \n",
       "mean      NaN       0.162147     NaN        NaN    32.371149          NaN   \n",
       "std       NaN       0.368612     NaN        NaN    24.559481          NaN   \n",
       "min       NaN       0.000000     NaN        NaN     0.000000          NaN   \n",
       "25%       NaN       0.000000     NaN        NaN     9.000000          NaN   \n",
       "50%       NaN       0.000000     NaN        NaN    29.000000          NaN   \n",
       "75%       NaN       0.000000     NaN        NaN    55.000000          NaN   \n",
       "max       NaN       1.000000     NaN        NaN    72.000000          NaN   \n",
       "\n",
       "       MultipleLines InternetService OnlineSecurity OnlineBackup  \\\n",
       "count           7043            7043           7043         7043   \n",
       "unique             3               3              3            3   \n",
       "top               No     Fiber optic             No           No   \n",
       "freq            3390            3096           3498         3088   \n",
       "mean             NaN             NaN            NaN          NaN   \n",
       "std              NaN             NaN            NaN          NaN   \n",
       "min              NaN             NaN            NaN          NaN   \n",
       "25%              NaN             NaN            NaN          NaN   \n",
       "50%              NaN             NaN            NaN          NaN   \n",
       "75%              NaN             NaN            NaN          NaN   \n",
       "max              NaN             NaN            NaN          NaN   \n",
       "\n",
       "       DeviceProtection TechSupport StreamingTV StreamingMovies  \\\n",
       "count              7043        7043        7043            7043   \n",
       "unique                3           3           3               3   \n",
       "top                  No          No          No              No   \n",
       "freq               3095        3473        2810            2785   \n",
       "mean                NaN         NaN         NaN             NaN   \n",
       "std                 NaN         NaN         NaN             NaN   \n",
       "min                 NaN         NaN         NaN             NaN   \n",
       "25%                 NaN         NaN         NaN             NaN   \n",
       "50%                 NaN         NaN         NaN             NaN   \n",
       "75%                 NaN         NaN         NaN             NaN   \n",
       "max                 NaN         NaN         NaN             NaN   \n",
       "\n",
       "              Contract PaperlessBilling     PaymentMethod  MonthlyCharges  \\\n",
       "count             7043             7043              7043     7043.000000   \n",
       "unique               3                2                 4             NaN   \n",
       "top     Month-to-month              Yes  Electronic check             NaN   \n",
       "freq              3875             4171              2365             NaN   \n",
       "mean               NaN              NaN               NaN       64.761692   \n",
       "std                NaN              NaN               NaN       30.090047   \n",
       "min                NaN              NaN               NaN       18.250000   \n",
       "25%                NaN              NaN               NaN       35.500000   \n",
       "50%                NaN              NaN               NaN       70.350000   \n",
       "75%                NaN              NaN               NaN       89.850000   \n",
       "max                NaN              NaN               NaN      118.750000   \n",
       "\n",
       "       TotalCharges     response  \n",
       "count          7043  7043.000000  \n",
       "unique         6531          NaN  \n",
       "top                          NaN  \n",
       "freq             11          NaN  \n",
       "mean            NaN     0.265370  \n",
       "std             NaN     0.441561  \n",
       "min             NaN     0.000000  \n",
       "25%             NaN     0.000000  \n",
       "50%             NaN     0.000000  \n",
       "75%             NaN     1.000000  \n",
       "max             NaN     1.000000  "
      ]
     },
     "execution_count": 8,
     "metadata": {},
     "output_type": "execute_result"
    }
   ],
   "source": [
    "churndata.drop(['customerID'],axis=1).describe(include=\"all\")"
   ]
  },
  {
   "cell_type": "code",
   "execution_count": 19,
   "metadata": {
    "ExecuteTime": {
     "end_time": "2020-03-02T18:39:05.390182Z",
     "start_time": "2020-03-02T18:39:05.064369Z"
    },
    "scrolled": true
   },
   "outputs": [
    {
     "name": "stdout",
     "output_type": "stream",
     "text": [
      "gender \n",
      "\n",
      "        gender\n",
      "Male      3555\n",
      "Female    3488 \n",
      "\n",
      "SeniorCitizen \n",
      "\n",
      "   SeniorCitizen\n",
      "0           5901\n",
      "1           1142 \n",
      "\n",
      "Partner \n",
      "\n",
      "     Partner\n",
      "No      3641\n",
      "Yes     3402 \n",
      "\n",
      "Dependents \n",
      "\n",
      "     Dependents\n",
      "No         4933\n",
      "Yes        2110 \n",
      "\n",
      "PhoneService \n",
      "\n",
      "     PhoneService\n",
      "Yes          6361\n",
      "No            682 \n",
      "\n",
      "MultipleLines \n",
      "\n",
      "                  MultipleLines\n",
      "No                         3390\n",
      "Yes                        2971\n",
      "No phone service            682 \n",
      "\n",
      "InternetService \n",
      "\n",
      "             InternetService\n",
      "Fiber optic             3096\n",
      "DSL                     2421\n",
      "No                      1526 \n",
      "\n",
      "OnlineSecurity \n",
      "\n",
      "                     OnlineSecurity\n",
      "No                             3498\n",
      "Yes                            2019\n",
      "No internet service            1526 \n",
      "\n",
      "OnlineBackup \n",
      "\n",
      "                     OnlineBackup\n",
      "No                           3088\n",
      "Yes                          2429\n",
      "No internet service          1526 \n",
      "\n",
      "DeviceProtection \n",
      "\n",
      "                     DeviceProtection\n",
      "No                               3095\n",
      "Yes                              2422\n",
      "No internet service              1526 \n",
      "\n",
      "TechSupport \n",
      "\n",
      "                     TechSupport\n",
      "No                          3473\n",
      "Yes                         2044\n",
      "No internet service         1526 \n",
      "\n",
      "StreamingTV \n",
      "\n",
      "                     StreamingTV\n",
      "No                          2810\n",
      "Yes                         2707\n",
      "No internet service         1526 \n",
      "\n",
      "StreamingMovies \n",
      "\n",
      "                     StreamingMovies\n",
      "No                              2785\n",
      "Yes                             2732\n",
      "No internet service             1526 \n",
      "\n",
      "Contract \n",
      "\n",
      "                Contract\n",
      "Month-to-month      3875\n",
      "Two year            1695\n",
      "One year            1473 \n",
      "\n",
      "PaperlessBilling \n",
      "\n",
      "     PaperlessBilling\n",
      "Yes              4171\n",
      "No               2872 \n",
      "\n",
      "PaymentMethod \n",
      "\n",
      "                           PaymentMethod\n",
      "Electronic check                    2365\n",
      "Mailed check                        1612\n",
      "Bank transfer (automatic)           1544\n",
      "Credit card (automatic)             1522 \n",
      "\n"
     ]
    }
   ],
   "source": [
    "categorical_var_freq(churndata.drop(['customerID'],axis=1))"
   ]
  },
  {
   "cell_type": "markdown",
   "metadata": {},
   "source": [
    "*SeniorCitizen* flag should be an \"object\" type field, whereas *TotalCharges* should be float type. Make the necessary conversions"
   ]
  },
  {
   "cell_type": "code",
   "execution_count": 7,
   "metadata": {
    "ExecuteTime": {
     "end_time": "2020-08-11T16:01:22.439726Z",
     "start_time": "2020-08-11T16:01:22.432736Z"
    }
   },
   "outputs": [],
   "source": [
    "churndata['SeniorCitizen'] = churndata['SeniorCitizen'].astype('object')"
   ]
  },
  {
   "cell_type": "markdown",
   "metadata": {},
   "source": [
    "## Categorical correlation between variables - Cramer's V"
   ]
  },
  {
   "cell_type": "markdown",
   "metadata": {},
   "source": [
    "As our feature space is predominantly categorical in nature, let us run a cramer's V  test to study association between variables"
   ]
  },
  {
   "cell_type": "code",
   "execution_count": 14,
   "metadata": {
    "ExecuteTime": {
     "end_time": "2020-05-10T16:55:08.869516Z",
     "start_time": "2020-05-10T16:55:03.785823Z"
    }
   },
   "outputs": [
    {
     "data": {
      "image/png": "[encoded data removed]",
      "text/plain": [
       "<Figure size 432x288 with 2 Axes>"
      ]
     },
     "metadata": {
      "needs_background": "light"
     },
     "output_type": "display_data"
    }
   ],
   "source": [
    "df = churndata.drop(['customerID'],axis=1)\n",
    "df['response'] = df['response'].astype('object') \n",
    "categcols = list(df.select_dtypes(include = \"object\").columns)\n",
    "assoc_table = np.empty((len(categcols),len(categcols)))\n",
    "i=0\n",
    "j=0\n",
    "\n",
    "while i<len(categcols):\n",
    "    while j<len(categcols):\n",
    "        v1=df[categcols[i]]\n",
    "        v2=df[categcols[j]]\n",
    "        assoc_table[i,j] = cramers_v(v1,v2)\n",
    "        j=j+1\n",
    "    i=i+1\n",
    "    j=0\n",
    "\n",
    "assoc_data = pd.DataFrame(assoc_table,index=categcols,columns=categcols)\n",
    "# display(assoc_data)\n",
    "\n",
    "sb.heatmap(assoc_data, cmap='PuOr');"
   ]
  },
  {
   "cell_type": "markdown",
   "metadata": {},
   "source": [
    "# Data Preprocessing"
   ]
  },
  {
   "cell_type": "markdown",
   "metadata": {},
   "source": [
    "## Binary encoding of categorical variables"
   ]
  },
  {
   "cell_type": "code",
   "execution_count": 8,
   "metadata": {
    "ExecuteTime": {
     "end_time": "2020-08-11T16:01:35.966985Z",
     "start_time": "2020-08-11T16:01:35.665144Z"
    }
   },
   "outputs": [],
   "source": [
    "categ_cols = list(churndata.select_dtypes(include=\"object\").columns)\n",
    "categ_cols.remove('customerID')\n",
    "\n",
    "churndata_v2 = churndata.copy()\n",
    "for col in categ_cols:\n",
    "    churndata_v2 = pd.concat([churndata_v2,pd.get_dummies(churndata[col]).add_prefix(col+'_').iloc[:,:-1]],axis=1).drop([col],axis=1)"
   ]
  },
  {
   "cell_type": "code",
   "execution_count": 9,
   "metadata": {
    "ExecuteTime": {
     "end_time": "2020-08-11T16:01:39.545325Z",
     "start_time": "2020-08-11T16:01:39.477363Z"
    }
   },
   "outputs": [
    {
     "data": {
      "text/plain": [
       "(7032, 32)"
      ]
     },
     "execution_count": 9,
     "metadata": {},
     "output_type": "execute_result"
    }
   ],
   "source": [
    "# drop rows containing NA values for now\n",
    "churndata_v2.dropna(axis=0,inplace=True)\n",
    "churndata_v2.shape"
   ]
  },
  {
   "cell_type": "markdown",
   "metadata": {},
   "source": [
    "## Split Training and Test samples"
   ]
  },
  {
   "cell_type": "code",
   "execution_count": 10,
   "metadata": {
    "ExecuteTime": {
     "end_time": "2020-08-11T16:01:52.182584Z",
     "start_time": "2020-08-11T16:01:50.956039Z"
    }
   },
   "outputs": [],
   "source": [
    "from sklearn.model_selection import train_test_split\n",
    "X = np.array(churndata_v2.drop(['response','customerID'],axis=1))\n",
    "Y = np.array(churndata_v2[['response']])"
   ]
  },
  {
   "cell_type": "markdown",
   "metadata": {},
   "source": [
    "Split the entire data into an 80% Train and a 20% Test sample. Map the column names back to the training dataframe consisting of the predictor variables"
   ]
  },
  {
   "cell_type": "code",
   "execution_count": 11,
   "metadata": {
    "ExecuteTime": {
     "end_time": "2020-08-11T16:02:13.213569Z",
     "start_time": "2020-08-11T16:02:13.197557Z"
    }
   },
   "outputs": [],
   "source": [
    "x_train, x_test, y_train, y_test = train_test_split(X,Y,test_size=0.2,random_state = 710)\n",
    "x_train_df = pd.DataFrame(x_train, columns = churndata_v2.drop(['response','customerID'],axis=1).columns)"
   ]
  },
  {
   "cell_type": "code",
   "execution_count": 32,
   "metadata": {
    "ExecuteTime": {
     "end_time": "2020-03-31T05:00:26.452368Z",
     "start_time": "2020-03-31T05:00:26.445352Z"
    }
   },
   "outputs": [
    {
     "data": {
      "text/plain": [
       "Index(['SeniorCitizen', 'tenure', 'MonthlyCharges', 'TotalCharges',\n",
       "       'gender_Female', 'Partner_No', 'Dependents_No', 'PhoneService_No',\n",
       "       'MultipleLines_No', 'MultipleLines_No phone service',\n",
       "       'InternetService_DSL', 'InternetService_Fiber optic',\n",
       "       'OnlineSecurity_No', 'OnlineSecurity_No internet service',\n",
       "       'OnlineBackup_No', 'OnlineBackup_No internet service',\n",
       "       'DeviceProtection_No', 'DeviceProtection_No internet service',\n",
       "       'TechSupport_No', 'TechSupport_No internet service', 'StreamingTV_No',\n",
       "       'StreamingTV_No internet service', 'StreamingMovies_No',\n",
       "       'StreamingMovies_No internet service', 'Contract_Month-to-month',\n",
       "       'Contract_One year', 'PaperlessBilling_No',\n",
       "       'PaymentMethod_Bank transfer (automatic)',\n",
       "       'PaymentMethod_Credit card (automatic)',\n",
       "       'PaymentMethod_Electronic check'],\n",
       "      dtype='object')"
      ]
     },
     "execution_count": 32,
     "metadata": {},
     "output_type": "execute_result"
    }
   ],
   "source": [
    "x_train_df.shape\n",
    "x_train_df.columns"
   ]
  },
  {
   "cell_type": "markdown",
   "metadata": {},
   "source": [
    "# Statistical inference"
   ]
  },
  {
   "cell_type": "code",
   "execution_count": 22,
   "metadata": {
    "ExecuteTime": {
     "end_time": "2020-05-10T18:46:33.962307Z",
     "start_time": "2020-05-10T18:46:28.909644Z"
    }
   },
   "outputs": [],
   "source": [
    "import statsmodels.api as sm"
   ]
  },
  {
   "cell_type": "markdown",
   "metadata": {},
   "source": [
    "## Fit logit model"
   ]
  },
  {
   "cell_type": "code",
   "execution_count": 25,
   "metadata": {
    "ExecuteTime": {
     "end_time": "2020-05-10T18:51:57.696026Z",
     "start_time": "2020-05-10T18:51:56.984040Z"
    }
   },
   "outputs": [],
   "source": [
    "X = x_train\n",
    "y = y_train\n",
    "\n",
    "logisticmod = sm.Logit(y,X)"
   ]
  },
  {
   "cell_type": "code",
   "execution_count": 37,
   "metadata": {
    "ExecuteTime": {
     "end_time": "2020-05-10T19:15:20.013134Z",
     "start_time": "2020-05-10T19:15:19.976155Z"
    },
    "collapsed": true
   },
   "outputs": [
    {
     "name": "stdout",
     "output_type": "stream",
     "text": [
      "Optimization terminated successfully.\n",
      "         Current function value: 0.410565\n",
      "         Iterations 8\n"
     ]
    }
   ],
   "source": [
    "#Fit the model on training data\n",
    "result = logisticmod.fit()"
   ]
  },
  {
   "cell_type": "markdown",
   "metadata": {},
   "source": [
    "## Parameter Estimation Table"
   ]
  },
  {
   "cell_type": "code",
   "execution_count": 117,
   "metadata": {
    "ExecuteTime": {
     "end_time": "2020-05-10T21:40:33.785005Z",
     "start_time": "2020-05-10T21:40:33.746024Z"
    },
    "scrolled": true
   },
   "outputs": [
    {
     "data": {
      "text/html": [
       "<div>\n",
       "<style scoped>\n",
       "    .dataframe tbody tr th:only-of-type {\n",
       "        vertical-align: middle;\n",
       "    }\n",
       "\n",
       "    .dataframe tbody tr th {\n",
       "        vertical-align: top;\n",
       "    }\n",
       "\n",
       "    .dataframe thead th {\n",
       "        text-align: right;\n",
       "    }\n",
       "</style>\n",
       "<table border=\"1\" class=\"dataframe\">\n",
       "  <thead>\n",
       "    <tr style=\"text-align: right;\">\n",
       "      <th></th>\n",
       "      <th>Variable</th>\n",
       "      <th>Coefficient</th>\n",
       "      <th>stderror</th>\n",
       "      <th>pvalue</th>\n",
       "      <th>CI_lower</th>\n",
       "      <th>CI_upper</th>\n",
       "    </tr>\n",
       "  </thead>\n",
       "  <tbody>\n",
       "    <tr>\n",
       "      <th>0</th>\n",
       "      <td>tenure</td>\n",
       "      <td>-0.061698</td>\n",
       "      <td>7.019159e-03</td>\n",
       "      <td>1.497002e-18</td>\n",
       "      <td>-7.545496e-02</td>\n",
       "      <td>-4.794037e-02</td>\n",
       "    </tr>\n",
       "    <tr>\n",
       "      <th>1</th>\n",
       "      <td>Contract_One year</td>\n",
       "      <td>0.773740</td>\n",
       "      <td>1.171892e-01</td>\n",
       "      <td>4.043307e-11</td>\n",
       "      <td>5.440529e-01</td>\n",
       "      <td>1.003426e+00</td>\n",
       "    </tr>\n",
       "    <tr>\n",
       "      <th>2</th>\n",
       "      <td>TotalCharges</td>\n",
       "      <td>0.000336</td>\n",
       "      <td>7.970847e-05</td>\n",
       "      <td>2.464598e-05</td>\n",
       "      <td>1.799860e-04</td>\n",
       "      <td>4.924375e-04</td>\n",
       "    </tr>\n",
       "    <tr>\n",
       "      <th>3</th>\n",
       "      <td>PaperlessBilling_No</td>\n",
       "      <td>-0.326100</td>\n",
       "      <td>8.440677e-02</td>\n",
       "      <td>1.118061e-04</td>\n",
       "      <td>-4.915338e-01</td>\n",
       "      <td>-1.606654e-01</td>\n",
       "    </tr>\n",
       "    <tr>\n",
       "      <th>4</th>\n",
       "      <td>PaymentMethod_Electronic check</td>\n",
       "      <td>0.374857</td>\n",
       "      <td>1.084894e-01</td>\n",
       "      <td>5.498046e-04</td>\n",
       "      <td>1.622215e-01</td>\n",
       "      <td>5.874922e-01</td>\n",
       "    </tr>\n",
       "    <tr>\n",
       "      <th>5</th>\n",
       "      <td>SeniorCitizen_0</td>\n",
       "      <td>-0.302645</td>\n",
       "      <td>9.374260e-02</td>\n",
       "      <td>1.244549e-03</td>\n",
       "      <td>-4.863772e-01</td>\n",
       "      <td>-1.189129e-01</td>\n",
       "    </tr>\n",
       "    <tr>\n",
       "      <th>6</th>\n",
       "      <td>MultipleLines_No</td>\n",
       "      <td>-0.375647</td>\n",
       "      <td>2.009277e-01</td>\n",
       "      <td>6.154419e-02</td>\n",
       "      <td>-7.694585e-01</td>\n",
       "      <td>1.816357e-02</td>\n",
       "    </tr>\n",
       "    <tr>\n",
       "      <th>7</th>\n",
       "      <td>StreamingMovies_No</td>\n",
       "      <td>-0.601554</td>\n",
       "      <td>3.637142e-01</td>\n",
       "      <td>9.814402e-02</td>\n",
       "      <td>-1.314421e+00</td>\n",
       "      <td>1.113130e-01</td>\n",
       "    </tr>\n",
       "    <tr>\n",
       "      <th>8</th>\n",
       "      <td>StreamingTV_No</td>\n",
       "      <td>-0.501422</td>\n",
       "      <td>3.640224e-01</td>\n",
       "      <td>1.683736e-01</td>\n",
       "      <td>-1.214893e+00</td>\n",
       "      <td>2.120487e-01</td>\n",
       "    </tr>\n",
       "    <tr>\n",
       "      <th>9</th>\n",
       "      <td>TechSupport_No</td>\n",
       "      <td>0.240400</td>\n",
       "      <td>1.933372e-01</td>\n",
       "      <td>2.137118e-01</td>\n",
       "      <td>-1.385339e-01</td>\n",
       "      <td>6.193338e-01</td>\n",
       "    </tr>\n",
       "    <tr>\n",
       "      <th>10</th>\n",
       "      <td>Dependents_No</td>\n",
       "      <td>0.115092</td>\n",
       "      <td>1.011059e-01</td>\n",
       "      <td>2.549823e-01</td>\n",
       "      <td>-8.307191e-02</td>\n",
       "      <td>3.132558e-01</td>\n",
       "    </tr>\n",
       "    <tr>\n",
       "      <th>11</th>\n",
       "      <td>OnlineSecurity_No</td>\n",
       "      <td>0.199116</td>\n",
       "      <td>1.939023e-01</td>\n",
       "      <td>3.044736e-01</td>\n",
       "      <td>-1.809258e-01</td>\n",
       "      <td>5.791574e-01</td>\n",
       "    </tr>\n",
       "    <tr>\n",
       "      <th>12</th>\n",
       "      <td>MonthlyCharges</td>\n",
       "      <td>-0.034085</td>\n",
       "      <td>3.544525e-02</td>\n",
       "      <td>3.362453e-01</td>\n",
       "      <td>-1.035559e-01</td>\n",
       "      <td>3.538689e-02</td>\n",
       "    </tr>\n",
       "    <tr>\n",
       "      <th>13</th>\n",
       "      <td>InternetService_Fiber optic</td>\n",
       "      <td>2.810121</td>\n",
       "      <td>4.207575e+00</td>\n",
       "      <td>5.042155e-01</td>\n",
       "      <td>-5.436576e+00</td>\n",
       "      <td>1.105682e+01</td>\n",
       "    </tr>\n",
       "    <tr>\n",
       "      <th>14</th>\n",
       "      <td>DeviceProtection_No</td>\n",
       "      <td>-0.121595</td>\n",
       "      <td>1.927088e-01</td>\n",
       "      <td>5.280534e-01</td>\n",
       "      <td>-4.992978e-01</td>\n",
       "      <td>2.561069e-01</td>\n",
       "    </tr>\n",
       "    <tr>\n",
       "      <th>15</th>\n",
       "      <td>PaymentMethod_Bank transfer (automatic)</td>\n",
       "      <td>0.080120</td>\n",
       "      <td>1.282581e-01</td>\n",
       "      <td>5.321843e-01</td>\n",
       "      <td>-1.712617e-01</td>\n",
       "      <td>3.315010e-01</td>\n",
       "    </tr>\n",
       "    <tr>\n",
       "      <th>16</th>\n",
       "      <td>Partner_No</td>\n",
       "      <td>0.039127</td>\n",
       "      <td>8.741503e-02</td>\n",
       "      <td>6.544387e-01</td>\n",
       "      <td>-1.322030e-01</td>\n",
       "      <td>2.104577e-01</td>\n",
       "    </tr>\n",
       "    <tr>\n",
       "      <th>17</th>\n",
       "      <td>InternetService_DSL</td>\n",
       "      <td>1.196080</td>\n",
       "      <td>3.315319e+00</td>\n",
       "      <td>7.182686e-01</td>\n",
       "      <td>-5.301826e+00</td>\n",
       "      <td>7.693987e+00</td>\n",
       "    </tr>\n",
       "    <tr>\n",
       "      <th>18</th>\n",
       "      <td>OnlineBackup_No</td>\n",
       "      <td>0.035545</td>\n",
       "      <td>1.968672e-01</td>\n",
       "      <td>8.567171e-01</td>\n",
       "      <td>-3.503073e-01</td>\n",
       "      <td>4.213980e-01</td>\n",
       "    </tr>\n",
       "    <tr>\n",
       "      <th>19</th>\n",
       "      <td>PaymentMethod_Credit card (automatic)</td>\n",
       "      <td>-0.011688</td>\n",
       "      <td>1.315290e-01</td>\n",
       "      <td>9.291902e-01</td>\n",
       "      <td>-2.694803e-01</td>\n",
       "      <td>2.461039e-01</td>\n",
       "    </tr>\n",
       "    <tr>\n",
       "      <th>20</th>\n",
       "      <td>gender_Female</td>\n",
       "      <td>-0.006106</td>\n",
       "      <td>7.284468e-02</td>\n",
       "      <td>9.331972e-01</td>\n",
       "      <td>-1.488790e-01</td>\n",
       "      <td>1.366669e-01</td>\n",
       "    </tr>\n",
       "    <tr>\n",
       "      <th>21</th>\n",
       "      <td>PhoneService_No</td>\n",
       "      <td>-0.214920</td>\n",
       "      <td>7.928001e+06</td>\n",
       "      <td>1.000000e+00</td>\n",
       "      <td>-1.553860e+07</td>\n",
       "      <td>1.553860e+07</td>\n",
       "    </tr>\n",
       "    <tr>\n",
       "      <th>22</th>\n",
       "      <td>MultipleLines_No phone service</td>\n",
       "      <td>-0.214920</td>\n",
       "      <td>7.928001e+06</td>\n",
       "      <td>1.000000e+00</td>\n",
       "      <td>-1.553860e+07</td>\n",
       "      <td>1.553860e+07</td>\n",
       "    </tr>\n",
       "    <tr>\n",
       "      <th>23</th>\n",
       "      <td>TechSupport_No internet service</td>\n",
       "      <td>-0.205195</td>\n",
       "      <td>4.926142e+14</td>\n",
       "      <td>1.000000e+00</td>\n",
       "      <td>-9.655060e+14</td>\n",
       "      <td>9.655060e+14</td>\n",
       "    </tr>\n",
       "    <tr>\n",
       "      <th>24</th>\n",
       "      <td>StreamingTV_No internet service</td>\n",
       "      <td>-0.205195</td>\n",
       "      <td>NaN</td>\n",
       "      <td>NaN</td>\n",
       "      <td>NaN</td>\n",
       "      <td>NaN</td>\n",
       "    </tr>\n",
       "    <tr>\n",
       "      <th>25</th>\n",
       "      <td>OnlineSecurity_No internet service</td>\n",
       "      <td>-0.205195</td>\n",
       "      <td>NaN</td>\n",
       "      <td>NaN</td>\n",
       "      <td>NaN</td>\n",
       "      <td>NaN</td>\n",
       "    </tr>\n",
       "    <tr>\n",
       "      <th>26</th>\n",
       "      <td>StreamingMovies_No internet service</td>\n",
       "      <td>-0.205195</td>\n",
       "      <td>NaN</td>\n",
       "      <td>NaN</td>\n",
       "      <td>NaN</td>\n",
       "      <td>NaN</td>\n",
       "    </tr>\n",
       "    <tr>\n",
       "      <th>27</th>\n",
       "      <td>Contract_Month-to-month</td>\n",
       "      <td>1.372388</td>\n",
       "      <td>NaN</td>\n",
       "      <td>NaN</td>\n",
       "      <td>NaN</td>\n",
       "      <td>NaN</td>\n",
       "    </tr>\n",
       "    <tr>\n",
       "      <th>28</th>\n",
       "      <td>OnlineBackup_No internet service</td>\n",
       "      <td>-0.205195</td>\n",
       "      <td>NaN</td>\n",
       "      <td>NaN</td>\n",
       "      <td>NaN</td>\n",
       "      <td>NaN</td>\n",
       "    </tr>\n",
       "    <tr>\n",
       "      <th>29</th>\n",
       "      <td>DeviceProtection_No internet service</td>\n",
       "      <td>-0.205195</td>\n",
       "      <td>NaN</td>\n",
       "      <td>NaN</td>\n",
       "      <td>NaN</td>\n",
       "      <td>NaN</td>\n",
       "    </tr>\n",
       "  </tbody>\n",
       "</table>\n",
       "</div>"
      ],
      "text/plain": [
       "                                   Variable  Coefficient      stderror  \\\n",
       "0                                    tenure    -0.061698  7.019159e-03   \n",
       "1                         Contract_One year     0.773740  1.171892e-01   \n",
       "2                              TotalCharges     0.000336  7.970847e-05   \n",
       "3                       PaperlessBilling_No    -0.326100  8.440677e-02   \n",
       "4            PaymentMethod_Electronic check     0.374857  1.084894e-01   \n",
       "5                           SeniorCitizen_0    -0.302645  9.374260e-02   \n",
       "6                          MultipleLines_No    -0.375647  2.009277e-01   \n",
       "7                        StreamingMovies_No    -0.601554  3.637142e-01   \n",
       "8                            StreamingTV_No    -0.501422  3.640224e-01   \n",
       "9                            TechSupport_No     0.240400  1.933372e-01   \n",
       "10                            Dependents_No     0.115092  1.011059e-01   \n",
       "11                        OnlineSecurity_No     0.199116  1.939023e-01   \n",
       "12                           MonthlyCharges    -0.034085  3.544525e-02   \n",
       "13              InternetService_Fiber optic     2.810121  4.207575e+00   \n",
       "14                      DeviceProtection_No    -0.121595  1.927088e-01   \n",
       "15  PaymentMethod_Bank transfer (automatic)     0.080120  1.282581e-01   \n",
       "16                               Partner_No     0.039127  8.741503e-02   \n",
       "17                      InternetService_DSL     1.196080  3.315319e+00   \n",
       "18                          OnlineBackup_No     0.035545  1.968672e-01   \n",
       "19    PaymentMethod_Credit card (automatic)    -0.011688  1.315290e-01   \n",
       "20                            gender_Female    -0.006106  7.284468e-02   \n",
       "21                          PhoneService_No    -0.214920  7.928001e+06   \n",
       "22           MultipleLines_No phone service    -0.214920  7.928001e+06   \n",
       "23          TechSupport_No internet service    -0.205195  4.926142e+14   \n",
       "24          StreamingTV_No internet service    -0.205195           NaN   \n",
       "25       OnlineSecurity_No internet service    -0.205195           NaN   \n",
       "26      StreamingMovies_No internet service    -0.205195           NaN   \n",
       "27                  Contract_Month-to-month     1.372388           NaN   \n",
       "28         OnlineBackup_No internet service    -0.205195           NaN   \n",
       "29     DeviceProtection_No internet service    -0.205195           NaN   \n",
       "\n",
       "          pvalue      CI_lower      CI_upper  \n",
       "0   1.497002e-18 -7.545496e-02 -4.794037e-02  \n",
       "1   4.043307e-11  5.440529e-01  1.003426e+00  \n",
       "2   2.464598e-05  1.799860e-04  4.924375e-04  \n",
       "3   1.118061e-04 -4.915338e-01 -1.606654e-01  \n",
       "4   5.498046e-04  1.622215e-01  5.874922e-01  \n",
       "5   1.244549e-03 -4.863772e-01 -1.189129e-01  \n",
       "6   6.154419e-02 -7.694585e-01  1.816357e-02  \n",
       "7   9.814402e-02 -1.314421e+00  1.113130e-01  \n",
       "8   1.683736e-01 -1.214893e+00  2.120487e-01  \n",
       "9   2.137118e-01 -1.385339e-01  6.193338e-01  \n",
       "10  2.549823e-01 -8.307191e-02  3.132558e-01  \n",
       "11  3.044736e-01 -1.809258e-01  5.791574e-01  \n",
       "12  3.362453e-01 -1.035559e-01  3.538689e-02  \n",
       "13  5.042155e-01 -5.436576e+00  1.105682e+01  \n",
       "14  5.280534e-01 -4.992978e-01  2.561069e-01  \n",
       "15  5.321843e-01 -1.712617e-01  3.315010e-01  \n",
       "16  6.544387e-01 -1.322030e-01  2.104577e-01  \n",
       "17  7.182686e-01 -5.301826e+00  7.693987e+00  \n",
       "18  8.567171e-01 -3.503073e-01  4.213980e-01  \n",
       "19  9.291902e-01 -2.694803e-01  2.461039e-01  \n",
       "20  9.331972e-01 -1.488790e-01  1.366669e-01  \n",
       "21  1.000000e+00 -1.553860e+07  1.553860e+07  \n",
       "22  1.000000e+00 -1.553860e+07  1.553860e+07  \n",
       "23  1.000000e+00 -9.655060e+14  9.655060e+14  \n",
       "24           NaN           NaN           NaN  \n",
       "25           NaN           NaN           NaN  \n",
       "26           NaN           NaN           NaN  \n",
       "27           NaN           NaN           NaN  \n",
       "28           NaN           NaN           NaN  \n",
       "29           NaN           NaN           NaN  "
      ]
     },
     "execution_count": 117,
     "metadata": {},
     "output_type": "execute_result"
    }
   ],
   "source": [
    "# Sort based on the pvalues and obtain the index\n",
    "sorted_idx = np.argsort(result.pvalues)\n",
    "\n",
    "feature_names = np.array(x_train_df.columns)[sorted_idx] # get feature names based on index\n",
    "feature_weights = result.params[sorted_idx] #get coefficient values\n",
    "weights_stderror = result.bse[sorted_idx]  # get std. error\n",
    "pvalues = result.pvalues[sorted_idx]  # get p-values\n",
    "CI_lower = result.conf_int()[:,0][sorted_idx]\n",
    "CI_upper = result.conf_int()[:,1][sorted_idx]\n",
    "\n",
    "coefficients_table = pd.DataFrame({'Variable':feature_names,'Coefficient':feature_weights,'stderror':weights_stderror,'pvalue':pvalues,'CI_lower':CI_lower,'CI_upper':CI_upper},columns=['Variable','Coefficient','stderror','pvalue','CI_lower','CI_upper'])\n",
    "\n",
    "coefficients_table"
   ]
  },
  {
   "cell_type": "markdown",
   "metadata": {},
   "source": [
    "<br>\n",
    "\n",
    "Statistically significant features: **Total Charges**, **Tenure**, **Senior Citizen(Yes/No)**,**Paperless billing(Yes/No)**, **Payment Method**, **Multiple lines**, **Streaming Movies(Yes/No)**,**Contract type**"
   ]
  },
  {
   "cell_type": "markdown",
   "metadata": {},
   "source": [
    "# Feature engineering"
   ]
  },
  {
   "cell_type": "markdown",
   "metadata": {},
   "source": [
    "## LASSO feature selection"
   ]
  },
  {
   "cell_type": "code",
   "execution_count": 24,
   "metadata": {
    "ExecuteTime": {
     "end_time": "2020-03-31T04:43:46.921417Z",
     "start_time": "2020-03-31T04:43:02.997516Z"
    },
    "collapsed": true
   },
   "outputs": [
    {
     "name": "stderr",
     "output_type": "stream",
     "text": [
      "C:\\Users\\Hi\\Anaconda3\\lib\\site-packages\\sklearn\\linear_model\\coordinate_descent.py:492: ConvergenceWarning:\n",
      "\n",
      "Objective did not converge. You might want to increase the number of iterations. Fitting data with very small alpha may cause precision problems.\n",
      "\n",
      "C:\\Users\\Hi\\Anaconda3\\lib\\site-packages\\sklearn\\linear_model\\coordinate_descent.py:492: ConvergenceWarning:\n",
      "\n",
      "Objective did not converge. You might want to increase the number of iterations. Fitting data with very small alpha may cause precision problems.\n",
      "\n",
      "C:\\Users\\Hi\\Anaconda3\\lib\\site-packages\\sklearn\\linear_model\\coordinate_descent.py:492: ConvergenceWarning:\n",
      "\n",
      "Objective did not converge. You might want to increase the number of iterations. Fitting data with very small alpha may cause precision problems.\n",
      "\n",
      "C:\\Users\\Hi\\Anaconda3\\lib\\site-packages\\sklearn\\linear_model\\coordinate_descent.py:492: ConvergenceWarning:\n",
      "\n",
      "Objective did not converge. You might want to increase the number of iterations. Fitting data with very small alpha may cause precision problems.\n",
      "\n",
      "C:\\Users\\Hi\\Anaconda3\\lib\\site-packages\\sklearn\\linear_model\\coordinate_descent.py:492: ConvergenceWarning:\n",
      "\n",
      "Objective did not converge. You might want to increase the number of iterations. Fitting data with very small alpha may cause precision problems.\n",
      "\n",
      "C:\\Users\\Hi\\Anaconda3\\lib\\site-packages\\sklearn\\linear_model\\coordinate_descent.py:492: ConvergenceWarning:\n",
      "\n",
      "Objective did not converge. You might want to increase the number of iterations. Fitting data with very small alpha may cause precision problems.\n",
      "\n",
      "C:\\Users\\Hi\\Anaconda3\\lib\\site-packages\\sklearn\\linear_model\\coordinate_descent.py:492: ConvergenceWarning:\n",
      "\n",
      "Objective did not converge. You might want to increase the number of iterations. Fitting data with very small alpha may cause precision problems.\n",
      "\n",
      "C:\\Users\\Hi\\Anaconda3\\lib\\site-packages\\sklearn\\linear_model\\coordinate_descent.py:492: ConvergenceWarning:\n",
      "\n",
      "Objective did not converge. You might want to increase the number of iterations. Fitting data with very small alpha may cause precision problems.\n",
      "\n",
      "C:\\Users\\Hi\\Anaconda3\\lib\\site-packages\\sklearn\\linear_model\\coordinate_descent.py:492: ConvergenceWarning:\n",
      "\n",
      "Objective did not converge. You might want to increase the number of iterations. Fitting data with very small alpha may cause precision problems.\n",
      "\n",
      "C:\\Users\\Hi\\Anaconda3\\lib\\site-packages\\sklearn\\linear_model\\coordinate_descent.py:492: ConvergenceWarning:\n",
      "\n",
      "Objective did not converge. You might want to increase the number of iterations. Fitting data with very small alpha may cause precision problems.\n",
      "\n",
      "C:\\Users\\Hi\\Anaconda3\\lib\\site-packages\\sklearn\\linear_model\\coordinate_descent.py:492: ConvergenceWarning:\n",
      "\n",
      "Objective did not converge. You might want to increase the number of iterations. Fitting data with very small alpha may cause precision problems.\n",
      "\n",
      "C:\\Users\\Hi\\Anaconda3\\lib\\site-packages\\sklearn\\linear_model\\coordinate_descent.py:492: ConvergenceWarning:\n",
      "\n",
      "Objective did not converge. You might want to increase the number of iterations. Fitting data with very small alpha may cause precision problems.\n",
      "\n",
      "C:\\Users\\Hi\\Anaconda3\\lib\\site-packages\\sklearn\\linear_model\\coordinate_descent.py:492: ConvergenceWarning:\n",
      "\n",
      "Objective did not converge. You might want to increase the number of iterations. Fitting data with very small alpha may cause precision problems.\n",
      "\n",
      "C:\\Users\\Hi\\Anaconda3\\lib\\site-packages\\sklearn\\linear_model\\coordinate_descent.py:492: ConvergenceWarning:\n",
      "\n",
      "Objective did not converge. You might want to increase the number of iterations. Fitting data with very small alpha may cause precision problems.\n",
      "\n",
      "C:\\Users\\Hi\\Anaconda3\\lib\\site-packages\\sklearn\\linear_model\\coordinate_descent.py:492: ConvergenceWarning:\n",
      "\n",
      "Objective did not converge. You might want to increase the number of iterations. Fitting data with very small alpha may cause precision problems.\n",
      "\n"
     ]
    },
    {
     "data": {
      "text/plain": [
       "GridSearchCV(cv=5, error_score='raise-deprecating',\n",
       "       estimator=Lasso(alpha=1.0, copy_X=True, fit_intercept=True, max_iter=10000,\n",
       "   normalize=False, positive=False, precompute=False, random_state=None,\n",
       "   selection='cyclic', tol=0.0001, warm_start=False),\n",
       "       fit_params=None, iid='warn', n_jobs=None,\n",
       "       param_grid={'alpha': [1e-10, 1e-08, 1e-06, 0.0001, 0.01, 0.1, 0.5, 1, 1.5, 2, 3, 4, 5]},\n",
       "       pre_dispatch='2*n_jobs', refit=True, return_train_score='warn',\n",
       "       scoring='roc_auc', verbose=0)"
      ]
     },
     "execution_count": 24,
     "metadata": {},
     "output_type": "execute_result"
    }
   ],
   "source": [
    "from sklearn.linear_model import Lasso\n",
    "from sklearn.model_selection import GridSearchCV\n",
    "\n",
    "lasso=Lasso(max_iter=10000)\n",
    "param_grid = {'alpha':[1e-10,1e-8,1e-6,1e-4,1e-2,0.1,0.5,1,1.5,2,3,4,5]}\n",
    "lasso_gridcv = GridSearchCV(lasso,param_grid,scoring=\"roc_auc\",cv=5)\n",
    "lasso_gridcv.fit(x_train,y_train)"
   ]
  },
  {
   "cell_type": "code",
   "execution_count": 80,
   "metadata": {
    "ExecuteTime": {
     "end_time": "2020-03-03T05:36:25.155141Z",
     "start_time": "2020-03-03T05:36:24.923279Z"
    },
    "collapsed": true
   },
   "outputs": [
    {
     "data": {
      "text/plain": [
       "([<matplotlib.axis.XTick at 0x21c29fe85f8>,\n",
       "  <matplotlib.axis.XTick at 0x21c29fe24a8>,\n",
       "  <matplotlib.axis.XTick at 0x21c2a017208>,\n",
       "  <matplotlib.axis.XTick at 0x21c28cb2be0>,\n",
       "  <matplotlib.axis.XTick at 0x21c29f81828>,\n",
       "  <matplotlib.axis.XTick at 0x21c29fa2860>,\n",
       "  <matplotlib.axis.XTick at 0x21c29fa2b38>,\n",
       "  <matplotlib.axis.XTick at 0x21c28cfeef0>,\n",
       "  <matplotlib.axis.XTick at 0x21c28ca6c88>,\n",
       "  <matplotlib.axis.XTick at 0x21c29f9ad68>,\n",
       "  <matplotlib.axis.XTick at 0x21c28c47da0>,\n",
       "  <matplotlib.axis.XTick at 0x21c29f81240>,\n",
       "  <matplotlib.axis.XTick at 0x21c28f8e5c0>],\n",
       " <a list of 13 Text xticklabel objects>)"
      ]
     },
     "execution_count": 80,
     "metadata": {},
     "output_type": "execute_result"
    },
    {
     "data": {
      "image/png": "[encoded data removed]",
      "text/plain": [
       "<Figure size 432x288 with 1 Axes>"
      ]
     },
     "metadata": {
      "needs_background": "light"
     },
     "output_type": "display_data"
    }
   ],
   "source": [
    "plt.plot(param_grid['alpha'],lasso_gridcv.cv_results_['mean_test_score']) \n",
    "plt.xticks([1e-10,1e-8,1e-6,1e-4,1e-2,0.1,0.5,1,1.5,2,3,4,5])"
   ]
  },
  {
   "cell_type": "code",
   "execution_count": 25,
   "metadata": {
    "ExecuteTime": {
     "end_time": "2020-03-31T04:44:21.511536Z",
     "start_time": "2020-03-31T04:44:21.505538Z"
    }
   },
   "outputs": [
    {
     "name": "stdout",
     "output_type": "stream",
     "text": [
      "{'alpha': 0.0001}\n"
     ]
    }
   ],
   "source": [
    "print(lasso_gridcv.best_params_)"
   ]
  },
  {
   "cell_type": "markdown",
   "metadata": {},
   "source": [
    "optimum alpha value selected through 5-fold CV is 0.0001. Next,we will fit a lasso model with the optimal alpha value to see which variables are eliminated from the model"
   ]
  },
  {
   "cell_type": "code",
   "execution_count": 26,
   "metadata": {
    "ExecuteTime": {
     "end_time": "2020-03-31T04:44:42.827393Z",
     "start_time": "2020-03-31T04:44:42.726451Z"
    }
   },
   "outputs": [],
   "source": [
    "lasso_opt = Lasso(alpha=0.0001,max_iter=10000).fit(x_train,y_train)"
   ]
  },
  {
   "cell_type": "code",
   "execution_count": 27,
   "metadata": {
    "ExecuteTime": {
     "end_time": "2020-03-31T04:45:45.815421Z",
     "start_time": "2020-03-31T04:45:45.792437Z"
    },
    "scrolled": true
   },
   "outputs": [
    {
     "data": {
      "text/html": [
       "<div>\n",
       "<style scoped>\n",
       "    .dataframe tbody tr th:only-of-type {\n",
       "        vertical-align: middle;\n",
       "    }\n",
       "\n",
       "    .dataframe tbody tr th {\n",
       "        vertical-align: top;\n",
       "    }\n",
       "\n",
       "    .dataframe thead th {\n",
       "        text-align: right;\n",
       "    }\n",
       "</style>\n",
       "<table border=\"1\" class=\"dataframe\">\n",
       "  <thead>\n",
       "    <tr style=\"text-align: right;\">\n",
       "      <th></th>\n",
       "      <th>predictor</th>\n",
       "      <th>lasso.coef</th>\n",
       "    </tr>\n",
       "  </thead>\n",
       "  <tbody>\n",
       "    <tr>\n",
       "      <th>11</th>\n",
       "      <td>InternetService_Fiber optic</td>\n",
       "      <td>0.127276</td>\n",
       "    </tr>\n",
       "    <tr>\n",
       "      <th>29</th>\n",
       "      <td>PaymentMethod_Electronic check</td>\n",
       "      <td>0.075957</td>\n",
       "    </tr>\n",
       "    <tr>\n",
       "      <th>18</th>\n",
       "      <td>TechSupport_No</td>\n",
       "      <td>0.066932</td>\n",
       "    </tr>\n",
       "    <tr>\n",
       "      <th>24</th>\n",
       "      <td>Contract_Month-to-month</td>\n",
       "      <td>0.064441</td>\n",
       "    </tr>\n",
       "    <tr>\n",
       "      <th>0</th>\n",
       "      <td>SeniorCitizen</td>\n",
       "      <td>0.058152</td>\n",
       "    </tr>\n",
       "    <tr>\n",
       "      <th>12</th>\n",
       "      <td>OnlineSecurity_No</td>\n",
       "      <td>0.054035</td>\n",
       "    </tr>\n",
       "    <tr>\n",
       "      <th>14</th>\n",
       "      <td>OnlineBackup_No</td>\n",
       "      <td>0.032527</td>\n",
       "    </tr>\n",
       "    <tr>\n",
       "      <th>7</th>\n",
       "      <td>PhoneService_No</td>\n",
       "      <td>0.032038</td>\n",
       "    </tr>\n",
       "    <tr>\n",
       "      <th>6</th>\n",
       "      <td>Dependents_No</td>\n",
       "      <td>0.015988</td>\n",
       "    </tr>\n",
       "    <tr>\n",
       "      <th>16</th>\n",
       "      <td>DeviceProtection_No</td>\n",
       "      <td>0.010474</td>\n",
       "    </tr>\n",
       "    <tr>\n",
       "      <th>27</th>\n",
       "      <td>PaymentMethod_Bank transfer (automatic)</td>\n",
       "      <td>0.008102</td>\n",
       "    </tr>\n",
       "    <tr>\n",
       "      <th>5</th>\n",
       "      <td>Partner_No</td>\n",
       "      <td>0.005556</td>\n",
       "    </tr>\n",
       "    <tr>\n",
       "      <th>28</th>\n",
       "      <td>PaymentMethod_Credit card (automatic)</td>\n",
       "      <td>0.003598</td>\n",
       "    </tr>\n",
       "    <tr>\n",
       "      <th>2</th>\n",
       "      <td>MonthlyCharges</td>\n",
       "      <td>0.002185</td>\n",
       "    </tr>\n",
       "    <tr>\n",
       "      <th>9</th>\n",
       "      <td>MultipleLines_No phone service</td>\n",
       "      <td>0.001124</td>\n",
       "    </tr>\n",
       "    <tr>\n",
       "      <th>19</th>\n",
       "      <td>TechSupport_No internet service</td>\n",
       "      <td>-0.000000</td>\n",
       "    </tr>\n",
       "    <tr>\n",
       "      <th>23</th>\n",
       "      <td>StreamingMovies_No internet service</td>\n",
       "      <td>-0.000000</td>\n",
       "    </tr>\n",
       "    <tr>\n",
       "      <th>21</th>\n",
       "      <td>StreamingTV_No internet service</td>\n",
       "      <td>-0.000000</td>\n",
       "    </tr>\n",
       "    <tr>\n",
       "      <th>17</th>\n",
       "      <td>DeviceProtection_No internet service</td>\n",
       "      <td>-0.000000</td>\n",
       "    </tr>\n",
       "    <tr>\n",
       "      <th>13</th>\n",
       "      <td>OnlineSecurity_No internet service</td>\n",
       "      <td>-0.000000</td>\n",
       "    </tr>\n",
       "    <tr>\n",
       "      <th>4</th>\n",
       "      <td>gender_Female</td>\n",
       "      <td>-0.000000</td>\n",
       "    </tr>\n",
       "    <tr>\n",
       "      <th>10</th>\n",
       "      <td>InternetService_DSL</td>\n",
       "      <td>-0.000000</td>\n",
       "    </tr>\n",
       "    <tr>\n",
       "      <th>15</th>\n",
       "      <td>OnlineBackup_No internet service</td>\n",
       "      <td>-0.000000</td>\n",
       "    </tr>\n",
       "    <tr>\n",
       "      <th>3</th>\n",
       "      <td>TotalCharges</td>\n",
       "      <td>-0.000047</td>\n",
       "    </tr>\n",
       "    <tr>\n",
       "      <th>1</th>\n",
       "      <td>tenure</td>\n",
       "      <td>-0.001837</td>\n",
       "    </tr>\n",
       "    <tr>\n",
       "      <th>20</th>\n",
       "      <td>StreamingTV_No</td>\n",
       "      <td>-0.023126</td>\n",
       "    </tr>\n",
       "    <tr>\n",
       "      <th>25</th>\n",
       "      <td>Contract_One year</td>\n",
       "      <td>-0.032400</td>\n",
       "    </tr>\n",
       "    <tr>\n",
       "      <th>8</th>\n",
       "      <td>MultipleLines_No</td>\n",
       "      <td>-0.034792</td>\n",
       "    </tr>\n",
       "    <tr>\n",
       "      <th>26</th>\n",
       "      <td>PaperlessBilling_No</td>\n",
       "      <td>-0.042596</td>\n",
       "    </tr>\n",
       "    <tr>\n",
       "      <th>22</th>\n",
       "      <td>StreamingMovies_No</td>\n",
       "      <td>-0.044101</td>\n",
       "    </tr>\n",
       "  </tbody>\n",
       "</table>\n",
       "</div>"
      ],
      "text/plain": [
       "                                  predictor  lasso.coef\n",
       "11              InternetService_Fiber optic    0.127276\n",
       "29           PaymentMethod_Electronic check    0.075957\n",
       "18                           TechSupport_No    0.066932\n",
       "24                  Contract_Month-to-month    0.064441\n",
       "0                             SeniorCitizen    0.058152\n",
       "12                        OnlineSecurity_No    0.054035\n",
       "14                          OnlineBackup_No    0.032527\n",
       "7                           PhoneService_No    0.032038\n",
       "6                             Dependents_No    0.015988\n",
       "16                      DeviceProtection_No    0.010474\n",
       "27  PaymentMethod_Bank transfer (automatic)    0.008102\n",
       "5                                Partner_No    0.005556\n",
       "28    PaymentMethod_Credit card (automatic)    0.003598\n",
       "2                            MonthlyCharges    0.002185\n",
       "9            MultipleLines_No phone service    0.001124\n",
       "19          TechSupport_No internet service   -0.000000\n",
       "23      StreamingMovies_No internet service   -0.000000\n",
       "21          StreamingTV_No internet service   -0.000000\n",
       "17     DeviceProtection_No internet service   -0.000000\n",
       "13       OnlineSecurity_No internet service   -0.000000\n",
       "4                             gender_Female   -0.000000\n",
       "10                      InternetService_DSL   -0.000000\n",
       "15         OnlineBackup_No internet service   -0.000000\n",
       "3                              TotalCharges   -0.000047\n",
       "1                                    tenure   -0.001837\n",
       "20                           StreamingTV_No   -0.023126\n",
       "25                        Contract_One year   -0.032400\n",
       "8                          MultipleLines_No   -0.034792\n",
       "26                      PaperlessBilling_No   -0.042596\n",
       "22                       StreamingMovies_No   -0.044101"
      ]
     },
     "metadata": {},
     "output_type": "display_data"
    }
   ],
   "source": [
    "var = pd.DataFrame(x_train_df.columns, columns=[\"predictor\"])\n",
    "coef = pd.DataFrame(lasso_opt.coef_, columns=[\"lasso.coef\"])\n",
    "varselectiontable = pd.concat([var,coef],axis=1)\n",
    "display(varselectiontable.sort_values(by=['lasso.coef'],ascending=False))\n",
    "    "
   ]
  },
  {
   "cell_type": "markdown",
   "metadata": {},
   "source": [
    "The following variables are eliminated: **Gender**, **InternetService_DSL**,**OnlineSecurity_No internet service**, **OnlineBackup_No internet service**, **DeviceProtection_No internet service**,**TechSupport_No internet service**,**StreamingTV_No internet service**,**StreamingMovies_No internet service**"
   ]
  },
  {
   "cell_type": "markdown",
   "metadata": {},
   "source": [
    "## Recursive feature elimination using Random Forest"
   ]
  },
  {
   "cell_type": "markdown",
   "metadata": {},
   "source": [
    "We will use Recursive Feature Elimination using the Random Forest Classifier. We will try to do this by using a cost-sensitive model,  and will also optimize for the # of variables to be selected. We will calculate cost using the formula : *n_samples/(n_classes * n_sampleswithclass)* "
   ]
  },
  {
   "cell_type": "code",
   "execution_count": 28,
   "metadata": {
    "ExecuteTime": {
     "end_time": "2020-03-31T04:48:17.165071Z",
     "start_time": "2020-03-31T04:48:17.157074Z"
    }
   },
   "outputs": [
    {
     "name": "stdout",
     "output_type": "stream",
     "text": [
      "{0: 0.6783646888567294, 1: 1.9016227180527383}\n"
     ]
    }
   ],
   "source": [
    "wt0= y_train.shape[0]/(2*np.count_nonzero(y_train==0))\n",
    "wt1= y_train.shape[0]/(2*np.count_nonzero(y_train==1)) \n",
    "weights = {0:wt0,1:wt1}\n",
    "print(weights)"
   ]
  },
  {
   "cell_type": "code",
   "execution_count": 30,
   "metadata": {
    "ExecuteTime": {
     "end_time": "2020-03-31T04:55:39.749403Z",
     "start_time": "2020-03-31T04:54:21.837944Z"
    }
   },
   "outputs": [
    {
     "name": "stdout",
     "output_type": "stream",
     "text": [
      "[[0.81176436 0.81926029 0.82044523 0.82268302 0.82386112 0.82467938\n",
      "  0.82437678 0.82296385 0.8224     0.8220086  0.82516739]]\n"
     ]
    }
   ],
   "source": [
    "from sklearn.feature_selection import RFE\n",
    "from sklearn.ensemble import RandomForestClassifier\n",
    "from sklearn.model_selection import cross_val_score\n",
    "\n",
    "# Define RF classifier model\n",
    "rfmodel = RandomForestClassifier(n_estimators=100,random_state=710,class_weight = weights,n_jobs=-1)\n",
    "# Define CV score array for auc scores\n",
    "scores_array = np.empty((1,len(range(10,31,2))))\n",
    "\n",
    "i=0\n",
    "for n in list(range(10,31,2)):\n",
    "\n",
    "    # Define RFE selector\n",
    "    select = RFE(rfmodel,n_features_to_select=n)\n",
    "    # Select features using x_train, y_train\n",
    "    select.fit(x_train,np.ravel(y_train))\n",
    "    # Create x_train_rfe as a subset of x_train consisting of only the selected features\n",
    "    x_train_rfe= select.transform(x_train)\n",
    "    # Obtain CV score (auc) using only selected features\n",
    "    scores_array[0,i] = format(cross_val_score(rfmodel,x_train_rfe,np.ravel(y_train),cv=3,scoring=\"roc_auc\").mean())\n",
    "    i=i+1\n",
    "\n",
    "print(scores_array)"
   ]
  },
  {
   "cell_type": "code",
   "execution_count": 31,
   "metadata": {
    "ExecuteTime": {
     "end_time": "2020-03-31T04:59:24.786150Z",
     "start_time": "2020-03-31T04:59:23.812778Z"
    }
   },
   "outputs": [
    {
     "data": {
      "text/plain": [
       "[<matplotlib.lines.Line2D at 0x124a2622f60>]"
      ]
     },
     "execution_count": 31,
     "metadata": {},
     "output_type": "execute_result"
    },
    {
     "data": {
      "image/png": "[encoded data removed]",
      "text/plain": [
       "<Figure size 432x288 with 1 Axes>"
      ]
     },
     "metadata": {
      "needs_background": "light"
     },
     "output_type": "display_data"
    }
   ],
   "source": [
    "plt.plot(np.array(list(range(10,31,2))),scores_array.transpose())"
   ]
  },
  {
   "cell_type": "markdown",
   "metadata": {},
   "source": [
    "The iterations suggest that the optimum number of features to be selected are **20**. Let us see what are the selected features"
   ]
  },
  {
   "cell_type": "code",
   "execution_count": 33,
   "metadata": {
    "ExecuteTime": {
     "end_time": "2020-03-31T05:01:32.977000Z",
     "start_time": "2020-03-31T05:01:27.640593Z"
    }
   },
   "outputs": [
    {
     "data": {
      "text/plain": [
       "RFE(estimator=RandomForestClassifier(bootstrap=True,\n",
       "            class_weight={0: 0.6783646888567294, 1: 1.9016227180527383},\n",
       "            criterion='gini', max_depth=None, max_features='auto',\n",
       "            max_leaf_nodes=None, min_impurity_decrease=0.0,\n",
       "            min_impurity_split=None, min_samples_leaf=1,\n",
       "            min_samples_split=2, min_weight_fraction_leaf=0.0,\n",
       "            n_estimators=100, n_jobs=-1, oob_score=False, random_state=710,\n",
       "            verbose=0, warm_start=False),\n",
       "  n_features_to_select=20, step=1, verbose=0)"
      ]
     },
     "execution_count": 33,
     "metadata": {},
     "output_type": "execute_result"
    }
   ],
   "source": [
    "select = RFE(rfmodel,n_features_to_select=20)\n",
    "select.fit(x_train,np.ravel(y_train))\n",
    "\n"
   ]
  },
  {
   "cell_type": "code",
   "execution_count": 34,
   "metadata": {
    "ExecuteTime": {
     "end_time": "2020-03-31T05:01:36.520079Z",
     "start_time": "2020-03-31T05:01:36.508088Z"
    }
   },
   "outputs": [
    {
     "name": "stdout",
     "output_type": "stream",
     "text": [
      "StreamingTV_No internet service            False\n",
      "OnlineBackup_No internet service           False\n",
      "PaymentMethod_Credit card (automatic)      False\n",
      "OnlineSecurity_No internet service         False\n",
      "TechSupport_No internet service            False\n",
      "InternetService_DSL                        False\n",
      "MultipleLines_No phone service             False\n",
      "DeviceProtection_No internet service       False\n",
      "StreamingMovies_No internet service        False\n",
      "PhoneService_No                            False\n",
      "TechSupport_No                              True\n",
      "StreamingMovies_No                          True\n",
      "StreamingTV_No                              True\n",
      "Contract_Month-to-month                     True\n",
      "Contract_One year                           True\n",
      "PaperlessBilling_No                         True\n",
      "PaymentMethod_Bank transfer (automatic)     True\n",
      "SeniorCitizen                               True\n",
      "OnlineBackup_No                             True\n",
      "OnlineSecurity_No                           True\n",
      "InternetService_Fiber optic                 True\n",
      "MultipleLines_No                            True\n",
      "Dependents_No                               True\n",
      "Partner_No                                  True\n",
      "gender_Female                               True\n",
      "TotalCharges                                True\n",
      "MonthlyCharges                              True\n",
      "tenure                                      True\n",
      "DeviceProtection_No                         True\n",
      "PaymentMethod_Electronic check              True\n",
      "dtype: bool\n"
     ]
    }
   ],
   "source": [
    "cols = list(x_train_df.columns)\n",
    "temp = pd.Series(select.support_,index = cols)\n",
    "# print(temp[temp==True])\n",
    "print(temp.sort_values())\n",
    "\n"
   ]
  },
  {
   "cell_type": "markdown",
   "metadata": {},
   "source": [
    "# Modeling"
   ]
  },
  {
   "cell_type": "code",
   "execution_count": 118,
   "metadata": {
    "ExecuteTime": {
     "end_time": "2020-05-10T21:59:29.715411Z",
     "start_time": "2020-05-10T21:59:29.710414Z"
    }
   },
   "outputs": [],
   "source": [
    "# We will move ahead with the following variables\n",
    "\n",
    "selected_vars_index = [18,22,20,24,25,26,27,0,14,12,11,8,6,5,4,3,2,1,16,29,28,9,7]"
   ]
  },
  {
   "cell_type": "code",
   "execution_count": 119,
   "metadata": {
    "ExecuteTime": {
     "end_time": "2020-05-10T21:59:31.528831Z",
     "start_time": "2020-05-10T21:59:31.521840Z"
    }
   },
   "outputs": [],
   "source": [
    "x_train_selected = x_train[:,selected_vars_index]\n",
    "x_test_selected = x_test[:,selected_vars_index]"
   ]
  },
  {
   "cell_type": "code",
   "execution_count": 38,
   "metadata": {
    "ExecuteTime": {
     "end_time": "2020-03-31T05:43:03.827397Z",
     "start_time": "2020-03-31T05:43:03.820403Z"
    }
   },
   "outputs": [
    {
     "data": {
      "text/plain": [
       "(5625, 23)"
      ]
     },
     "execution_count": 38,
     "metadata": {},
     "output_type": "execute_result"
    }
   ],
   "source": [
    "x_train_selected.shape"
   ]
  },
  {
   "cell_type": "markdown",
   "metadata": {},
   "source": [
    "## Logistic regression (L2 regularization)"
   ]
  },
  {
   "cell_type": "markdown",
   "metadata": {},
   "source": [
    "### Fit model"
   ]
  },
  {
   "cell_type": "code",
   "execution_count": 144,
   "metadata": {
    "ExecuteTime": {
     "end_time": "2020-05-10T23:54:55.543911Z",
     "start_time": "2020-05-10T23:54:55.536916Z"
    }
   },
   "outputs": [
    {
     "data": {
      "text/plain": [
       "(5625, 1)"
      ]
     },
     "execution_count": 144,
     "metadata": {},
     "output_type": "execute_result"
    }
   ],
   "source": [
    "X = x_train_selected\n",
    "y = y_train"
   ]
  },
  {
   "cell_type": "code",
   "execution_count": 181,
   "metadata": {
    "ExecuteTime": {
     "end_time": "2020-05-11T01:03:32.541704Z",
     "start_time": "2020-05-11T01:03:32.536709Z"
    }
   },
   "outputs": [],
   "source": [
    "from sklearn.model_selection import cross_val_score\n",
    "from sklearn.linear_model import LogisticRegression\n",
    "from sklearn.metrics import make_scorer\n",
    "\n",
    "logreg = LogisticRegression()\n",
    "custom_scorer1 = make_scorer(symm_misclassif,needs_proba=True)\n",
    "custom_scorer2 = make_scorer(asymm_misclassif,needs_proba=True)"
   ]
  },
  {
   "cell_type": "markdown",
   "metadata": {},
   "source": [
    "#### Select optimum cutoff based on overall misclassification"
   ]
  },
  {
   "cell_type": "code",
   "execution_count": 182,
   "metadata": {
    "ExecuteTime": {
     "end_time": "2020-05-11T01:09:55.007033Z",
     "start_time": "2020-05-11T01:09:48.077002Z"
    }
   },
   "outputs": [
    {
     "name": "stdout",
     "output_type": "stream",
     "text": [
      "optimum probability - symmetric:  [0.5]\n",
      "optimum probability - asymmetric:  [0.25]\n"
     ]
    },
    {
     "data": {
      "image/png": "[encoded data removed]",
      "text/plain": [
       "<Figure size 864x360 with 2 Axes>"
      ]
     },
     "metadata": {
      "needs_background": "light"
     },
     "output_type": "display_data"
    }
   ],
   "source": [
    "prob_array = np.around(np.arange(0.1,0.9,0.05), decimals=2) \n",
    "mean_crossvalscore_sym = np.zeros(prob_array.size)\n",
    "mean_crossvalscore_asym = np.zeros(prob_array.size)\n",
    "i=0 \n",
    "\n",
    "for p in prob_array: \n",
    "    mean_crossvalscore_sym[i] =  cross_val_score(logreg,X,y,scoring=custom_scorer1,cv=3).mean()\n",
    "    mean_crossvalscore_asym[i] =  cross_val_score(logreg,X,y,scoring=custom_scorer2,cv=3).mean()\n",
    "    i=i+1 \n",
    "\n",
    "\n",
    "fig,ax=plt.subplots(1,2,figsize=(12,5))\n",
    "ax[0].plot(prob_array,mean_crossvalscore_sym);\n",
    "ax[1].plot(prob_array,mean_crossvalscore_asym);\n",
    "\n",
    "print('optimum probability - symmetric: ',prob_array[mean_crossvalscore_sym == np.min(mean_crossvalscore_sym)])\n",
    "print('optimum probability - asymmetric: ',prob_array[mean_crossvalscore_asym == np.min(mean_crossvalscore_asym)])\n"
   ]
  },
  {
   "cell_type": "markdown",
   "metadata": {},
   "source": [
    "#### Evaluate on Training sample"
   ]
  },
  {
   "cell_type": "code",
   "execution_count": 183,
   "metadata": {
    "ExecuteTime": {
     "end_time": "2020-05-11T01:13:23.436493Z",
     "start_time": "2020-05-11T01:13:23.261594Z"
    }
   },
   "outputs": [
    {
     "name": "stdout",
     "output_type": "stream",
     "text": [
      "Confusion Matrix :\n",
      "[[3006 1140]\n",
      " [ 294 1185]]\n",
      "Accuracy Score : 0.7450666666666667\n",
      "Report : \n",
      "              precision    recall  f1-score   support\n",
      "\n",
      "           0       0.91      0.73      0.81      4146\n",
      "           1       0.51      0.80      0.62      1479\n",
      "\n",
      "    accuracy                           0.75      5625\n",
      "   macro avg       0.71      0.76      0.72      5625\n",
      "weighted avg       0.81      0.75      0.76      5625\n",
      "\n",
      "AUC:  0.763126608994813\n"
     ]
    }
   ],
   "source": [
    "logreg.fit(X,y)\n",
    "\n",
    "predicted = (logreg.predict_proba(X)[:,1].reshape((y.shape[0],1))>0.25)*1\n",
    "\n",
    "from sklearn.metrics import confusion_matrix \n",
    "from sklearn.metrics import accuracy_score \n",
    "from sklearn.metrics import classification_report\n",
    "from sklearn.metrics import roc_auc_score\n",
    "\n",
    "print('Confusion Matrix :')\n",
    "print(confusion_matrix(y,predicted)) \n",
    "print('Accuracy Score :',accuracy_score(y, predicted))\n",
    "print('Report : ')\n",
    "print(classification_report(y, predicted))\n",
    "print('AUC: ',roc_auc_score(y,predicted))"
   ]
  },
  {
   "cell_type": "markdown",
   "metadata": {},
   "source": [
    "### Evaluate model on Test"
   ]
  },
  {
   "cell_type": "code",
   "execution_count": 184,
   "metadata": {
    "ExecuteTime": {
     "end_time": "2020-05-11T01:15:04.687693Z",
     "start_time": "2020-05-11T01:15:04.660709Z"
    }
   },
   "outputs": [
    {
     "name": "stdout",
     "output_type": "stream",
     "text": [
      "Confusion Matrix :\n",
      "[[731 286]\n",
      " [ 73 317]]\n",
      "Accuracy Score : 0.7448471926083866\n",
      "Report : \n",
      "              precision    recall  f1-score   support\n",
      "\n",
      "           0       0.91      0.72      0.80      1017\n",
      "           1       0.53      0.81      0.64       390\n",
      "\n",
      "    accuracy                           0.74      1407\n",
      "   macro avg       0.72      0.77      0.72      1407\n",
      "weighted avg       0.80      0.74      0.76      1407\n",
      "\n"
     ]
    }
   ],
   "source": [
    "predicted_test = (logreg.predict_proba(x_test_selected)[:,1].reshape((y_test.shape[0],1))>0.25)*1\n",
    "\n",
    "from sklearn.metrics import confusion_matrix \n",
    "from sklearn.metrics import accuracy_score \n",
    "from sklearn.metrics import classification_report\n",
    "\n",
    "print('Confusion Matrix :')\n",
    "print(confusion_matrix(y_test,predicted_test)) \n",
    "print('Accuracy Score :',accuracy_score(y_test, predicted_test))\n",
    "print('Report : ')\n",
    "print(classification_report(y_test, predicted_test))"
   ]
  },
  {
   "cell_type": "markdown",
   "metadata": {},
   "source": [
    "## XGBoost"
   ]
  },
  {
   "cell_type": "markdown",
   "metadata": {},
   "source": [
    "### Preprocessing feature set"
   ]
  },
  {
   "cell_type": "code",
   "execution_count": 30,
   "metadata": {
    "ExecuteTime": {
     "end_time": "2020-08-11T16:54:08.989008Z",
     "start_time": "2020-08-11T16:54:08.978991Z"
    }
   },
   "outputs": [],
   "source": [
    "from sklearn.preprocessing import MinMaxScaler\n",
    "scaler = MinMaxScaler()\n",
    "scaler.fit(x_train)\n",
    "X_train_scaled = scaler.transform(x_train)\n",
    "X_test_Scaled = scaler.transform(x_test)"
   ]
  },
  {
   "cell_type": "markdown",
   "metadata": {},
   "source": [
    "### Model configuration and Parameter tuning"
   ]
  },
  {
   "cell_type": "code",
   "execution_count": 13,
   "metadata": {
    "ExecuteTime": {
     "end_time": "2020-08-11T16:02:31.438421Z",
     "start_time": "2020-08-11T16:02:24.065389Z"
    }
   },
   "outputs": [],
   "source": [
    "# import xgboost\n",
    "from xgboost import XGBClassifier"
   ]
  },
  {
   "cell_type": "code",
   "execution_count": 14,
   "metadata": {
    "ExecuteTime": {
     "end_time": "2020-08-11T16:02:35.337879Z",
     "start_time": "2020-08-11T16:02:35.331860Z"
    }
   },
   "outputs": [],
   "source": [
    "# Objective\n",
    "objective_func = 'binary:logistic'\n",
    "# Class weights\n",
    "sum_pos = np.sum(y_train)\n",
    "sum_neg = len(y_train) - sum_pos\n",
    "weight = sum_neg/sum_pos"
   ]
  },
  {
   "cell_type": "markdown",
   "metadata": {},
   "source": [
    "#### Randomized search for tuning learning rate and n_estimators"
   ]
  },
  {
   "cell_type": "code",
   "execution_count": 15,
   "metadata": {
    "ExecuteTime": {
     "end_time": "2020-07-27T17:45:37.870137Z",
     "start_time": "2020-07-27T17:45:37.866138Z"
    }
   },
   "outputs": [],
   "source": [
    "# Define model\n",
    "xgb = XGBClassifier(objective=objective_func,scale_pos_weight=weight,n_estimators=500)"
   ]
  },
  {
   "cell_type": "code",
   "execution_count": 48,
   "metadata": {
    "ExecuteTime": {
     "end_time": "2020-07-27T06:27:53.386902Z",
     "start_time": "2020-07-27T05:59:37.509501Z"
    }
   },
   "outputs": [],
   "source": [
    "from sklearn.model_selection import RandomizedSearchCV\n",
    "params = {'learning_rate':[0.001,0.005,0.01,0.05,0.1,0.2],'n_estimators':[100,300,500,800,1000,5000]}\n",
    "randomizedsearch = RandomizedSearchCV(xgb,params,random_state=710,n_iter=30,cv=5,n_jobs=-1)\n",
    "search_result = randomizedsearch.fit(X_train_scaled,np.ravel(y_train))"
   ]
  },
  {
   "cell_type": "code",
   "execution_count": 50,
   "metadata": {
    "ExecuteTime": {
     "end_time": "2020-07-27T06:48:36.542160Z",
     "start_time": "2020-07-27T06:48:36.536185Z"
    }
   },
   "outputs": [
    {
     "data": {
      "text/plain": [
       "{'n_estimators': 1000, 'learning_rate': 0.05}"
      ]
     },
     "execution_count": 50,
     "metadata": {},
     "output_type": "execute_result"
    }
   ],
   "source": [
    "search_result.best_params_"
   ]
  },
  {
   "cell_type": "code",
   "execution_count": 51,
   "metadata": {
    "ExecuteTime": {
     "end_time": "2020-07-27T06:50:08.318107Z",
     "start_time": "2020-07-27T06:50:08.296121Z"
    }
   },
   "outputs": [
    {
     "data": {
      "text/plain": [
       "{'mean_fit_time': array([  2.78480783,  27.76004252,  14.46712298,  13.65698624,\n",
       "         22.12274299,  13.73434191,  14.41295414, 141.53176227,\n",
       "         30.84497604,   2.92972622,  10.42345438, 157.73106575,\n",
       "          8.34962544, 150.43851681,  26.62518926,  18.09345326,\n",
       "        163.9332469 ,  38.55219865,  33.71340418, 149.17595496,\n",
       "          3.14801068,  14.8799953 ,  10.66724439,   4.65830264,\n",
       "         29.95318737,  28.22249455,   8.02580738,  22.74478712,\n",
       "        125.77947264,   2.90553751]),\n",
       " 'std_fit_time': array([ 0.02399179,  0.21391094,  0.06824779,  0.05142678,  0.11940331,\n",
       "         0.04874624,  0.13887599,  8.28318572,  1.9377181 ,  0.05485946,\n",
       "         0.69242195,  5.86313665,  0.13131106, 10.9831429 ,  1.76488942,\n",
       "         0.48158102,  5.18188138,  1.51843626,  2.01120334,  1.45938299,\n",
       "         0.14580045,  0.12437317,  0.92219201,  1.09870738,  2.69483411,\n",
       "         0.24123198,  0.02476106,  0.18171301, 20.47120194,  0.05512456]),\n",
       " 'mean_score_time': array([0.01659002, 0.1453186 , 0.05716891, 0.055969  , 0.09314804,\n",
       "        0.05816741, 0.05916715, 1.56670423, 0.17290282, 0.01099372,\n",
       "        0.04697371, 1.43618417, 0.04077721, 1.31305008, 0.12293043,\n",
       "        0.0795557 , 1.70513453, 0.25505657, 0.14591794, 1.20031462,\n",
       "        0.01499205, 0.0695611 , 0.03658013, 0.01779027, 0.10993943,\n",
       "        0.12592955, 0.03358169, 0.09814525, 1.17393885, 0.00959506]),\n",
       " 'std_score_time': array([0.00407712, 0.02432209, 0.00365296, 0.00141344, 0.0054155 ,\n",
       "        0.00610921, 0.00171997, 0.29537917, 0.02858397, 0.00063173,\n",
       "        0.01025096, 0.0678422 , 0.01064113, 0.22568853, 0.03521094,\n",
       "        0.01889489, 0.17261431, 0.15386528, 0.04308874, 0.15640055,\n",
       "        0.00455756, 0.00970209, 0.00174298, 0.0048287 , 0.01701855,\n",
       "        0.00554704, 0.00079945, 0.00556119, 0.16089982, 0.00119917]),\n",
       " 'param_n_estimators': masked_array(data=[100, 1000, 500, 500, 800, 500, 500, 5000, 1000, 100,\n",
       "                    300, 5000, 300, 5000, 800, 500, 5000, 1000, 1000, 5000,\n",
       "                    100, 500, 300, 100, 1000, 1000, 300, 800, 5000, 100],\n",
       "              mask=[False, False, False, False, False, False, False, False,\n",
       "                    False, False, False, False, False, False, False, False,\n",
       "                    False, False, False, False, False, False, False, False,\n",
       "                    False, False, False, False, False, False],\n",
       "        fill_value='?',\n",
       "             dtype=object),\n",
       " 'param_learning_rate': masked_array(data=[0.1, 0.05, 0.005, 0.1, 0.05, 0.2, 0.01, 0.005, 0.001,\n",
       "                    0.01, 0.01, 0.001, 0.1, 0.1, 0.1, 0.001, 0.05, 0.01,\n",
       "                    0.1, 0.2, 0.2, 0.05, 0.005, 0.05, 0.2, 0.005, 0.2,\n",
       "                    0.005, 0.01, 0.001],\n",
       "              mask=[False, False, False, False, False, False, False, False,\n",
       "                    False, False, False, False, False, False, False, False,\n",
       "                    False, False, False, False, False, False, False, False,\n",
       "                    False, False, False, False, False, False],\n",
       "        fill_value='?',\n",
       "             dtype=object),\n",
       " 'params': [{'n_estimators': 100, 'learning_rate': 0.1},\n",
       "  {'n_estimators': 1000, 'learning_rate': 0.05},\n",
       "  {'n_estimators': 500, 'learning_rate': 0.005},\n",
       "  {'n_estimators': 500, 'learning_rate': 0.1},\n",
       "  {'n_estimators': 800, 'learning_rate': 0.05},\n",
       "  {'n_estimators': 500, 'learning_rate': 0.2},\n",
       "  {'n_estimators': 500, 'learning_rate': 0.01},\n",
       "  {'n_estimators': 5000, 'learning_rate': 0.005},\n",
       "  {'n_estimators': 1000, 'learning_rate': 0.001},\n",
       "  {'n_estimators': 100, 'learning_rate': 0.01},\n",
       "  {'n_estimators': 300, 'learning_rate': 0.01},\n",
       "  {'n_estimators': 5000, 'learning_rate': 0.001},\n",
       "  {'n_estimators': 300, 'learning_rate': 0.1},\n",
       "  {'n_estimators': 5000, 'learning_rate': 0.1},\n",
       "  {'n_estimators': 800, 'learning_rate': 0.1},\n",
       "  {'n_estimators': 500, 'learning_rate': 0.001},\n",
       "  {'n_estimators': 5000, 'learning_rate': 0.05},\n",
       "  {'n_estimators': 1000, 'learning_rate': 0.01},\n",
       "  {'n_estimators': 1000, 'learning_rate': 0.1},\n",
       "  {'n_estimators': 5000, 'learning_rate': 0.2},\n",
       "  {'n_estimators': 100, 'learning_rate': 0.2},\n",
       "  {'n_estimators': 500, 'learning_rate': 0.05},\n",
       "  {'n_estimators': 300, 'learning_rate': 0.005},\n",
       "  {'n_estimators': 100, 'learning_rate': 0.05},\n",
       "  {'n_estimators': 1000, 'learning_rate': 0.2},\n",
       "  {'n_estimators': 1000, 'learning_rate': 0.005},\n",
       "  {'n_estimators': 300, 'learning_rate': 0.2},\n",
       "  {'n_estimators': 800, 'learning_rate': 0.005},\n",
       "  {'n_estimators': 5000, 'learning_rate': 0.01},\n",
       "  {'n_estimators': 100, 'learning_rate': 0.001}],\n",
       " 'split0_test_score': array([0.76355556, 0.77155556, 0.75111111, 0.77155556, 0.76533333,\n",
       "        0.77244444, 0.75288889, 0.76533333, 0.75288889, 0.75288889,\n",
       "        0.75111111, 0.75288889, 0.76622222, 0.76266667, 0.76888889,\n",
       "        0.74844444, 0.76888889, 0.76355556, 0.77688889, 0.75822222,\n",
       "        0.768     , 0.77333333, 0.75822222, 0.752     , 0.76888889,\n",
       "        0.75022222, 0.76888889, 0.75022222, 0.76622222, 0.73155556]),\n",
       " 'split1_test_score': array([0.76977778, 0.78133333, 0.75555556, 0.78311111, 0.77688889,\n",
       "        0.77866667, 0.76088889, 0.78044444, 0.75022222, 0.75022222,\n",
       "        0.76      , 0.76266667, 0.77866667, 0.776     , 0.78488889,\n",
       "        0.75288889, 0.77866667, 0.76622222, 0.784     , 0.77511111,\n",
       "        0.76977778, 0.77955556, 0.75111111, 0.76266667, 0.77955556,\n",
       "        0.76355556, 0.78044444, 0.76088889, 0.78133333, 0.75022222]),\n",
       " 'split2_test_score': array([0.76088889, 0.77688889, 0.74133333, 0.77777778, 0.77155556,\n",
       "        0.77155556, 0.75466667, 0.776     , 0.728     , 0.728     ,\n",
       "        0.74755556, 0.75644444, 0.77955556, 0.77866667, 0.77422222,\n",
       "        0.72977778, 0.77422222, 0.76355556, 0.77511111, 0.77777778,\n",
       "        0.76266667, 0.76711111, 0.73511111, 0.75022222, 0.76888889,\n",
       "        0.75555556, 0.77244444, 0.75377778, 0.77333333, 0.72088889]),\n",
       " 'split3_test_score': array([0.73155556, 0.74755556, 0.73066667, 0.74222222, 0.74755556,\n",
       "        0.75733333, 0.74044444, 0.73422222, 0.72888889, 0.72888889,\n",
       "        0.73066667, 0.73955556, 0.73333333, 0.74755556, 0.74311111,\n",
       "        0.71733333, 0.74755556, 0.72888889, 0.74577778, 0.75022222,\n",
       "        0.74311111, 0.74133333, 0.72355556, 0.736     , 0.75111111,\n",
       "        0.74044444, 0.75377778, 0.73866667, 0.74488889, 0.71377778]),\n",
       " 'split4_test_score': array([0.776     , 0.77511111, 0.76355556, 0.77155556, 0.77777778,\n",
       "        0.75644444, 0.76977778, 0.77511111, 0.75466667, 0.75555556,\n",
       "        0.76088889, 0.76888889, 0.77511111, 0.76533333, 0.76888889,\n",
       "        0.74844444, 0.75911111, 0.77777778, 0.75911111, 0.75644444,\n",
       "        0.77777778, 0.77511111, 0.75822222, 0.76444444, 0.75466667,\n",
       "        0.76888889, 0.76355556, 0.76177778, 0.776     , 0.744     ]),\n",
       " 'mean_test_score': array([0.76035556, 0.77048889, 0.74844444, 0.76924444, 0.76782222,\n",
       "        0.76728889, 0.75573333, 0.76622222, 0.74293333, 0.74311111,\n",
       "        0.75004444, 0.75608889, 0.76657778, 0.76604444, 0.768     ,\n",
       "        0.73937778, 0.76568889, 0.76      , 0.76817778, 0.76355556,\n",
       "        0.76426667, 0.76728889, 0.74524444, 0.75306667, 0.76462222,\n",
       "        0.75573333, 0.76782222, 0.75306667, 0.76835556, 0.73208889]),\n",
       " 'std_test_score': array([0.01531987, 0.01189119, 0.0114249 , 0.01418439, 0.01106515,\n",
       "        0.00884255, 0.00966235, 0.01674323, 0.01191774, 0.01209673,\n",
       "        0.0109503 , 0.00990782, 0.01727832, 0.01106515, 0.01374764,\n",
       "        0.01360203, 0.0111675 , 0.0164192 , 0.01384386, 0.01088662,\n",
       "        0.01163596, 0.01357878, 0.01374304, 0.01021874, 0.01040266,\n",
       "        0.00998409, 0.00891374, 0.0084027 , 0.01270334, 0.01365074]),\n",
       " 'rank_test_score': array([17,  1, 25,  2,  6,  9, 20, 11, 28, 27, 24, 19, 10, 12,  5, 29, 13,\n",
       "        18,  4, 16, 15,  8, 26, 22, 14, 20,  6, 23,  3, 30])}"
      ]
     },
     "execution_count": 51,
     "metadata": {},
     "output_type": "execute_result"
    }
   ],
   "source": [
    "search_result.cv_results_"
   ]
  },
  {
   "cell_type": "markdown",
   "metadata": {},
   "source": [
    "#### Tune learning rate"
   ]
  },
  {
   "cell_type": "code",
   "execution_count": 18,
   "metadata": {
    "ExecuteTime": {
     "end_time": "2020-08-11T16:23:34.338306Z",
     "start_time": "2020-08-11T16:23:34.333311Z"
    }
   },
   "outputs": [],
   "source": [
    "# Grid Search CV\n",
    "from sklearn.model_selection import GridSearchCV\n",
    "from sklearn.model_selection import StratifiedKFold\n",
    "params = {'learning_rate':[0.001,0.01,0.05,0.1,0.2]}\n",
    "kfold = StratifiedKFold(n_splits=5, shuffle=True, random_state=710)\n",
    "grid_search = GridSearchCV(xgb, params, scoring=\"roc_auc\", n_jobs=-1, cv=kfold)\n",
    "grid_result = grid_search.fit(X_train_scaled,np.ravel(y_train))"
   ]
  },
  {
   "cell_type": "code",
   "execution_count": 38,
   "metadata": {
    "ExecuteTime": {
     "end_time": "2020-07-27T04:19:02.424456Z",
     "start_time": "2020-07-27T04:19:01.812365Z"
    }
   },
   "outputs": [
    {
     "name": "stdout",
     "output_type": "stream",
     "text": [
      "Best: 0.842552 using {'learning_rate': 0.01}\n"
     ]
    },
    {
     "data": {
      "text/plain": [
       "Text(0, 0.5, 'AUC')"
      ]
     },
     "execution_count": 38,
     "metadata": {},
     "output_type": "execute_result"
    },
    {
     "data": {
      "image/png": "[encoded data removed]",
      "text/plain": [
       "<Figure size 432x288 with 1 Axes>"
      ]
     },
     "metadata": {
      "needs_background": "light"
     },
     "output_type": "display_data"
    }
   ],
   "source": [
    "# Summarize GridSearch CV results\n",
    "learning_rate = [0.001,0.01,0.05,0.1,0.2]\n",
    "print(\"Best: %f using %s\" % (grid_result.best_score_, grid_result.best_params_))\n",
    "means = grid_result.cv_results_['mean_test_score']\n",
    "stds = grid_result.cv_results_['std_test_score']\n",
    "\n",
    "plt.errorbar(learning_rate, means, yerr=stds)\n",
    "plt.title(\"XGBoost learning_rate vs ROC-AUC\")\n",
    "plt.xlabel('learning_rate')\n",
    "plt.ylabel('AUC')"
   ]
  },
  {
   "cell_type": "markdown",
   "metadata": {},
   "source": [
    "<br>\n",
    "Best AUC is achieved with a learning rate of 0.01. AUC decreases as the scale of learning rate is increased. In the next step, we search for optimal learning rate values in the scale of 10E-02. We will explore a random search over this space.\n",
    "\n",
    "<br>\n"
   ]
  },
  {
   "cell_type": "code",
   "execution_count": 44,
   "metadata": {
    "ExecuteTime": {
     "end_time": "2020-07-27T04:44:25.049378Z",
     "start_time": "2020-07-27T04:41:10.907038Z"
    }
   },
   "outputs": [],
   "source": [
    "# Tune for learning rate again at the scale of 0.01\n",
    "learning_rate = np.sort(np.random.uniform(0.01,0.09,20))\n",
    "params = {'learning_rate':learning_rate}\n",
    "kfold = StratifiedKFold(n_splits=3, shuffle=True, random_state=710)\n",
    "grid_search = GridSearchCV(xgb, params, scoring=\"roc_auc\", n_jobs=-1, cv=kfold)\n",
    "grid_result = grid_search.fit(X_train_scaled,np.ravel(y_train))"
   ]
  },
  {
   "cell_type": "code",
   "execution_count": 45,
   "metadata": {
    "ExecuteTime": {
     "end_time": "2020-07-27T04:54:40.336890Z",
     "start_time": "2020-07-27T04:54:40.099024Z"
    }
   },
   "outputs": [
    {
     "name": "stdout",
     "output_type": "stream",
     "text": [
      "Best: 0.842212 using {'learning_rate': 0.01018551272567601}\n"
     ]
    },
    {
     "data": {
      "text/plain": [
       "Text(0, 0.5, 'AUC')"
      ]
     },
     "execution_count": 45,
     "metadata": {},
     "output_type": "execute_result"
    },
    {
     "data": {
      "image/png": "[encoded data removed]",
      "text/plain": [
       "<Figure size 432x288 with 1 Axes>"
      ]
     },
     "metadata": {
      "needs_background": "light"
     },
     "output_type": "display_data"
    }
   ],
   "source": [
    "print(\"Best: %f using %s\" % (grid_result.best_score_, grid_result.best_params_))\n",
    "means = grid_result.cv_results_['mean_test_score']\n",
    "stds = grid_result.cv_results_['std_test_score']\n",
    "\n",
    "plt.errorbar(learning_rate, means, yerr=stds)\n",
    "plt.title(\"XGBoost learning_rate vs ROC-AUC\")\n",
    "plt.xlabel('learning_rate')\n",
    "plt.ylabel('AUC')"
   ]
  },
  {
   "cell_type": "markdown",
   "metadata": {},
   "source": [
    "We will now optimize the number of trees (n_estimators) at a learning rate of 0.01"
   ]
  },
  {
   "cell_type": "markdown",
   "metadata": {},
   "source": [
    "#### Tune number of estimators and tree size"
   ]
  },
  {
   "cell_type": "code",
   "execution_count": 17,
   "metadata": {
    "ExecuteTime": {
     "end_time": "2020-07-27T17:47:04.706080Z",
     "start_time": "2020-07-27T17:47:04.702083Z"
    }
   },
   "outputs": [],
   "source": [
    "xgb2 = XGBClassifier(objective=objective_func,scale_pos_weight=weight,learning_rate=0.01)\n",
    "\n",
    "params = {'n_estimators':[500,1000,2000,5000],'max_depth':[3,6,8,10]}\n",
    "kfold = StratifiedKFold(n_splits=5, shuffle=True, random_state=710)\n",
    "grid_search = GridSearchCV(xgb2, params, scoring=\"roc_auc\", n_jobs=-1, cv=kfold)\n",
    "grid_result = grid_search.fit(X_train_scaled,np.ravel(y_train))"
   ]
  },
  {
   "cell_type": "code",
   "execution_count": 54,
   "metadata": {
    "ExecuteTime": {
     "end_time": "2020-07-27T08:06:02.289501Z",
     "start_time": "2020-07-27T08:06:02.283505Z"
    }
   },
   "outputs": [
    {
     "name": "stdout",
     "output_type": "stream",
     "text": [
      "{'max_depth': 3, 'n_estimators': 500}\n",
      "0.8466107746483968\n"
     ]
    }
   ],
   "source": [
    "print(grid_result.best_params_)\n",
    "print(grid_result.best_score_)"
   ]
  },
  {
   "cell_type": "code",
   "execution_count": 18,
   "metadata": {
    "ExecuteTime": {
     "end_time": "2020-07-27T17:50:09.162985Z",
     "start_time": "2020-07-27T17:48:00.500614Z"
    }
   },
   "outputs": [],
   "source": [
    "# Repeat grid search\n",
    "params = {'n_estimators':[100,200,300,400,500],'max_depth':[2,3,4]}\n",
    "kfold = StratifiedKFold(n_splits=5, shuffle=True, random_state=710)\n",
    "grid_search = GridSearchCV(xgb2, params, scoring=\"roc_auc\", n_jobs=-1, cv=kfold)\n",
    "grid_result = grid_search.fit(X_train_scaled,np.ravel(y_train))"
   ]
  },
  {
   "cell_type": "code",
   "execution_count": 21,
   "metadata": {
    "ExecuteTime": {
     "end_time": "2020-07-27T18:01:06.221864Z",
     "start_time": "2020-07-27T18:01:05.054450Z"
    }
   },
   "outputs": [
    {
     "data": {
      "image/png": "[encoded data removed]",
      "text/plain": [
       "<Figure size 432x288 with 1 Axes>"
      ]
     },
     "metadata": {
      "needs_background": "light"
     },
     "output_type": "display_data"
    }
   ],
   "source": [
    "means = grid_result.cv_results_['mean_test_score']\n",
    "estimators = grid_result.cv_results_['param_n_estimators']\n",
    "depth = grid_result.cv_results_['param_max_depth']\n",
    "sns.lineplot(x=estimators,y=means,hue=depth);\n"
   ]
  },
  {
   "cell_type": "code",
   "execution_count": 23,
   "metadata": {
    "ExecuteTime": {
     "end_time": "2020-07-27T18:03:54.534531Z",
     "start_time": "2020-07-27T18:03:54.528537Z"
    }
   },
   "outputs": [
    {
     "name": "stdout",
     "output_type": "stream",
     "text": [
      "best param values:  {'max_depth': 4, 'n_estimators': 300}\n",
      "best AUC value achieved:  0.8468704970752737\n"
     ]
    }
   ],
   "source": [
    "print('best param values: ',grid_result.best_params_)\n",
    "print('best AUC value achieved: ',grid_result.best_score_)"
   ]
  },
  {
   "cell_type": "markdown",
   "metadata": {},
   "source": [
    "#### Tune subsampling"
   ]
  },
  {
   "cell_type": "code",
   "execution_count": 15,
   "metadata": {
    "ExecuteTime": {
     "end_time": "2020-08-11T16:14:21.688371Z",
     "start_time": "2020-08-11T16:14:21.684372Z"
    }
   },
   "outputs": [],
   "source": [
    "xgb3 = XGBClassifier(objective=objective_func,scale_pos_weight=weight,learning_rate=0.01,max_depth = 4, n_estimators = 300)"
   ]
  },
  {
   "cell_type": "code",
   "execution_count": 26,
   "metadata": {
    "ExecuteTime": {
     "end_time": "2020-08-11T16:33:26.491193Z",
     "start_time": "2020-08-11T16:32:27.188736Z"
    }
   },
   "outputs": [],
   "source": [
    "# Grid search on subsampling\n",
    "\n",
    "params = {'subsample':[0.1,0.2,0.3,0.4,0.5,0.6,0.7,1.0]}\n",
    "kfold = StratifiedKFold(n_splits=5, shuffle=True, random_state=710)\n",
    "grid_search = GridSearchCV(xgb3, params, scoring=\"roc_auc\", n_jobs=-1, cv=kfold)\n",
    "grid_result = grid_search.fit(X_train_scaled,np.ravel(y_train))"
   ]
  },
  {
   "cell_type": "code",
   "execution_count": 27,
   "metadata": {
    "ExecuteTime": {
     "end_time": "2020-08-11T16:34:35.513833Z",
     "start_time": "2020-08-11T16:34:35.282968Z"
    }
   },
   "outputs": [
    {
     "data": {
      "image/png": "[encoded data removed]",
      "text/plain": [
       "<Figure size 432x288 with 1 Axes>"
      ]
     },
     "metadata": {
      "needs_background": "light"
     },
     "output_type": "display_data"
    }
   ],
   "source": [
    "means = grid_result.cv_results_['mean_test_score']\n",
    "estimators = grid_result.cv_results_['param_subsample']\n",
    "sns.lineplot(x=estimators,y=means);"
   ]
  },
  {
   "cell_type": "code",
   "execution_count": 28,
   "metadata": {
    "ExecuteTime": {
     "end_time": "2020-08-11T16:34:40.966980Z",
     "start_time": "2020-08-11T16:34:40.961006Z"
    }
   },
   "outputs": [
    {
     "name": "stdout",
     "output_type": "stream",
     "text": [
      "best param values:  {'subsample': 0.2}\n",
      "best AUC value achieved:  0.8498002254954657\n"
     ]
    }
   ],
   "source": [
    "print('best param values: ',grid_result.best_params_)\n",
    "print('best AUC value achieved: ',grid_result.best_score_)"
   ]
  },
  {
   "cell_type": "markdown",
   "metadata": {},
   "source": [
    "### Fit selected model and monitor performance"
   ]
  },
  {
   "cell_type": "code",
   "execution_count": 29,
   "metadata": {
    "ExecuteTime": {
     "end_time": "2020-08-11T16:48:51.305872Z",
     "start_time": "2020-08-11T16:48:51.299875Z"
    }
   },
   "outputs": [],
   "source": [
    "# Final parameter values are:\n",
    "# learning_rate = 0.01\n",
    "# Trees = 300\n",
    "# Max tree depth = 4\n",
    "# Row subsample = 0.2\n",
    "\n",
    "xgb_final = XGBClassifier(objective=objective_func,scale_pos_weight=weight,learning_rate=0.01,max_depth = 4, n_estimators = 300,subsample=0.2)"
   ]
  },
  {
   "cell_type": "code",
   "execution_count": 35,
   "metadata": {
    "ExecuteTime": {
     "end_time": "2020-08-11T17:10:43.396564Z",
     "start_time": "2020-08-11T17:10:43.385571Z"
    }
   },
   "outputs": [],
   "source": [
    "# Fit model on training set and monitor performance on an eval set\n",
    "x_dev, x_eval, y_dev, y_eval = train_test_split(x_train,y_train,test_size=0.2,random_state = 710)\n",
    "x_dev_scaled = scaler.transform(x_dev)\n",
    "x_eval_scaled = scaler.transform(x_eval)"
   ]
  },
  {
   "cell_type": "code",
   "execution_count": 36,
   "metadata": {
    "ExecuteTime": {
     "end_time": "2020-08-11T17:23:19.229558Z",
     "start_time": "2020-08-11T17:23:14.208125Z"
    }
   },
   "outputs": [
    {
     "name": "stdout",
     "output_type": "stream",
     "text": [
      "[0]\tvalidation_0-auc:0.82198\tvalidation_0-logloss:0.68937\tvalidation_1-auc:0.79465\tvalidation_1-logloss:0.68966\n",
      "[1]\tvalidation_0-auc:0.83611\tvalidation_0-logloss:0.68572\tvalidation_1-auc:0.80502\tvalidation_1-logloss:0.68628\n",
      "[2]\tvalidation_0-auc:0.84990\tvalidation_0-logloss:0.68254\tvalidation_1-auc:0.81831\tvalidation_1-logloss:0.68311\n",
      "[3]\tvalidation_0-auc:0.85091\tvalidation_0-logloss:0.67933\tvalidation_1-auc:0.82312\tvalidation_1-logloss:0.67988\n",
      "[4]\tvalidation_0-auc:0.85300\tvalidation_0-logloss:0.67603\tvalidation_1-auc:0.82644\tvalidation_1-logloss:0.67663\n",
      "[5]\tvalidation_0-auc:0.85369\tvalidation_0-logloss:0.67268\tvalidation_1-auc:0.82548\tvalidation_1-logloss:0.67346\n",
      "[6]\tvalidation_0-auc:0.85439\tvalidation_0-logloss:0.66963\tvalidation_1-auc:0.82538\tvalidation_1-logloss:0.67061\n",
      "[7]\tvalidation_0-auc:0.85363\tvalidation_0-logloss:0.66622\tvalidation_1-auc:0.82693\tvalidation_1-logloss:0.66724\n",
      "[8]\tvalidation_0-auc:0.85403\tvalidation_0-logloss:0.66329\tvalidation_1-auc:0.82811\tvalidation_1-logloss:0.66436\n",
      "[9]\tvalidation_0-auc:0.85581\tvalidation_0-logloss:0.66010\tvalidation_1-auc:0.82869\tvalidation_1-logloss:0.66136\n",
      "[10]\tvalidation_0-auc:0.85539\tvalidation_0-logloss:0.65694\tvalidation_1-auc:0.82743\tvalidation_1-logloss:0.65845\n",
      "[11]\tvalidation_0-auc:0.85561\tvalidation_0-logloss:0.65384\tvalidation_1-auc:0.82762\tvalidation_1-logloss:0.65563\n",
      "[12]\tvalidation_0-auc:0.85618\tvalidation_0-logloss:0.65112\tvalidation_1-auc:0.82766\tvalidation_1-logloss:0.65310\n",
      "[13]\tvalidation_0-auc:0.85642\tvalidation_0-logloss:0.64856\tvalidation_1-auc:0.82717\tvalidation_1-logloss:0.65062\n",
      "[14]\tvalidation_0-auc:0.85613\tvalidation_0-logloss:0.64590\tvalidation_1-auc:0.82784\tvalidation_1-logloss:0.64804\n",
      "[15]\tvalidation_0-auc:0.85715\tvalidation_0-logloss:0.64283\tvalidation_1-auc:0.82848\tvalidation_1-logloss:0.64514\n",
      "[16]\tvalidation_0-auc:0.85769\tvalidation_0-logloss:0.64015\tvalidation_1-auc:0.82845\tvalidation_1-logloss:0.64262\n",
      "[17]\tvalidation_0-auc:0.85791\tvalidation_0-logloss:0.63770\tvalidation_1-auc:0.82993\tvalidation_1-logloss:0.64016\n",
      "[18]\tvalidation_0-auc:0.85814\tvalidation_0-logloss:0.63508\tvalidation_1-auc:0.83238\tvalidation_1-logloss:0.63745\n",
      "[19]\tvalidation_0-auc:0.85809\tvalidation_0-logloss:0.63223\tvalidation_1-auc:0.83273\tvalidation_1-logloss:0.63467\n",
      "[20]\tvalidation_0-auc:0.85811\tvalidation_0-logloss:0.62969\tvalidation_1-auc:0.83195\tvalidation_1-logloss:0.63238\n",
      "[21]\tvalidation_0-auc:0.85868\tvalidation_0-logloss:0.62723\tvalidation_1-auc:0.83281\tvalidation_1-logloss:0.62995\n",
      "[22]\tvalidation_0-auc:0.85888\tvalidation_0-logloss:0.62461\tvalidation_1-auc:0.83310\tvalidation_1-logloss:0.62750\n",
      "[23]\tvalidation_0-auc:0.85937\tvalidation_0-logloss:0.62181\tvalidation_1-auc:0.83378\tvalidation_1-logloss:0.62479\n",
      "[24]\tvalidation_0-auc:0.85928\tvalidation_0-logloss:0.61956\tvalidation_1-auc:0.83362\tvalidation_1-logloss:0.62266\n",
      "[25]\tvalidation_0-auc:0.85906\tvalidation_0-logloss:0.61730\tvalidation_1-auc:0.83381\tvalidation_1-logloss:0.62038\n",
      "[26]\tvalidation_0-auc:0.85901\tvalidation_0-logloss:0.61527\tvalidation_1-auc:0.83331\tvalidation_1-logloss:0.61846\n",
      "[27]\tvalidation_0-auc:0.85940\tvalidation_0-logloss:0.61300\tvalidation_1-auc:0.83343\tvalidation_1-logloss:0.61629\n",
      "[28]\tvalidation_0-auc:0.85952\tvalidation_0-logloss:0.61074\tvalidation_1-auc:0.83388\tvalidation_1-logloss:0.61407\n",
      "[29]\tvalidation_0-auc:0.85950\tvalidation_0-logloss:0.60835\tvalidation_1-auc:0.83398\tvalidation_1-logloss:0.61177\n",
      "[30]\tvalidation_0-auc:0.85951\tvalidation_0-logloss:0.60628\tvalidation_1-auc:0.83423\tvalidation_1-logloss:0.60984\n",
      "[31]\tvalidation_0-auc:0.85962\tvalidation_0-logloss:0.60402\tvalidation_1-auc:0.83392\tvalidation_1-logloss:0.60785\n",
      "[32]\tvalidation_0-auc:0.85960\tvalidation_0-logloss:0.60192\tvalidation_1-auc:0.83405\tvalidation_1-logloss:0.60577\n",
      "[33]\tvalidation_0-auc:0.85955\tvalidation_0-logloss:0.59978\tvalidation_1-auc:0.83401\tvalidation_1-logloss:0.60371\n",
      "[34]\tvalidation_0-auc:0.85982\tvalidation_0-logloss:0.59790\tvalidation_1-auc:0.83477\tvalidation_1-logloss:0.60181\n",
      "[35]\tvalidation_0-auc:0.86019\tvalidation_0-logloss:0.59578\tvalidation_1-auc:0.83543\tvalidation_1-logloss:0.59984\n",
      "[36]\tvalidation_0-auc:0.86046\tvalidation_0-logloss:0.59391\tvalidation_1-auc:0.83551\tvalidation_1-logloss:0.59811\n",
      "[37]\tvalidation_0-auc:0.86079\tvalidation_0-logloss:0.59197\tvalidation_1-auc:0.83604\tvalidation_1-logloss:0.59617\n",
      "[38]\tvalidation_0-auc:0.86080\tvalidation_0-logloss:0.59012\tvalidation_1-auc:0.83574\tvalidation_1-logloss:0.59448\n",
      "[39]\tvalidation_0-auc:0.86099\tvalidation_0-logloss:0.58811\tvalidation_1-auc:0.83543\tvalidation_1-logloss:0.59273\n",
      "[40]\tvalidation_0-auc:0.86116\tvalidation_0-logloss:0.58655\tvalidation_1-auc:0.83589\tvalidation_1-logloss:0.59132\n",
      "[41]\tvalidation_0-auc:0.86132\tvalidation_0-logloss:0.58469\tvalidation_1-auc:0.83577\tvalidation_1-logloss:0.58978\n",
      "[42]\tvalidation_0-auc:0.86138\tvalidation_0-logloss:0.58293\tvalidation_1-auc:0.83565\tvalidation_1-logloss:0.58818\n",
      "[43]\tvalidation_0-auc:0.86151\tvalidation_0-logloss:0.58108\tvalidation_1-auc:0.83586\tvalidation_1-logloss:0.58646\n",
      "[44]\tvalidation_0-auc:0.86155\tvalidation_0-logloss:0.57917\tvalidation_1-auc:0.83576\tvalidation_1-logloss:0.58465\n",
      "[45]\tvalidation_0-auc:0.86160\tvalidation_0-logloss:0.57722\tvalidation_1-auc:0.83546\tvalidation_1-logloss:0.58291\n",
      "[46]\tvalidation_0-auc:0.86164\tvalidation_0-logloss:0.57555\tvalidation_1-auc:0.83545\tvalidation_1-logloss:0.58153\n",
      "[47]\tvalidation_0-auc:0.86175\tvalidation_0-logloss:0.57390\tvalidation_1-auc:0.83557\tvalidation_1-logloss:0.57990\n",
      "[48]\tvalidation_0-auc:0.86185\tvalidation_0-logloss:0.57217\tvalidation_1-auc:0.83556\tvalidation_1-logloss:0.57836\n",
      "[49]\tvalidation_0-auc:0.86190\tvalidation_0-logloss:0.57070\tvalidation_1-auc:0.83588\tvalidation_1-logloss:0.57691\n",
      "[50]\tvalidation_0-auc:0.86210\tvalidation_0-logloss:0.56904\tvalidation_1-auc:0.83575\tvalidation_1-logloss:0.57544\n",
      "[51]\tvalidation_0-auc:0.86227\tvalidation_0-logloss:0.56734\tvalidation_1-auc:0.83561\tvalidation_1-logloss:0.57404\n",
      "[52]\tvalidation_0-auc:0.86246\tvalidation_0-logloss:0.56590\tvalidation_1-auc:0.83557\tvalidation_1-logloss:0.57278\n",
      "[53]\tvalidation_0-auc:0.86268\tvalidation_0-logloss:0.56442\tvalidation_1-auc:0.83536\tvalidation_1-logloss:0.57160\n",
      "[54]\tvalidation_0-auc:0.86265\tvalidation_0-logloss:0.56316\tvalidation_1-auc:0.83557\tvalidation_1-logloss:0.57034\n",
      "[55]\tvalidation_0-auc:0.86273\tvalidation_0-logloss:0.56150\tvalidation_1-auc:0.83547\tvalidation_1-logloss:0.56882\n",
      "[56]\tvalidation_0-auc:0.86288\tvalidation_0-logloss:0.56005\tvalidation_1-auc:0.83539\tvalidation_1-logloss:0.56754\n",
      "[57]\tvalidation_0-auc:0.86287\tvalidation_0-logloss:0.55874\tvalidation_1-auc:0.83543\tvalidation_1-logloss:0.56633\n",
      "[58]\tvalidation_0-auc:0.86285\tvalidation_0-logloss:0.55730\tvalidation_1-auc:0.83543\tvalidation_1-logloss:0.56500\n",
      "[59]\tvalidation_0-auc:0.86319\tvalidation_0-logloss:0.55621\tvalidation_1-auc:0.83543\tvalidation_1-logloss:0.56414\n",
      "[60]\tvalidation_0-auc:0.86339\tvalidation_0-logloss:0.55491\tvalidation_1-auc:0.83555\tvalidation_1-logloss:0.56294\n",
      "[61]\tvalidation_0-auc:0.86345\tvalidation_0-logloss:0.55364\tvalidation_1-auc:0.83570\tvalidation_1-logloss:0.56172\n",
      "[62]\tvalidation_0-auc:0.86351\tvalidation_0-logloss:0.55215\tvalidation_1-auc:0.83594\tvalidation_1-logloss:0.56035\n",
      "[63]\tvalidation_0-auc:0.86376\tvalidation_0-logloss:0.55084\tvalidation_1-auc:0.83592\tvalidation_1-logloss:0.55920\n",
      "[64]\tvalidation_0-auc:0.86388\tvalidation_0-logloss:0.54962\tvalidation_1-auc:0.83588\tvalidation_1-logloss:0.55809\n",
      "[65]\tvalidation_0-auc:0.86387\tvalidation_0-logloss:0.54846\tvalidation_1-auc:0.83602\tvalidation_1-logloss:0.55699\n",
      "[66]\tvalidation_0-auc:0.86402\tvalidation_0-logloss:0.54709\tvalidation_1-auc:0.83594\tvalidation_1-logloss:0.55590\n",
      "[67]\tvalidation_0-auc:0.86399\tvalidation_0-logloss:0.54563\tvalidation_1-auc:0.83594\tvalidation_1-logloss:0.55459\n",
      "[68]\tvalidation_0-auc:0.86423\tvalidation_0-logloss:0.54430\tvalidation_1-auc:0.83590\tvalidation_1-logloss:0.55358\n",
      "[69]\tvalidation_0-auc:0.86453\tvalidation_0-logloss:0.54289\tvalidation_1-auc:0.83596\tvalidation_1-logloss:0.55242\n",
      "[70]\tvalidation_0-auc:0.86470\tvalidation_0-logloss:0.54172\tvalidation_1-auc:0.83600\tvalidation_1-logloss:0.55130\n",
      "[71]\tvalidation_0-auc:0.86480\tvalidation_0-logloss:0.54057\tvalidation_1-auc:0.83610\tvalidation_1-logloss:0.55021\n",
      "[72]\tvalidation_0-auc:0.86478\tvalidation_0-logloss:0.53931\tvalidation_1-auc:0.83595\tvalidation_1-logloss:0.54908\n",
      "[73]\tvalidation_0-auc:0.86486\tvalidation_0-logloss:0.53816\tvalidation_1-auc:0.83592\tvalidation_1-logloss:0.54807\n",
      "[74]\tvalidation_0-auc:0.86484\tvalidation_0-logloss:0.53716\tvalidation_1-auc:0.83597\tvalidation_1-logloss:0.54708\n",
      "[75]\tvalidation_0-auc:0.86478\tvalidation_0-logloss:0.53600\tvalidation_1-auc:0.83616\tvalidation_1-logloss:0.54598\n",
      "[76]\tvalidation_0-auc:0.86486\tvalidation_0-logloss:0.53479\tvalidation_1-auc:0.83615\tvalidation_1-logloss:0.54488\n",
      "[77]\tvalidation_0-auc:0.86497\tvalidation_0-logloss:0.53355\tvalidation_1-auc:0.83612\tvalidation_1-logloss:0.54385\n",
      "[78]\tvalidation_0-auc:0.86522\tvalidation_0-logloss:0.53225\tvalidation_1-auc:0.83640\tvalidation_1-logloss:0.54277\n",
      "[79]\tvalidation_0-auc:0.86516\tvalidation_0-logloss:0.53105\tvalidation_1-auc:0.83637\tvalidation_1-logloss:0.54170\n",
      "[80]\tvalidation_0-auc:0.86530\tvalidation_0-logloss:0.53008\tvalidation_1-auc:0.83638\tvalidation_1-logloss:0.54091\n",
      "[81]\tvalidation_0-auc:0.86538\tvalidation_0-logloss:0.52885\tvalidation_1-auc:0.83656\tvalidation_1-logloss:0.53976\n",
      "[82]\tvalidation_0-auc:0.86548\tvalidation_0-logloss:0.52784\tvalidation_1-auc:0.83656\tvalidation_1-logloss:0.53892\n",
      "[83]\tvalidation_0-auc:0.86559\tvalidation_0-logloss:0.52693\tvalidation_1-auc:0.83689\tvalidation_1-logloss:0.53807\n",
      "[84]\tvalidation_0-auc:0.86573\tvalidation_0-logloss:0.52606\tvalidation_1-auc:0.83684\tvalidation_1-logloss:0.53739\n",
      "[85]\tvalidation_0-auc:0.86576\tvalidation_0-logloss:0.52495\tvalidation_1-auc:0.83694\tvalidation_1-logloss:0.53642\n",
      "[86]\tvalidation_0-auc:0.86588\tvalidation_0-logloss:0.52393\tvalidation_1-auc:0.83716\tvalidation_1-logloss:0.53560\n",
      "[87]\tvalidation_0-auc:0.86587\tvalidation_0-logloss:0.52289\tvalidation_1-auc:0.83718\tvalidation_1-logloss:0.53466\n",
      "[88]\tvalidation_0-auc:0.86592\tvalidation_0-logloss:0.52183\tvalidation_1-auc:0.83725\tvalidation_1-logloss:0.53374\n",
      "[89]\tvalidation_0-auc:0.86594\tvalidation_0-logloss:0.52070\tvalidation_1-auc:0.83719\tvalidation_1-logloss:0.53280\n",
      "[90]\tvalidation_0-auc:0.86603\tvalidation_0-logloss:0.51973\tvalidation_1-auc:0.83718\tvalidation_1-logloss:0.53200\n",
      "[91]\tvalidation_0-auc:0.86604\tvalidation_0-logloss:0.51863\tvalidation_1-auc:0.83714\tvalidation_1-logloss:0.53108\n",
      "[92]\tvalidation_0-auc:0.86605\tvalidation_0-logloss:0.51763\tvalidation_1-auc:0.83678\tvalidation_1-logloss:0.53037\n",
      "[93]\tvalidation_0-auc:0.86626\tvalidation_0-logloss:0.51640\tvalidation_1-auc:0.83689\tvalidation_1-logloss:0.52934\n",
      "[94]\tvalidation_0-auc:0.86626\tvalidation_0-logloss:0.51556\tvalidation_1-auc:0.83705\tvalidation_1-logloss:0.52856\n",
      "[95]\tvalidation_0-auc:0.86623\tvalidation_0-logloss:0.51477\tvalidation_1-auc:0.83719\tvalidation_1-logloss:0.52776\n",
      "[96]\tvalidation_0-auc:0.86622\tvalidation_0-logloss:0.51364\tvalidation_1-auc:0.83716\tvalidation_1-logloss:0.52674\n",
      "[97]\tvalidation_0-auc:0.86631\tvalidation_0-logloss:0.51298\tvalidation_1-auc:0.83751\tvalidation_1-logloss:0.52608\n",
      "[98]\tvalidation_0-auc:0.86643\tvalidation_0-logloss:0.51224\tvalidation_1-auc:0.83742\tvalidation_1-logloss:0.52556\n",
      "[99]\tvalidation_0-auc:0.86653\tvalidation_0-logloss:0.51118\tvalidation_1-auc:0.83735\tvalidation_1-logloss:0.52477\n",
      "[100]\tvalidation_0-auc:0.86654\tvalidation_0-logloss:0.51048\tvalidation_1-auc:0.83735\tvalidation_1-logloss:0.52414\n",
      "[101]\tvalidation_0-auc:0.86657\tvalidation_0-logloss:0.50996\tvalidation_1-auc:0.83720\tvalidation_1-logloss:0.52379\n",
      "[102]\tvalidation_0-auc:0.86669\tvalidation_0-logloss:0.50926\tvalidation_1-auc:0.83713\tvalidation_1-logloss:0.52331\n",
      "[103]\tvalidation_0-auc:0.86672\tvalidation_0-logloss:0.50870\tvalidation_1-auc:0.83709\tvalidation_1-logloss:0.52291\n",
      "[104]\tvalidation_0-auc:0.86668\tvalidation_0-logloss:0.50794\tvalidation_1-auc:0.83699\tvalidation_1-logloss:0.52221\n",
      "[105]\tvalidation_0-auc:0.86677\tvalidation_0-logloss:0.50726\tvalidation_1-auc:0.83705\tvalidation_1-logloss:0.52175\n",
      "[106]\tvalidation_0-auc:0.86677\tvalidation_0-logloss:0.50633\tvalidation_1-auc:0.83713\tvalidation_1-logloss:0.52090\n",
      "[107]\tvalidation_0-auc:0.86677\tvalidation_0-logloss:0.50538\tvalidation_1-auc:0.83684\tvalidation_1-logloss:0.52028\n",
      "[108]\tvalidation_0-auc:0.86690\tvalidation_0-logloss:0.50449\tvalidation_1-auc:0.83696\tvalidation_1-logloss:0.51951\n",
      "[109]\tvalidation_0-auc:0.86696\tvalidation_0-logloss:0.50371\tvalidation_1-auc:0.83715\tvalidation_1-logloss:0.51881\n",
      "[110]\tvalidation_0-auc:0.86701\tvalidation_0-logloss:0.50281\tvalidation_1-auc:0.83720\tvalidation_1-logloss:0.51807\n",
      "[111]\tvalidation_0-auc:0.86710\tvalidation_0-logloss:0.50197\tvalidation_1-auc:0.83710\tvalidation_1-logloss:0.51744\n",
      "[112]\tvalidation_0-auc:0.86714\tvalidation_0-logloss:0.50133\tvalidation_1-auc:0.83708\tvalidation_1-logloss:0.51701\n",
      "[113]\tvalidation_0-auc:0.86723\tvalidation_0-logloss:0.50073\tvalidation_1-auc:0.83711\tvalidation_1-logloss:0.51659\n",
      "[114]\tvalidation_0-auc:0.86736\tvalidation_0-logloss:0.50023\tvalidation_1-auc:0.83721\tvalidation_1-logloss:0.51613\n",
      "[115]\tvalidation_0-auc:0.86752\tvalidation_0-logloss:0.49940\tvalidation_1-auc:0.83737\tvalidation_1-logloss:0.51543\n",
      "[116]\tvalidation_0-auc:0.86757\tvalidation_0-logloss:0.49877\tvalidation_1-auc:0.83740\tvalidation_1-logloss:0.51496\n",
      "[117]\tvalidation_0-auc:0.86763\tvalidation_0-logloss:0.49797\tvalidation_1-auc:0.83745\tvalidation_1-logloss:0.51417\n",
      "[118]\tvalidation_0-auc:0.86760\tvalidation_0-logloss:0.49729\tvalidation_1-auc:0.83753\tvalidation_1-logloss:0.51349\n",
      "[119]\tvalidation_0-auc:0.86769\tvalidation_0-logloss:0.49677\tvalidation_1-auc:0.83771\tvalidation_1-logloss:0.51301\n",
      "[120]\tvalidation_0-auc:0.86770\tvalidation_0-logloss:0.49592\tvalidation_1-auc:0.83757\tvalidation_1-logloss:0.51238\n",
      "[121]\tvalidation_0-auc:0.86780\tvalidation_0-logloss:0.49520\tvalidation_1-auc:0.83754\tvalidation_1-logloss:0.51178\n",
      "[122]\tvalidation_0-auc:0.86789\tvalidation_0-logloss:0.49454\tvalidation_1-auc:0.83768\tvalidation_1-logloss:0.51119\n",
      "[123]\tvalidation_0-auc:0.86801\tvalidation_0-logloss:0.49409\tvalidation_1-auc:0.83741\tvalidation_1-logloss:0.51106\n",
      "[124]\tvalidation_0-auc:0.86808\tvalidation_0-logloss:0.49335\tvalidation_1-auc:0.83730\tvalidation_1-logloss:0.51063\n",
      "[125]\tvalidation_0-auc:0.86812\tvalidation_0-logloss:0.49247\tvalidation_1-auc:0.83747\tvalidation_1-logloss:0.50986\n",
      "[126]\tvalidation_0-auc:0.86829\tvalidation_0-logloss:0.49177\tvalidation_1-auc:0.83754\tvalidation_1-logloss:0.50936\n",
      "[127]\tvalidation_0-auc:0.86840\tvalidation_0-logloss:0.49103\tvalidation_1-auc:0.83745\tvalidation_1-logloss:0.50885\n",
      "[128]\tvalidation_0-auc:0.86838\tvalidation_0-logloss:0.49028\tvalidation_1-auc:0.83734\tvalidation_1-logloss:0.50835\n",
      "[129]\tvalidation_0-auc:0.86844\tvalidation_0-logloss:0.48973\tvalidation_1-auc:0.83718\tvalidation_1-logloss:0.50814\n",
      "[130]\tvalidation_0-auc:0.86846\tvalidation_0-logloss:0.48944\tvalidation_1-auc:0.83695\tvalidation_1-logloss:0.50803\n",
      "[131]\tvalidation_0-auc:0.86858\tvalidation_0-logloss:0.48861\tvalidation_1-auc:0.83697\tvalidation_1-logloss:0.50734\n",
      "[132]\tvalidation_0-auc:0.86863\tvalidation_0-logloss:0.48805\tvalidation_1-auc:0.83690\tvalidation_1-logloss:0.50694\n",
      "[133]\tvalidation_0-auc:0.86867\tvalidation_0-logloss:0.48740\tvalidation_1-auc:0.83690\tvalidation_1-logloss:0.50651\n",
      "[134]\tvalidation_0-auc:0.86879\tvalidation_0-logloss:0.48665\tvalidation_1-auc:0.83678\tvalidation_1-logloss:0.50608\n",
      "[135]\tvalidation_0-auc:0.86881\tvalidation_0-logloss:0.48606\tvalidation_1-auc:0.83697\tvalidation_1-logloss:0.50552\n",
      "[136]\tvalidation_0-auc:0.86884\tvalidation_0-logloss:0.48563\tvalidation_1-auc:0.83697\tvalidation_1-logloss:0.50520\n",
      "[137]\tvalidation_0-auc:0.86887\tvalidation_0-logloss:0.48507\tvalidation_1-auc:0.83676\tvalidation_1-logloss:0.50485\n",
      "[138]\tvalidation_0-auc:0.86894\tvalidation_0-logloss:0.48467\tvalidation_1-auc:0.83667\tvalidation_1-logloss:0.50475\n",
      "[139]\tvalidation_0-auc:0.86902\tvalidation_0-logloss:0.48390\tvalidation_1-auc:0.83646\tvalidation_1-logloss:0.50429\n",
      "[140]\tvalidation_0-auc:0.86897\tvalidation_0-logloss:0.48335\tvalidation_1-auc:0.83654\tvalidation_1-logloss:0.50381\n",
      "[141]\tvalidation_0-auc:0.86897\tvalidation_0-logloss:0.48294\tvalidation_1-auc:0.83672\tvalidation_1-logloss:0.50341\n",
      "[142]\tvalidation_0-auc:0.86911\tvalidation_0-logloss:0.48219\tvalidation_1-auc:0.83684\tvalidation_1-logloss:0.50284\n",
      "[143]\tvalidation_0-auc:0.86912\tvalidation_0-logloss:0.48170\tvalidation_1-auc:0.83670\tvalidation_1-logloss:0.50251\n",
      "[144]\tvalidation_0-auc:0.86922\tvalidation_0-logloss:0.48122\tvalidation_1-auc:0.83671\tvalidation_1-logloss:0.50223\n",
      "[145]\tvalidation_0-auc:0.86940\tvalidation_0-logloss:0.48059\tvalidation_1-auc:0.83695\tvalidation_1-logloss:0.50179\n",
      "[146]\tvalidation_0-auc:0.86948\tvalidation_0-logloss:0.48001\tvalidation_1-auc:0.83679\tvalidation_1-logloss:0.50149\n",
      "[147]\tvalidation_0-auc:0.86959\tvalidation_0-logloss:0.47953\tvalidation_1-auc:0.83687\tvalidation_1-logloss:0.50113\n",
      "[148]\tvalidation_0-auc:0.86963\tvalidation_0-logloss:0.47910\tvalidation_1-auc:0.83693\tvalidation_1-logloss:0.50080\n",
      "[149]\tvalidation_0-auc:0.86979\tvalidation_0-logloss:0.47870\tvalidation_1-auc:0.83688\tvalidation_1-logloss:0.50056\n",
      "[150]\tvalidation_0-auc:0.86988\tvalidation_0-logloss:0.47831\tvalidation_1-auc:0.83710\tvalidation_1-logloss:0.50022\n",
      "[151]\tvalidation_0-auc:0.86988\tvalidation_0-logloss:0.47788\tvalidation_1-auc:0.83707\tvalidation_1-logloss:0.49989\n",
      "[152]\tvalidation_0-auc:0.86997\tvalidation_0-logloss:0.47717\tvalidation_1-auc:0.83703\tvalidation_1-logloss:0.49941\n",
      "[153]\tvalidation_0-auc:0.86994\tvalidation_0-logloss:0.47684\tvalidation_1-auc:0.83706\tvalidation_1-logloss:0.49918\n",
      "[154]\tvalidation_0-auc:0.87003\tvalidation_0-logloss:0.47620\tvalidation_1-auc:0.83710\tvalidation_1-logloss:0.49866\n",
      "[155]\tvalidation_0-auc:0.87015\tvalidation_0-logloss:0.47581\tvalidation_1-auc:0.83693\tvalidation_1-logloss:0.49856\n",
      "[156]\tvalidation_0-auc:0.87022\tvalidation_0-logloss:0.47519\tvalidation_1-auc:0.83697\tvalidation_1-logloss:0.49809\n",
      "[157]\tvalidation_0-auc:0.87025\tvalidation_0-logloss:0.47486\tvalidation_1-auc:0.83691\tvalidation_1-logloss:0.49792\n",
      "[158]\tvalidation_0-auc:0.87030\tvalidation_0-logloss:0.47447\tvalidation_1-auc:0.83700\tvalidation_1-logloss:0.49763\n",
      "[159]\tvalidation_0-auc:0.87031\tvalidation_0-logloss:0.47408\tvalidation_1-auc:0.83713\tvalidation_1-logloss:0.49732\n",
      "[160]\tvalidation_0-auc:0.87033\tvalidation_0-logloss:0.47358\tvalidation_1-auc:0.83700\tvalidation_1-logloss:0.49704\n",
      "[161]\tvalidation_0-auc:0.87037\tvalidation_0-logloss:0.47317\tvalidation_1-auc:0.83697\tvalidation_1-logloss:0.49671\n",
      "[162]\tvalidation_0-auc:0.87045\tvalidation_0-logloss:0.47268\tvalidation_1-auc:0.83714\tvalidation_1-logloss:0.49628\n",
      "[163]\tvalidation_0-auc:0.87047\tvalidation_0-logloss:0.47239\tvalidation_1-auc:0.83720\tvalidation_1-logloss:0.49604\n",
      "[164]\tvalidation_0-auc:0.87050\tvalidation_0-logloss:0.47191\tvalidation_1-auc:0.83710\tvalidation_1-logloss:0.49575\n",
      "[165]\tvalidation_0-auc:0.87059\tvalidation_0-logloss:0.47160\tvalidation_1-auc:0.83705\tvalidation_1-logloss:0.49570\n",
      "[166]\tvalidation_0-auc:0.87069\tvalidation_0-logloss:0.47121\tvalidation_1-auc:0.83715\tvalidation_1-logloss:0.49539\n",
      "[167]\tvalidation_0-auc:0.87069\tvalidation_0-logloss:0.47101\tvalidation_1-auc:0.83717\tvalidation_1-logloss:0.49518\n",
      "[168]\tvalidation_0-auc:0.87073\tvalidation_0-logloss:0.47065\tvalidation_1-auc:0.83699\tvalidation_1-logloss:0.49511\n",
      "[169]\tvalidation_0-auc:0.87081\tvalidation_0-logloss:0.47032\tvalidation_1-auc:0.83705\tvalidation_1-logloss:0.49495\n",
      "[170]\tvalidation_0-auc:0.87088\tvalidation_0-logloss:0.47007\tvalidation_1-auc:0.83696\tvalidation_1-logloss:0.49480\n",
      "[171]\tvalidation_0-auc:0.87091\tvalidation_0-logloss:0.46966\tvalidation_1-auc:0.83698\tvalidation_1-logloss:0.49448\n",
      "[172]\tvalidation_0-auc:0.87100\tvalidation_0-logloss:0.46944\tvalidation_1-auc:0.83691\tvalidation_1-logloss:0.49441\n",
      "[173]\tvalidation_0-auc:0.87104\tvalidation_0-logloss:0.46900\tvalidation_1-auc:0.83700\tvalidation_1-logloss:0.49412\n",
      "[174]\tvalidation_0-auc:0.87101\tvalidation_0-logloss:0.46880\tvalidation_1-auc:0.83717\tvalidation_1-logloss:0.49386\n",
      "[175]\tvalidation_0-auc:0.87111\tvalidation_0-logloss:0.46842\tvalidation_1-auc:0.83710\tvalidation_1-logloss:0.49372\n",
      "[176]\tvalidation_0-auc:0.87114\tvalidation_0-logloss:0.46820\tvalidation_1-auc:0.83705\tvalidation_1-logloss:0.49373\n",
      "[177]\tvalidation_0-auc:0.87115\tvalidation_0-logloss:0.46783\tvalidation_1-auc:0.83718\tvalidation_1-logloss:0.49334\n",
      "[178]\tvalidation_0-auc:0.87117\tvalidation_0-logloss:0.46733\tvalidation_1-auc:0.83708\tvalidation_1-logloss:0.49302\n",
      "[179]\tvalidation_0-auc:0.87115\tvalidation_0-logloss:0.46698\tvalidation_1-auc:0.83725\tvalidation_1-logloss:0.49263\n",
      "[180]\tvalidation_0-auc:0.87118\tvalidation_0-logloss:0.46665\tvalidation_1-auc:0.83728\tvalidation_1-logloss:0.49238\n",
      "[181]\tvalidation_0-auc:0.87122\tvalidation_0-logloss:0.46651\tvalidation_1-auc:0.83737\tvalidation_1-logloss:0.49223\n",
      "[182]\tvalidation_0-auc:0.87126\tvalidation_0-logloss:0.46629\tvalidation_1-auc:0.83734\tvalidation_1-logloss:0.49215\n",
      "[183]\tvalidation_0-auc:0.87126\tvalidation_0-logloss:0.46600\tvalidation_1-auc:0.83737\tvalidation_1-logloss:0.49190\n",
      "[184]\tvalidation_0-auc:0.87133\tvalidation_0-logloss:0.46567\tvalidation_1-auc:0.83732\tvalidation_1-logloss:0.49173\n",
      "[185]\tvalidation_0-auc:0.87134\tvalidation_0-logloss:0.46547\tvalidation_1-auc:0.83728\tvalidation_1-logloss:0.49169\n",
      "[186]\tvalidation_0-auc:0.87138\tvalidation_0-logloss:0.46505\tvalidation_1-auc:0.83727\tvalidation_1-logloss:0.49137\n",
      "[187]\tvalidation_0-auc:0.87143\tvalidation_0-logloss:0.46487\tvalidation_1-auc:0.83736\tvalidation_1-logloss:0.49121\n",
      "[188]\tvalidation_0-auc:0.87152\tvalidation_0-logloss:0.46445\tvalidation_1-auc:0.83744\tvalidation_1-logloss:0.49099\n",
      "[189]\tvalidation_0-auc:0.87155\tvalidation_0-logloss:0.46422\tvalidation_1-auc:0.83756\tvalidation_1-logloss:0.49080\n",
      "[190]\tvalidation_0-auc:0.87155\tvalidation_0-logloss:0.46385\tvalidation_1-auc:0.83768\tvalidation_1-logloss:0.49049\n",
      "[191]\tvalidation_0-auc:0.87165\tvalidation_0-logloss:0.46329\tvalidation_1-auc:0.83766\tvalidation_1-logloss:0.49008\n",
      "[192]\tvalidation_0-auc:0.87168\tvalidation_0-logloss:0.46305\tvalidation_1-auc:0.83759\tvalidation_1-logloss:0.48995\n",
      "[193]\tvalidation_0-auc:0.87175\tvalidation_0-logloss:0.46268\tvalidation_1-auc:0.83759\tvalidation_1-logloss:0.48975\n",
      "[194]\tvalidation_0-auc:0.87185\tvalidation_0-logloss:0.46254\tvalidation_1-auc:0.83770\tvalidation_1-logloss:0.48967\n",
      "[195]\tvalidation_0-auc:0.87190\tvalidation_0-logloss:0.46228\tvalidation_1-auc:0.83770\tvalidation_1-logloss:0.48954\n",
      "[196]\tvalidation_0-auc:0.87193\tvalidation_0-logloss:0.46215\tvalidation_1-auc:0.83758\tvalidation_1-logloss:0.48970\n",
      "[197]\tvalidation_0-auc:0.87197\tvalidation_0-logloss:0.46169\tvalidation_1-auc:0.83756\tvalidation_1-logloss:0.48942\n",
      "[198]\tvalidation_0-auc:0.87201\tvalidation_0-logloss:0.46148\tvalidation_1-auc:0.83765\tvalidation_1-logloss:0.48926\n",
      "[199]\tvalidation_0-auc:0.87205\tvalidation_0-logloss:0.46122\tvalidation_1-auc:0.83772\tvalidation_1-logloss:0.48906\n",
      "[200]\tvalidation_0-auc:0.87206\tvalidation_0-logloss:0.46085\tvalidation_1-auc:0.83769\tvalidation_1-logloss:0.48892\n",
      "[201]\tvalidation_0-auc:0.87211\tvalidation_0-logloss:0.46067\tvalidation_1-auc:0.83761\tvalidation_1-logloss:0.48889\n",
      "[202]\tvalidation_0-auc:0.87211\tvalidation_0-logloss:0.46062\tvalidation_1-auc:0.83758\tvalidation_1-logloss:0.48890\n",
      "[203]\tvalidation_0-auc:0.87215\tvalidation_0-logloss:0.46034\tvalidation_1-auc:0.83746\tvalidation_1-logloss:0.48882\n",
      "[204]\tvalidation_0-auc:0.87219\tvalidation_0-logloss:0.46012\tvalidation_1-auc:0.83759\tvalidation_1-logloss:0.48867\n",
      "[205]\tvalidation_0-auc:0.87226\tvalidation_0-logloss:0.46004\tvalidation_1-auc:0.83749\tvalidation_1-logloss:0.48872\n",
      "[206]\tvalidation_0-auc:0.87230\tvalidation_0-logloss:0.45987\tvalidation_1-auc:0.83744\tvalidation_1-logloss:0.48864\n",
      "[207]\tvalidation_0-auc:0.87240\tvalidation_0-logloss:0.45939\tvalidation_1-auc:0.83754\tvalidation_1-logloss:0.48820\n",
      "[208]\tvalidation_0-auc:0.87242\tvalidation_0-logloss:0.45883\tvalidation_1-auc:0.83754\tvalidation_1-logloss:0.48785\n",
      "[209]\tvalidation_0-auc:0.87242\tvalidation_0-logloss:0.45855\tvalidation_1-auc:0.83759\tvalidation_1-logloss:0.48758\n",
      "[210]\tvalidation_0-auc:0.87242\tvalidation_0-logloss:0.45833\tvalidation_1-auc:0.83748\tvalidation_1-logloss:0.48749\n",
      "[211]\tvalidation_0-auc:0.87243\tvalidation_0-logloss:0.45830\tvalidation_1-auc:0.83759\tvalidation_1-logloss:0.48746\n",
      "[212]\tvalidation_0-auc:0.87249\tvalidation_0-logloss:0.45812\tvalidation_1-auc:0.83758\tvalidation_1-logloss:0.48751\n",
      "[213]\tvalidation_0-auc:0.87253\tvalidation_0-logloss:0.45793\tvalidation_1-auc:0.83755\tvalidation_1-logloss:0.48734\n",
      "[214]\tvalidation_0-auc:0.87256\tvalidation_0-logloss:0.45782\tvalidation_1-auc:0.83750\tvalidation_1-logloss:0.48759\n",
      "[215]\tvalidation_0-auc:0.87264\tvalidation_0-logloss:0.45769\tvalidation_1-auc:0.83742\tvalidation_1-logloss:0.48754\n",
      "[216]\tvalidation_0-auc:0.87271\tvalidation_0-logloss:0.45741\tvalidation_1-auc:0.83752\tvalidation_1-logloss:0.48736\n",
      "[217]\tvalidation_0-auc:0.87278\tvalidation_0-logloss:0.45700\tvalidation_1-auc:0.83763\tvalidation_1-logloss:0.48703\n",
      "[218]\tvalidation_0-auc:0.87286\tvalidation_0-logloss:0.45665\tvalidation_1-auc:0.83764\tvalidation_1-logloss:0.48684\n",
      "[219]\tvalidation_0-auc:0.87297\tvalidation_0-logloss:0.45637\tvalidation_1-auc:0.83760\tvalidation_1-logloss:0.48675\n",
      "[220]\tvalidation_0-auc:0.87303\tvalidation_0-logloss:0.45616\tvalidation_1-auc:0.83761\tvalidation_1-logloss:0.48674\n",
      "[221]\tvalidation_0-auc:0.87307\tvalidation_0-logloss:0.45602\tvalidation_1-auc:0.83765\tvalidation_1-logloss:0.48660\n",
      "[222]\tvalidation_0-auc:0.87313\tvalidation_0-logloss:0.45568\tvalidation_1-auc:0.83767\tvalidation_1-logloss:0.48645\n",
      "[223]\tvalidation_0-auc:0.87317\tvalidation_0-logloss:0.45539\tvalidation_1-auc:0.83766\tvalidation_1-logloss:0.48635\n",
      "[224]\tvalidation_0-auc:0.87318\tvalidation_0-logloss:0.45542\tvalidation_1-auc:0.83769\tvalidation_1-logloss:0.48648\n",
      "[225]\tvalidation_0-auc:0.87320\tvalidation_0-logloss:0.45534\tvalidation_1-auc:0.83773\tvalidation_1-logloss:0.48648\n",
      "[226]\tvalidation_0-auc:0.87324\tvalidation_0-logloss:0.45512\tvalidation_1-auc:0.83770\tvalidation_1-logloss:0.48639\n",
      "[227]\tvalidation_0-auc:0.87331\tvalidation_0-logloss:0.45496\tvalidation_1-auc:0.83778\tvalidation_1-logloss:0.48633\n",
      "[228]\tvalidation_0-auc:0.87337\tvalidation_0-logloss:0.45484\tvalidation_1-auc:0.83771\tvalidation_1-logloss:0.48633\n",
      "[229]\tvalidation_0-auc:0.87341\tvalidation_0-logloss:0.45464\tvalidation_1-auc:0.83779\tvalidation_1-logloss:0.48625\n",
      "[230]\tvalidation_0-auc:0.87345\tvalidation_0-logloss:0.45451\tvalidation_1-auc:0.83796\tvalidation_1-logloss:0.48610\n",
      "[231]\tvalidation_0-auc:0.87346\tvalidation_0-logloss:0.45439\tvalidation_1-auc:0.83804\tvalidation_1-logloss:0.48605\n",
      "[232]\tvalidation_0-auc:0.87351\tvalidation_0-logloss:0.45397\tvalidation_1-auc:0.83816\tvalidation_1-logloss:0.48565\n",
      "[233]\tvalidation_0-auc:0.87354\tvalidation_0-logloss:0.45364\tvalidation_1-auc:0.83803\tvalidation_1-logloss:0.48558\n",
      "[234]\tvalidation_0-auc:0.87360\tvalidation_0-logloss:0.45349\tvalidation_1-auc:0.83812\tvalidation_1-logloss:0.48551\n",
      "[235]\tvalidation_0-auc:0.87361\tvalidation_0-logloss:0.45324\tvalidation_1-auc:0.83795\tvalidation_1-logloss:0.48545\n",
      "[236]\tvalidation_0-auc:0.87365\tvalidation_0-logloss:0.45308\tvalidation_1-auc:0.83794\tvalidation_1-logloss:0.48543\n",
      "[237]\tvalidation_0-auc:0.87366\tvalidation_0-logloss:0.45267\tvalidation_1-auc:0.83791\tvalidation_1-logloss:0.48519\n",
      "[238]\tvalidation_0-auc:0.87369\tvalidation_0-logloss:0.45240\tvalidation_1-auc:0.83774\tvalidation_1-logloss:0.48520\n",
      "[239]\tvalidation_0-auc:0.87375\tvalidation_0-logloss:0.45210\tvalidation_1-auc:0.83773\tvalidation_1-logloss:0.48508\n",
      "[240]\tvalidation_0-auc:0.87382\tvalidation_0-logloss:0.45188\tvalidation_1-auc:0.83771\tvalidation_1-logloss:0.48499\n",
      "[241]\tvalidation_0-auc:0.87384\tvalidation_0-logloss:0.45162\tvalidation_1-auc:0.83763\tvalidation_1-logloss:0.48485\n",
      "[242]\tvalidation_0-auc:0.87393\tvalidation_0-logloss:0.45140\tvalidation_1-auc:0.83763\tvalidation_1-logloss:0.48479\n",
      "[243]\tvalidation_0-auc:0.87393\tvalidation_0-logloss:0.45130\tvalidation_1-auc:0.83754\tvalidation_1-logloss:0.48481\n",
      "[244]\tvalidation_0-auc:0.87396\tvalidation_0-logloss:0.45109\tvalidation_1-auc:0.83774\tvalidation_1-logloss:0.48458\n",
      "[245]\tvalidation_0-auc:0.87405\tvalidation_0-logloss:0.45096\tvalidation_1-auc:0.83766\tvalidation_1-logloss:0.48467\n",
      "[246]\tvalidation_0-auc:0.87408\tvalidation_0-logloss:0.45076\tvalidation_1-auc:0.83754\tvalidation_1-logloss:0.48468\n",
      "[247]\tvalidation_0-auc:0.87411\tvalidation_0-logloss:0.45030\tvalidation_1-auc:0.83766\tvalidation_1-logloss:0.48434\n",
      "[248]\tvalidation_0-auc:0.87418\tvalidation_0-logloss:0.45010\tvalidation_1-auc:0.83781\tvalidation_1-logloss:0.48418\n",
      "[249]\tvalidation_0-auc:0.87422\tvalidation_0-logloss:0.44995\tvalidation_1-auc:0.83781\tvalidation_1-logloss:0.48427\n",
      "[250]\tvalidation_0-auc:0.87427\tvalidation_0-logloss:0.44978\tvalidation_1-auc:0.83776\tvalidation_1-logloss:0.48426\n",
      "[251]\tvalidation_0-auc:0.87434\tvalidation_0-logloss:0.44969\tvalidation_1-auc:0.83768\tvalidation_1-logloss:0.48435\n",
      "[252]\tvalidation_0-auc:0.87436\tvalidation_0-logloss:0.44956\tvalidation_1-auc:0.83779\tvalidation_1-logloss:0.48430\n",
      "[253]\tvalidation_0-auc:0.87437\tvalidation_0-logloss:0.44945\tvalidation_1-auc:0.83791\tvalidation_1-logloss:0.48407\n",
      "[254]\tvalidation_0-auc:0.87440\tvalidation_0-logloss:0.44913\tvalidation_1-auc:0.83795\tvalidation_1-logloss:0.48391\n",
      "[255]\tvalidation_0-auc:0.87440\tvalidation_0-logloss:0.44898\tvalidation_1-auc:0.83792\tvalidation_1-logloss:0.48384\n",
      "[256]\tvalidation_0-auc:0.87448\tvalidation_0-logloss:0.44866\tvalidation_1-auc:0.83800\tvalidation_1-logloss:0.48365\n",
      "[257]\tvalidation_0-auc:0.87458\tvalidation_0-logloss:0.44833\tvalidation_1-auc:0.83794\tvalidation_1-logloss:0.48352\n",
      "[258]\tvalidation_0-auc:0.87459\tvalidation_0-logloss:0.44809\tvalidation_1-auc:0.83791\tvalidation_1-logloss:0.48345\n",
      "[259]\tvalidation_0-auc:0.87462\tvalidation_0-logloss:0.44792\tvalidation_1-auc:0.83784\tvalidation_1-logloss:0.48346\n",
      "[260]\tvalidation_0-auc:0.87463\tvalidation_0-logloss:0.44777\tvalidation_1-auc:0.83782\tvalidation_1-logloss:0.48336\n",
      "[261]\tvalidation_0-auc:0.87468\tvalidation_0-logloss:0.44779\tvalidation_1-auc:0.83792\tvalidation_1-logloss:0.48337\n",
      "[262]\tvalidation_0-auc:0.87475\tvalidation_0-logloss:0.44734\tvalidation_1-auc:0.83801\tvalidation_1-logloss:0.48296\n",
      "[263]\tvalidation_0-auc:0.87477\tvalidation_0-logloss:0.44727\tvalidation_1-auc:0.83798\tvalidation_1-logloss:0.48291\n",
      "[264]\tvalidation_0-auc:0.87478\tvalidation_0-logloss:0.44710\tvalidation_1-auc:0.83790\tvalidation_1-logloss:0.48295\n",
      "[265]\tvalidation_0-auc:0.87481\tvalidation_0-logloss:0.44688\tvalidation_1-auc:0.83793\tvalidation_1-logloss:0.48289\n",
      "[266]\tvalidation_0-auc:0.87479\tvalidation_0-logloss:0.44683\tvalidation_1-auc:0.83781\tvalidation_1-logloss:0.48294\n",
      "[267]\tvalidation_0-auc:0.87485\tvalidation_0-logloss:0.44656\tvalidation_1-auc:0.83785\tvalidation_1-logloss:0.48273\n",
      "[268]\tvalidation_0-auc:0.87490\tvalidation_0-logloss:0.44641\tvalidation_1-auc:0.83776\tvalidation_1-logloss:0.48276\n",
      "[269]\tvalidation_0-auc:0.87499\tvalidation_0-logloss:0.44599\tvalidation_1-auc:0.83783\tvalidation_1-logloss:0.48256\n",
      "[270]\tvalidation_0-auc:0.87501\tvalidation_0-logloss:0.44600\tvalidation_1-auc:0.83786\tvalidation_1-logloss:0.48263\n",
      "[271]\tvalidation_0-auc:0.87504\tvalidation_0-logloss:0.44594\tvalidation_1-auc:0.83793\tvalidation_1-logloss:0.48257\n",
      "[272]\tvalidation_0-auc:0.87504\tvalidation_0-logloss:0.44592\tvalidation_1-auc:0.83797\tvalidation_1-logloss:0.48260\n",
      "[273]\tvalidation_0-auc:0.87512\tvalidation_0-logloss:0.44566\tvalidation_1-auc:0.83783\tvalidation_1-logloss:0.48256\n",
      "[274]\tvalidation_0-auc:0.87519\tvalidation_0-logloss:0.44573\tvalidation_1-auc:0.83778\tvalidation_1-logloss:0.48280\n",
      "[275]\tvalidation_0-auc:0.87525\tvalidation_0-logloss:0.44562\tvalidation_1-auc:0.83768\tvalidation_1-logloss:0.48282\n",
      "[276]\tvalidation_0-auc:0.87526\tvalidation_0-logloss:0.44557\tvalidation_1-auc:0.83773\tvalidation_1-logloss:0.48285\n",
      "[277]\tvalidation_0-auc:0.87533\tvalidation_0-logloss:0.44513\tvalidation_1-auc:0.83768\tvalidation_1-logloss:0.48246\n",
      "[278]\tvalidation_0-auc:0.87538\tvalidation_0-logloss:0.44506\tvalidation_1-auc:0.83770\tvalidation_1-logloss:0.48250\n",
      "[279]\tvalidation_0-auc:0.87539\tvalidation_0-logloss:0.44511\tvalidation_1-auc:0.83764\tvalidation_1-logloss:0.48259\n",
      "[280]\tvalidation_0-auc:0.87539\tvalidation_0-logloss:0.44500\tvalidation_1-auc:0.83757\tvalidation_1-logloss:0.48262\n",
      "[281]\tvalidation_0-auc:0.87544\tvalidation_0-logloss:0.44478\tvalidation_1-auc:0.83764\tvalidation_1-logloss:0.48255\n",
      "[282]\tvalidation_0-auc:0.87550\tvalidation_0-logloss:0.44469\tvalidation_1-auc:0.83772\tvalidation_1-logloss:0.48247\n",
      "[283]\tvalidation_0-auc:0.87551\tvalidation_0-logloss:0.44460\tvalidation_1-auc:0.83774\tvalidation_1-logloss:0.48249\n",
      "[284]\tvalidation_0-auc:0.87558\tvalidation_0-logloss:0.44439\tvalidation_1-auc:0.83771\tvalidation_1-logloss:0.48238\n",
      "[285]\tvalidation_0-auc:0.87560\tvalidation_0-logloss:0.44436\tvalidation_1-auc:0.83767\tvalidation_1-logloss:0.48244\n",
      "[286]\tvalidation_0-auc:0.87559\tvalidation_0-logloss:0.44422\tvalidation_1-auc:0.83771\tvalidation_1-logloss:0.48244\n",
      "[287]\tvalidation_0-auc:0.87560\tvalidation_0-logloss:0.44426\tvalidation_1-auc:0.83764\tvalidation_1-logloss:0.48262\n",
      "[288]\tvalidation_0-auc:0.87569\tvalidation_0-logloss:0.44392\tvalidation_1-auc:0.83759\tvalidation_1-logloss:0.48240\n",
      "[289]\tvalidation_0-auc:0.87570\tvalidation_0-logloss:0.44387\tvalidation_1-auc:0.83764\tvalidation_1-logloss:0.48241\n",
      "[290]\tvalidation_0-auc:0.87572\tvalidation_0-logloss:0.44382\tvalidation_1-auc:0.83760\tvalidation_1-logloss:0.48236\n",
      "[291]\tvalidation_0-auc:0.87578\tvalidation_0-logloss:0.44368\tvalidation_1-auc:0.83772\tvalidation_1-logloss:0.48229\n",
      "[292]\tvalidation_0-auc:0.87583\tvalidation_0-logloss:0.44350\tvalidation_1-auc:0.83770\tvalidation_1-logloss:0.48217\n",
      "[293]\tvalidation_0-auc:0.87588\tvalidation_0-logloss:0.44348\tvalidation_1-auc:0.83772\tvalidation_1-logloss:0.48229\n",
      "[294]\tvalidation_0-auc:0.87587\tvalidation_0-logloss:0.44340\tvalidation_1-auc:0.83772\tvalidation_1-logloss:0.48223\n",
      "[295]\tvalidation_0-auc:0.87596\tvalidation_0-logloss:0.44322\tvalidation_1-auc:0.83790\tvalidation_1-logloss:0.48212\n",
      "[296]\tvalidation_0-auc:0.87603\tvalidation_0-logloss:0.44299\tvalidation_1-auc:0.83795\tvalidation_1-logloss:0.48190\n",
      "[297]\tvalidation_0-auc:0.87604\tvalidation_0-logloss:0.44265\tvalidation_1-auc:0.83805\tvalidation_1-logloss:0.48163\n",
      "[298]\tvalidation_0-auc:0.87606\tvalidation_0-logloss:0.44284\tvalidation_1-auc:0.83794\tvalidation_1-logloss:0.48192\n",
      "[299]\tvalidation_0-auc:0.87610\tvalidation_0-logloss:0.44289\tvalidation_1-auc:0.83800\tvalidation_1-logloss:0.48199\n"
     ]
    },
    {
     "data": {
      "image/png": "[encoded data removed]",
      "text/plain": [
       "<Figure size 864x432 with 2 Axes>"
      ]
     },
     "metadata": {
      "needs_background": "light"
     },
     "output_type": "display_data"
    }
   ],
   "source": [
    "# Fit model and plot performance with Epochs\n",
    "xgb_final.fit(x_dev_scaled, np.ravel(y_dev), eval_metric=[\"auc\",\"logloss\"], eval_set=[(x_dev_scaled,np.ravel(y_dev)),(x_eval_scaled,np.ravel(y_eval))], verbose=True)\n",
    "results = xgb_final.evals_result()\n",
    "epochs = len(results['validation_0']['auc'])\n",
    "x_axis = range(0, epochs)\n",
    "\n",
    "# Plot learning curves\n",
    "\n",
    "fig,axe = plt.subplots(1,2,figsize=(12,6));\n",
    "sns.lineplot(x=x_axis,y=results['validation_0']['logloss'], label='Training',ax=axe[0]);\n",
    "sns.lineplot(x=x_axis,y=results['validation_1']['logloss'], label='Evaluation',ax=axe[0]);\n",
    "axe[0].legend();\n",
    "axe[0].set_ylabel(\"logloss\");\n",
    "sns.lineplot(x=x_axis,y=results['validation_0']['auc'], label='Training',ax=axe[1]);\n",
    "sns.lineplot(x=x_axis,y=results['validation_1']['auc'], label='Evaluation',ax=axe[1]);\n",
    "axe[1].legend();\n",
    "axe[1].set_ylabel(\"auc\");\n"
   ]
  },
  {
   "cell_type": "markdown",
   "metadata": {},
   "source": [
    "The learning curves suggest that training can be stopped after 100 iterations"
   ]
  },
  {
   "cell_type": "markdown",
   "metadata": {},
   "source": [
    "### Feature Importance"
   ]
  },
  {
   "cell_type": "code",
   "execution_count": 53,
   "metadata": {
    "ExecuteTime": {
     "end_time": "2020-08-11T18:22:53.713566Z",
     "start_time": "2020-08-11T18:22:53.588640Z"
    }
   },
   "outputs": [
    {
     "data": {
      "text/html": [
       "<div>\n",
       "<style scoped>\n",
       "    .dataframe tbody tr th:only-of-type {\n",
       "        vertical-align: middle;\n",
       "    }\n",
       "\n",
       "    .dataframe tbody tr th {\n",
       "        vertical-align: top;\n",
       "    }\n",
       "\n",
       "    .dataframe thead th {\n",
       "        text-align: right;\n",
       "    }\n",
       "</style>\n",
       "<table border=\"1\" class=\"dataframe\">\n",
       "  <thead>\n",
       "    <tr style=\"text-align: right;\">\n",
       "      <th></th>\n",
       "      <th>Feature</th>\n",
       "      <th>Importance</th>\n",
       "    </tr>\n",
       "  </thead>\n",
       "  <tbody>\n",
       "    <tr>\n",
       "      <th>0</th>\n",
       "      <td>tenure</td>\n",
       "      <td>0.035225</td>\n",
       "    </tr>\n",
       "    <tr>\n",
       "      <th>1</th>\n",
       "      <td>MonthlyCharges</td>\n",
       "      <td>0.026519</td>\n",
       "    </tr>\n",
       "    <tr>\n",
       "      <th>2</th>\n",
       "      <td>TotalCharges</td>\n",
       "      <td>0.026558</td>\n",
       "    </tr>\n",
       "    <tr>\n",
       "      <th>3</th>\n",
       "      <td>gender_Female</td>\n",
       "      <td>0.016671</td>\n",
       "    </tr>\n",
       "    <tr>\n",
       "      <th>4</th>\n",
       "      <td>SeniorCitizen_0</td>\n",
       "      <td>0.020781</td>\n",
       "    </tr>\n",
       "    <tr>\n",
       "      <th>5</th>\n",
       "      <td>Partner_No</td>\n",
       "      <td>0.018639</td>\n",
       "    </tr>\n",
       "    <tr>\n",
       "      <th>6</th>\n",
       "      <td>Dependents_No</td>\n",
       "      <td>0.022823</td>\n",
       "    </tr>\n",
       "    <tr>\n",
       "      <th>7</th>\n",
       "      <td>PhoneService_No</td>\n",
       "      <td>0.022453</td>\n",
       "    </tr>\n",
       "    <tr>\n",
       "      <th>8</th>\n",
       "      <td>MultipleLines_No</td>\n",
       "      <td>0.021916</td>\n",
       "    </tr>\n",
       "    <tr>\n",
       "      <th>9</th>\n",
       "      <td>MultipleLines_No phone service</td>\n",
       "      <td>0.000000</td>\n",
       "    </tr>\n",
       "    <tr>\n",
       "      <th>10</th>\n",
       "      <td>InternetService_DSL</td>\n",
       "      <td>0.031933</td>\n",
       "    </tr>\n",
       "    <tr>\n",
       "      <th>11</th>\n",
       "      <td>InternetService_Fiber optic</td>\n",
       "      <td>0.087861</td>\n",
       "    </tr>\n",
       "    <tr>\n",
       "      <th>12</th>\n",
       "      <td>OnlineSecurity_No</td>\n",
       "      <td>0.068738</td>\n",
       "    </tr>\n",
       "    <tr>\n",
       "      <th>13</th>\n",
       "      <td>OnlineSecurity_No internet service</td>\n",
       "      <td>0.035328</td>\n",
       "    </tr>\n",
       "    <tr>\n",
       "      <th>14</th>\n",
       "      <td>OnlineBackup_No</td>\n",
       "      <td>0.028775</td>\n",
       "    </tr>\n",
       "    <tr>\n",
       "      <th>15</th>\n",
       "      <td>OnlineBackup_No internet service</td>\n",
       "      <td>0.000000</td>\n",
       "    </tr>\n",
       "    <tr>\n",
       "      <th>16</th>\n",
       "      <td>DeviceProtection_No</td>\n",
       "      <td>0.021150</td>\n",
       "    </tr>\n",
       "    <tr>\n",
       "      <th>17</th>\n",
       "      <td>DeviceProtection_No internet service</td>\n",
       "      <td>0.000000</td>\n",
       "    </tr>\n",
       "    <tr>\n",
       "      <th>18</th>\n",
       "      <td>TechSupport_No</td>\n",
       "      <td>0.060294</td>\n",
       "    </tr>\n",
       "    <tr>\n",
       "      <th>19</th>\n",
       "      <td>TechSupport_No internet service</td>\n",
       "      <td>0.000000</td>\n",
       "    </tr>\n",
       "    <tr>\n",
       "      <th>20</th>\n",
       "      <td>StreamingTV_No</td>\n",
       "      <td>0.019203</td>\n",
       "    </tr>\n",
       "    <tr>\n",
       "      <th>21</th>\n",
       "      <td>StreamingTV_No internet service</td>\n",
       "      <td>0.000000</td>\n",
       "    </tr>\n",
       "    <tr>\n",
       "      <th>22</th>\n",
       "      <td>StreamingMovies_No</td>\n",
       "      <td>0.026138</td>\n",
       "    </tr>\n",
       "    <tr>\n",
       "      <th>23</th>\n",
       "      <td>StreamingMovies_No internet service</td>\n",
       "      <td>0.000000</td>\n",
       "    </tr>\n",
       "    <tr>\n",
       "      <th>24</th>\n",
       "      <td>Contract_Month-to-month</td>\n",
       "      <td>0.273062</td>\n",
       "    </tr>\n",
       "    <tr>\n",
       "      <th>25</th>\n",
       "      <td>Contract_One year</td>\n",
       "      <td>0.030226</td>\n",
       "    </tr>\n",
       "    <tr>\n",
       "      <th>26</th>\n",
       "      <td>PaperlessBilling_No</td>\n",
       "      <td>0.024313</td>\n",
       "    </tr>\n",
       "    <tr>\n",
       "      <th>27</th>\n",
       "      <td>PaymentMethod_Bank transfer (automatic)</td>\n",
       "      <td>0.017601</td>\n",
       "    </tr>\n",
       "    <tr>\n",
       "      <th>28</th>\n",
       "      <td>PaymentMethod_Credit card (automatic)</td>\n",
       "      <td>0.017957</td>\n",
       "    </tr>\n",
       "    <tr>\n",
       "      <th>29</th>\n",
       "      <td>PaymentMethod_Electronic check</td>\n",
       "      <td>0.045836</td>\n",
       "    </tr>\n",
       "  </tbody>\n",
       "</table>\n",
       "</div>"
      ],
      "text/plain": [
       "                                    Feature  Importance\n",
       "0                                    tenure    0.035225\n",
       "1                            MonthlyCharges    0.026519\n",
       "2                              TotalCharges    0.026558\n",
       "3                             gender_Female    0.016671\n",
       "4                           SeniorCitizen_0    0.020781\n",
       "5                                Partner_No    0.018639\n",
       "6                             Dependents_No    0.022823\n",
       "7                           PhoneService_No    0.022453\n",
       "8                          MultipleLines_No    0.021916\n",
       "9            MultipleLines_No phone service    0.000000\n",
       "10                      InternetService_DSL    0.031933\n",
       "11              InternetService_Fiber optic    0.087861\n",
       "12                        OnlineSecurity_No    0.068738\n",
       "13       OnlineSecurity_No internet service    0.035328\n",
       "14                          OnlineBackup_No    0.028775\n",
       "15         OnlineBackup_No internet service    0.000000\n",
       "16                      DeviceProtection_No    0.021150\n",
       "17     DeviceProtection_No internet service    0.000000\n",
       "18                           TechSupport_No    0.060294\n",
       "19          TechSupport_No internet service    0.000000\n",
       "20                           StreamingTV_No    0.019203\n",
       "21          StreamingTV_No internet service    0.000000\n",
       "22                       StreamingMovies_No    0.026138\n",
       "23      StreamingMovies_No internet service    0.000000\n",
       "24                  Contract_Month-to-month    0.273062\n",
       "25                        Contract_One year    0.030226\n",
       "26                      PaperlessBilling_No    0.024313\n",
       "27  PaymentMethod_Bank transfer (automatic)    0.017601\n",
       "28    PaymentMethod_Credit card (automatic)    0.017957\n",
       "29           PaymentMethod_Electronic check    0.045836"
      ]
     },
     "metadata": {},
     "output_type": "display_data"
    }
   ],
   "source": [
    "feature_imp = list(map(float,list(xgb_final.feature_importances_)))\n",
    "cols = list(x_train_df.columns)\n",
    "feature_imp_df = pd.DataFrame({'Feature':cols,'Importance':feature_imp})\n",
    "display(feature_imp_df)#.sort_values(by=['Importance'],inplace=True))"
   ]
  },
  {
   "cell_type": "code",
   "execution_count": 54,
   "metadata": {
    "ExecuteTime": {
     "end_time": "2020-08-11T18:28:04.380156Z",
     "start_time": "2020-08-11T18:28:04.373157Z"
    }
   },
   "outputs": [
    {
     "data": {
      "text/plain": [
       "Feature        object\n",
       "Importance    float64\n",
       "dtype: object"
      ]
     },
     "execution_count": 54,
     "metadata": {},
     "output_type": "execute_result"
    }
   ],
   "source": [
    "feature_imp_df.dtypes"
   ]
  },
  {
   "cell_type": "markdown",
   "metadata": {},
   "source": [
    "### Evaluate performance on test set"
   ]
  },
  {
   "cell_type": "code",
   "execution_count": 65,
   "metadata": {
    "ExecuteTime": {
     "end_time": "2020-08-11T20:21:29.785599Z",
     "start_time": "2020-08-11T20:21:29.236911Z"
    }
   },
   "outputs": [
    {
     "name": "stdout",
     "output_type": "stream",
     "text": [
      "AUC:  0.8425925925925926\n",
      "Confusion matrix at p=0.52: [[778 239]\n",
      " [ 97 293]]\n",
      "True Positive Rate at p=0.52: 0.7512820512820513\n",
      "True Negative Rate at p=0.52: 0.7649950835791544\n"
     ]
    },
    {
     "data": {
      "image/png": "[encoded data removed]",
      "text/plain": [
       "<Figure size 432x288 with 1 Axes>"
      ]
     },
     "metadata": {
      "needs_background": "light"
     },
     "output_type": "display_data"
    }
   ],
   "source": [
    "from sklearn import metrics\n",
    "from sklearn.metrics import roc_auc_score\n",
    "from sklearn.metrics import confusion_matrix\n",
    "\n",
    "# Predict probabilities using model\n",
    "prediction_output = xgb_final.predict_proba(X_test_Scaled)\n",
    "# Select probability for churn events (Target = 1) and reshape\n",
    "predicted_prob = prediction_output[:,1].reshape((y_test.shape[0],1))\n",
    "observed = y_test.reshape((y_test.shape[0],1))\n",
    "# Plot precision and recall across probabilities\n",
    "prob_array = np.around(np.arange(0,0.8,0.02), decimals=2)\n",
    "precision_array = np.zeros(prob_array.size)\n",
    "recall_array = np.zeros(prob_array.size)\n",
    "accuracy_array = np.zeros(prob_array.size)\n",
    "i=0\n",
    "for p in prob_array:\n",
    "    prediction = (predicted_prob>=p)*1\n",
    "    precision_array[i] = metrics.precision_score(observed,prediction)\n",
    "    recall_array[i] = metrics.recall_score(observed,prediction)\n",
    "    accuracy_array[i] = metrics.accuracy_score(observed,prediction)\n",
    "    i=i+1\n",
    "\n",
    "sns.lineplot(prob_array,precision_array,label=\"Precision\");\n",
    "sns.lineplot(prob_array,recall_array,label=\"Recall\");\n",
    "sns.lineplot(prob_array,accuracy_array,label=\"Overall Accuracy\");\n",
    "plt.xlabel(\"Probability cutoff\");\n",
    "plt.legend();\n",
    "\n",
    "prediction = (predicted_prob>=0.52)*1\n",
    "conf_matrix = confusion_matrix(observed,prediction)\n",
    "\n",
    "print('AUC: ',roc_auc_score(observed,predicted_prob))\n",
    "print('Confusion matrix at p=0.52:',conf_matrix)\n",
    "print('True Positive Rate at p=0.52:',conf_matrix[1,1]/(conf_matrix[1,1] + conf_matrix[1,0]))\n",
    "print('True Negative Rate at p=0.52:',conf_matrix[0,0]/(conf_matrix[0,0] + conf_matrix[0,1]))"
   ]
  }
 ],
 "metadata": {
  "kernelspec": {
   "display_name": "Python 3",
   "language": "python",
   "name": "python3"
  },
  "language_info": {
   "codemirror_mode": {
    "name": "ipython",
    "version": 3
   },
   "file_extension": ".py",
   "mimetype": "text/x-python",
   "name": "python",
   "nbconvert_exporter": "python",
   "pygments_lexer": "ipython3",
   "version": "3.7.3"
  },
  "latex_envs": {
   "LaTeX_envs_menu_present": true,
   "autoclose": false,
   "autocomplete": true,
   "bibliofile": "biblio.bib",
   "cite_by": "apalike",
   "current_citInitial": 1,
   "eqLabelWithNumbers": true,
   "eqNumInitial": 1,
   "hotkeys": {
    "equation": "Ctrl-E",
    "itemize": "Ctrl-I"
   },
   "labels_anchors": false,
   "latex_user_defs": false,
   "report_style_numbering": false,
   "user_envs_cfg": false
  },
  "toc": {
   "base_numbering": 1,
   "nav_menu": {},
   "number_sections": true,
   "sideBar": true,
   "skip_h1_title": false,
   "title_cell": "Table of Contents",
   "title_sidebar": "Contents",
   "toc_cell": false,
   "toc_position": {
    "height": "calc(100% - 180px)",
    "left": "10px",
    "top": "150px",
    "width": "273.941px"
   },
   "toc_section_display": true,
   "toc_window_display": true
  },
  "varInspector": {
   "cols": {
    "lenName": 16,
    "lenType": 16,
    "lenVar": 40
   },
   "kernels_config": {
    "python": {
     "delete_cmd_postfix": "",
     "delete_cmd_prefix": "del ",
     "library": "var_list.py",
     "varRefreshCmd": "print(var_dic_list())"
    },
    "r": {
     "delete_cmd_postfix": ") ",
     "delete_cmd_prefix": "rm(",
     "library": "var_list.r",
     "varRefreshCmd": "cat(var_dic_list()) "
    }
   },
   "types_to_exclude": [
    "module",
    "function",
    "builtin_function_or_method",
    "instance",
    "_Feature"
   ],
   "window_display": false
  }
 },
 "nbformat": 4,
 "nbformat_minor": 2
}
