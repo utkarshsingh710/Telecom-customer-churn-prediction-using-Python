{
 "cells": [
  {
   "cell_type": "markdown",
   "metadata": {},
   "source": [
    "<font size=\"8\">Customer churn prediction model - Telecom</font>"
   ]
  },
  {
   "cell_type": "markdown",
   "metadata": {},
   "source": [
    "<font size=\"4\">by: Utkarsh Singh</font>"
   ]
  },
  {
   "cell_type": "markdown",
   "metadata": {},
   "source": [
    "# Import libraries"
   ]
  },
  {
   "cell_type": "code",
   "execution_count": 97,
   "metadata": {
    "ExecuteTime": {
     "end_time": "2020-05-10T20:55:31.402615Z",
     "start_time": "2020-05-10T20:55:31.396621Z"
    }
   },
   "outputs": [],
   "source": [
    "import pandas as pd, numpy as np, scipy as sp, sklearn , matplotlib.pyplot as plt, seaborn as sb,plotly as ply, statsmodels, warnings"
   ]
  },
  {
   "cell_type": "code",
   "execution_count": 2,
   "metadata": {
    "ExecuteTime": {
     "end_time": "2020-05-10T16:36:08.175299Z",
     "start_time": "2020-05-10T16:36:08.170305Z"
    }
   },
   "outputs": [],
   "source": [
    "import os\n",
    "os.chdir(\"C:\\\\Users\\\\Hi\\\\Documents\\\\UC BANA Master\\\\Data science - Python\\\\telco-customer-churn - Kaggle\")"
   ]
  },
  {
   "cell_type": "markdown",
   "metadata": {},
   "source": [
    "# Define functions"
   ]
  },
  {
   "cell_type": "code",
   "execution_count": 180,
   "metadata": {
    "ExecuteTime": {
     "end_time": "2020-05-11T01:01:48.094619Z",
     "start_time": "2020-05-11T01:01:48.074631Z"
    }
   },
   "outputs": [],
   "source": [
    "# Obtain frequency for all categorical variables\n",
    "\n",
    "def categorical_var_freq(df):\n",
    "    x=0\n",
    "    while x < len(list(df.select_dtypes(include = \"object\").columns)):\n",
    "        varname = list(df.select_dtypes(include = \"object\").columns)[x]\n",
    "        print(varname,\"\\n\")\n",
    "        print(pd.DataFrame(df[varname].value_counts()),\"\\n\")\n",
    "        x=x+1\n",
    "\n",
    "        \n",
    "# Cramer's V statistic for measuring association between categorical predictors\n",
    "\n",
    "import scipy.stats as ss\n",
    "\n",
    "def cramers_v(X,Y):\n",
    "    confusion_matrix = pd.crosstab(X,Y).values\n",
    "    chi2 = ss.chi2_contingency(confusion_matrix)[0]\n",
    "    n = confusion_matrix.sum()\n",
    "    phi2 = chi2/n\n",
    "    r,k = confusion_matrix.shape\n",
    "    phi2corr = max(0, phi2-((k-1)*(r-1))/(n-1))\n",
    "    rcorr = r-((r-1)**2)/(n-1)\n",
    "    kcorr = k-((k-1)**2)/(n-1)\n",
    "    return np.sqrt(phi2corr/min((kcorr-1),(rcorr-1)))\n",
    "\n",
    "# Symmetric misclassification using p threshold\n",
    "\n",
    "def symm_misclassif(y_true,y_pred): \n",
    "    FP = np.sum((y_pred.reshape((y_true.shape[0],1))>p) & (y_true==0)) \n",
    "    FN = np.sum((y_pred.reshape((y_true.shape[0],1))<=p) & (y_true==1)) \n",
    "    misclassification = FP+FN \n",
    "    misclassification_rate = misclassification/y_true.shape[0] \n",
    "    return misclassification_rate\n",
    "\n",
    "# Asymmetric misclassification using p threshold and 1:3 class weights for 0:1\n",
    "\n",
    "def asymm_misclassif(y_true,y_pred): \n",
    "    FP = (y_pred.reshape((y_true.shape[0],1))>p) & (y_true==0)\n",
    "    FN = (y_pred.reshape((y_true.shape[0],1))<=p) & (y_true==1)\n",
    "    misclassification_rate = np.mean(FP+np.multiply(FN,3))\n",
    "    return misclassification_rate"
   ]
  },
  {
   "cell_type": "markdown",
   "metadata": {},
   "source": [
    "# Read raw data"
   ]
  },
  {
   "cell_type": "code",
   "execution_count": 3,
   "metadata": {
    "ExecuteTime": {
     "end_time": "2020-05-10T16:36:16.410464Z",
     "start_time": "2020-05-10T16:36:16.160795Z"
    }
   },
   "outputs": [],
   "source": [
    "churndata = pd.read_csv(\"WA_Fn-UseC_-Telco-Customer-Churn.csv\")"
   ]
  },
  {
   "cell_type": "code",
   "execution_count": 8,
   "metadata": {
    "ExecuteTime": {
     "end_time": "2020-04-20T23:22:23.418387Z",
     "start_time": "2020-04-20T23:22:23.413388Z"
    }
   },
   "outputs": [
    {
     "data": {
      "text/plain": [
       "(7043, 21)"
      ]
     },
     "execution_count": 8,
     "metadata": {},
     "output_type": "execute_result"
    }
   ],
   "source": [
    "churndata.shape"
   ]
  },
  {
   "cell_type": "code",
   "execution_count": 83,
   "metadata": {
    "ExecuteTime": {
     "end_time": "2020-02-29T01:26:51.996250Z",
     "start_time": "2020-02-29T01:26:51.939286Z"
    },
    "scrolled": true
   },
   "outputs": [
    {
     "data": {
      "text/html": [
       "<div>\n",
       "<style scoped>\n",
       "    .dataframe tbody tr th:only-of-type {\n",
       "        vertical-align: middle;\n",
       "    }\n",
       "\n",
       "    .dataframe tbody tr th {\n",
       "        vertical-align: top;\n",
       "    }\n",
       "\n",
       "    .dataframe thead th {\n",
       "        text-align: right;\n",
       "    }\n",
       "</style>\n",
       "<table border=\"1\" class=\"dataframe\">\n",
       "  <thead>\n",
       "    <tr style=\"text-align: right;\">\n",
       "      <th></th>\n",
       "      <th>customerID</th>\n",
       "      <th>gender</th>\n",
       "      <th>SeniorCitizen</th>\n",
       "      <th>Partner</th>\n",
       "      <th>Dependents</th>\n",
       "      <th>tenure</th>\n",
       "      <th>PhoneService</th>\n",
       "      <th>MultipleLines</th>\n",
       "      <th>InternetService</th>\n",
       "      <th>OnlineSecurity</th>\n",
       "      <th>...</th>\n",
       "      <th>DeviceProtection</th>\n",
       "      <th>TechSupport</th>\n",
       "      <th>StreamingTV</th>\n",
       "      <th>StreamingMovies</th>\n",
       "      <th>Contract</th>\n",
       "      <th>PaperlessBilling</th>\n",
       "      <th>PaymentMethod</th>\n",
       "      <th>MonthlyCharges</th>\n",
       "      <th>TotalCharges</th>\n",
       "      <th>response</th>\n",
       "    </tr>\n",
       "  </thead>\n",
       "  <tbody>\n",
       "    <tr>\n",
       "      <th>1</th>\n",
       "      <td>5575-GNVDE</td>\n",
       "      <td>Male</td>\n",
       "      <td>0</td>\n",
       "      <td>No</td>\n",
       "      <td>No</td>\n",
       "      <td>34</td>\n",
       "      <td>Yes</td>\n",
       "      <td>No</td>\n",
       "      <td>DSL</td>\n",
       "      <td>Yes</td>\n",
       "      <td>...</td>\n",
       "      <td>Yes</td>\n",
       "      <td>No</td>\n",
       "      <td>No</td>\n",
       "      <td>No</td>\n",
       "      <td>One year</td>\n",
       "      <td>No</td>\n",
       "      <td>Mailed check</td>\n",
       "      <td>56.95</td>\n",
       "      <td>1889.5</td>\n",
       "      <td>0</td>\n",
       "    </tr>\n",
       "    <tr>\n",
       "      <th>2</th>\n",
       "      <td>3668-QPYBK</td>\n",
       "      <td>Male</td>\n",
       "      <td>0</td>\n",
       "      <td>No</td>\n",
       "      <td>No</td>\n",
       "      <td>2</td>\n",
       "      <td>Yes</td>\n",
       "      <td>No</td>\n",
       "      <td>DSL</td>\n",
       "      <td>Yes</td>\n",
       "      <td>...</td>\n",
       "      <td>No</td>\n",
       "      <td>No</td>\n",
       "      <td>No</td>\n",
       "      <td>No</td>\n",
       "      <td>Month-to-month</td>\n",
       "      <td>Yes</td>\n",
       "      <td>Mailed check</td>\n",
       "      <td>53.85</td>\n",
       "      <td>108.15</td>\n",
       "      <td>1</td>\n",
       "    </tr>\n",
       "    <tr>\n",
       "      <th>3</th>\n",
       "      <td>7795-CFOCW</td>\n",
       "      <td>Male</td>\n",
       "      <td>0</td>\n",
       "      <td>No</td>\n",
       "      <td>No</td>\n",
       "      <td>45</td>\n",
       "      <td>No</td>\n",
       "      <td>No phone service</td>\n",
       "      <td>DSL</td>\n",
       "      <td>Yes</td>\n",
       "      <td>...</td>\n",
       "      <td>Yes</td>\n",
       "      <td>Yes</td>\n",
       "      <td>No</td>\n",
       "      <td>No</td>\n",
       "      <td>One year</td>\n",
       "      <td>No</td>\n",
       "      <td>Bank transfer (automatic)</td>\n",
       "      <td>42.30</td>\n",
       "      <td>1840.75</td>\n",
       "      <td>0</td>\n",
       "    </tr>\n",
       "    <tr>\n",
       "      <th>4</th>\n",
       "      <td>9237-HQITU</td>\n",
       "      <td>Female</td>\n",
       "      <td>0</td>\n",
       "      <td>No</td>\n",
       "      <td>No</td>\n",
       "      <td>2</td>\n",
       "      <td>Yes</td>\n",
       "      <td>No</td>\n",
       "      <td>Fiber optic</td>\n",
       "      <td>No</td>\n",
       "      <td>...</td>\n",
       "      <td>No</td>\n",
       "      <td>No</td>\n",
       "      <td>No</td>\n",
       "      <td>No</td>\n",
       "      <td>Month-to-month</td>\n",
       "      <td>Yes</td>\n",
       "      <td>Electronic check</td>\n",
       "      <td>70.70</td>\n",
       "      <td>151.65</td>\n",
       "      <td>1</td>\n",
       "    </tr>\n",
       "    <tr>\n",
       "      <th>5</th>\n",
       "      <td>9305-CDSKC</td>\n",
       "      <td>Female</td>\n",
       "      <td>0</td>\n",
       "      <td>No</td>\n",
       "      <td>No</td>\n",
       "      <td>8</td>\n",
       "      <td>Yes</td>\n",
       "      <td>Yes</td>\n",
       "      <td>Fiber optic</td>\n",
       "      <td>No</td>\n",
       "      <td>...</td>\n",
       "      <td>Yes</td>\n",
       "      <td>No</td>\n",
       "      <td>Yes</td>\n",
       "      <td>Yes</td>\n",
       "      <td>Month-to-month</td>\n",
       "      <td>Yes</td>\n",
       "      <td>Electronic check</td>\n",
       "      <td>99.65</td>\n",
       "      <td>820.5</td>\n",
       "      <td>1</td>\n",
       "    </tr>\n",
       "    <tr>\n",
       "      <th>6</th>\n",
       "      <td>1452-KIOVK</td>\n",
       "      <td>Male</td>\n",
       "      <td>0</td>\n",
       "      <td>No</td>\n",
       "      <td>Yes</td>\n",
       "      <td>22</td>\n",
       "      <td>Yes</td>\n",
       "      <td>Yes</td>\n",
       "      <td>Fiber optic</td>\n",
       "      <td>No</td>\n",
       "      <td>...</td>\n",
       "      <td>No</td>\n",
       "      <td>No</td>\n",
       "      <td>Yes</td>\n",
       "      <td>No</td>\n",
       "      <td>Month-to-month</td>\n",
       "      <td>Yes</td>\n",
       "      <td>Credit card (automatic)</td>\n",
       "      <td>89.10</td>\n",
       "      <td>1949.4</td>\n",
       "      <td>0</td>\n",
       "    </tr>\n",
       "    <tr>\n",
       "      <th>7</th>\n",
       "      <td>6713-OKOMC</td>\n",
       "      <td>Female</td>\n",
       "      <td>0</td>\n",
       "      <td>No</td>\n",
       "      <td>No</td>\n",
       "      <td>10</td>\n",
       "      <td>No</td>\n",
       "      <td>No phone service</td>\n",
       "      <td>DSL</td>\n",
       "      <td>Yes</td>\n",
       "      <td>...</td>\n",
       "      <td>No</td>\n",
       "      <td>No</td>\n",
       "      <td>No</td>\n",
       "      <td>No</td>\n",
       "      <td>Month-to-month</td>\n",
       "      <td>No</td>\n",
       "      <td>Mailed check</td>\n",
       "      <td>29.75</td>\n",
       "      <td>301.9</td>\n",
       "      <td>0</td>\n",
       "    </tr>\n",
       "    <tr>\n",
       "      <th>8</th>\n",
       "      <td>7892-POOKP</td>\n",
       "      <td>Female</td>\n",
       "      <td>0</td>\n",
       "      <td>Yes</td>\n",
       "      <td>No</td>\n",
       "      <td>28</td>\n",
       "      <td>Yes</td>\n",
       "      <td>Yes</td>\n",
       "      <td>Fiber optic</td>\n",
       "      <td>No</td>\n",
       "      <td>...</td>\n",
       "      <td>Yes</td>\n",
       "      <td>Yes</td>\n",
       "      <td>Yes</td>\n",
       "      <td>Yes</td>\n",
       "      <td>Month-to-month</td>\n",
       "      <td>Yes</td>\n",
       "      <td>Electronic check</td>\n",
       "      <td>104.80</td>\n",
       "      <td>3046.05</td>\n",
       "      <td>1</td>\n",
       "    </tr>\n",
       "    <tr>\n",
       "      <th>9</th>\n",
       "      <td>6388-TABGU</td>\n",
       "      <td>Male</td>\n",
       "      <td>0</td>\n",
       "      <td>No</td>\n",
       "      <td>Yes</td>\n",
       "      <td>62</td>\n",
       "      <td>Yes</td>\n",
       "      <td>No</td>\n",
       "      <td>DSL</td>\n",
       "      <td>Yes</td>\n",
       "      <td>...</td>\n",
       "      <td>No</td>\n",
       "      <td>No</td>\n",
       "      <td>No</td>\n",
       "      <td>No</td>\n",
       "      <td>One year</td>\n",
       "      <td>No</td>\n",
       "      <td>Bank transfer (automatic)</td>\n",
       "      <td>56.15</td>\n",
       "      <td>3487.95</td>\n",
       "      <td>0</td>\n",
       "    </tr>\n",
       "  </tbody>\n",
       "</table>\n",
       "<p>9 rows × 21 columns</p>\n",
       "</div>"
      ],
      "text/plain": [
       "   customerID  gender  SeniorCitizen Partner Dependents  tenure PhoneService  \\\n",
       "1  5575-GNVDE    Male              0      No         No      34          Yes   \n",
       "2  3668-QPYBK    Male              0      No         No       2          Yes   \n",
       "3  7795-CFOCW    Male              0      No         No      45           No   \n",
       "4  9237-HQITU  Female              0      No         No       2          Yes   \n",
       "5  9305-CDSKC  Female              0      No         No       8          Yes   \n",
       "6  1452-KIOVK    Male              0      No        Yes      22          Yes   \n",
       "7  6713-OKOMC  Female              0      No         No      10           No   \n",
       "8  7892-POOKP  Female              0     Yes         No      28          Yes   \n",
       "9  6388-TABGU    Male              0      No        Yes      62          Yes   \n",
       "\n",
       "      MultipleLines InternetService OnlineSecurity  ... DeviceProtection  \\\n",
       "1                No             DSL            Yes  ...              Yes   \n",
       "2                No             DSL            Yes  ...               No   \n",
       "3  No phone service             DSL            Yes  ...              Yes   \n",
       "4                No     Fiber optic             No  ...               No   \n",
       "5               Yes     Fiber optic             No  ...              Yes   \n",
       "6               Yes     Fiber optic             No  ...               No   \n",
       "7  No phone service             DSL            Yes  ...               No   \n",
       "8               Yes     Fiber optic             No  ...              Yes   \n",
       "9                No             DSL            Yes  ...               No   \n",
       "\n",
       "  TechSupport StreamingTV StreamingMovies        Contract PaperlessBilling  \\\n",
       "1          No          No              No        One year               No   \n",
       "2          No          No              No  Month-to-month              Yes   \n",
       "3         Yes          No              No        One year               No   \n",
       "4          No          No              No  Month-to-month              Yes   \n",
       "5          No         Yes             Yes  Month-to-month              Yes   \n",
       "6          No         Yes              No  Month-to-month              Yes   \n",
       "7          No          No              No  Month-to-month               No   \n",
       "8         Yes         Yes             Yes  Month-to-month              Yes   \n",
       "9          No          No              No        One year               No   \n",
       "\n",
       "               PaymentMethod MonthlyCharges  TotalCharges response  \n",
       "1               Mailed check          56.95        1889.5        0  \n",
       "2               Mailed check          53.85        108.15        1  \n",
       "3  Bank transfer (automatic)          42.30       1840.75        0  \n",
       "4           Electronic check          70.70        151.65        1  \n",
       "5           Electronic check          99.65         820.5        1  \n",
       "6    Credit card (automatic)          89.10        1949.4        0  \n",
       "7               Mailed check          29.75         301.9        0  \n",
       "8           Electronic check         104.80       3046.05        1  \n",
       "9  Bank transfer (automatic)          56.15       3487.95        0  \n",
       "\n",
       "[9 rows x 21 columns]"
      ]
     },
     "metadata": {},
     "output_type": "display_data"
    }
   ],
   "source": [
    "display(churndata.iloc[1:10,:])"
   ]
  },
  {
   "cell_type": "markdown",
   "metadata": {},
   "source": [
    "# Data quality"
   ]
  },
  {
   "cell_type": "code",
   "execution_count": 9,
   "metadata": {
    "ExecuteTime": {
     "end_time": "2020-04-20T23:22:27.506227Z",
     "start_time": "2020-04-20T23:22:27.496255Z"
    },
    "scrolled": true
   },
   "outputs": [
    {
     "data": {
      "text/plain": [
       "customerID           object\n",
       "gender               object\n",
       "SeniorCitizen         int64\n",
       "Partner              object\n",
       "Dependents           object\n",
       "tenure                int64\n",
       "PhoneService         object\n",
       "MultipleLines        object\n",
       "InternetService      object\n",
       "OnlineSecurity       object\n",
       "OnlineBackup         object\n",
       "DeviceProtection     object\n",
       "TechSupport          object\n",
       "StreamingTV          object\n",
       "StreamingMovies      object\n",
       "Contract             object\n",
       "PaperlessBilling     object\n",
       "PaymentMethod        object\n",
       "MonthlyCharges      float64\n",
       "TotalCharges         object\n",
       "Churn                object\n",
       "dtype: object"
      ]
     },
     "execution_count": 9,
     "metadata": {},
     "output_type": "execute_result"
    }
   ],
   "source": [
    "# Columns\n",
    "\n",
    "churndata.dtypes"
   ]
  },
  {
   "cell_type": "code",
   "execution_count": 4,
   "metadata": {
    "ExecuteTime": {
     "end_time": "2020-05-10T16:36:31.808881Z",
     "start_time": "2020-05-10T16:36:31.740626Z"
    }
   },
   "outputs": [],
   "source": [
    "# Convert datatype of TotalCharges column\n",
    "churndata['TotalCharges'].replace(\" \",np.nan,inplace=True)\n",
    "churndata['TotalCharges'] = churndata['TotalCharges'].astype(\"float\")"
   ]
  },
  {
   "cell_type": "code",
   "execution_count": 6,
   "metadata": {
    "ExecuteTime": {
     "end_time": "2020-02-28T02:58:50.065038Z",
     "start_time": "2020-02-28T02:58:50.054043Z"
    }
   },
   "outputs": [
    {
     "name": "stdout",
     "output_type": "stream",
     "text": [
      "7043\n",
      "(7043, 21)\n"
     ]
    }
   ],
   "source": [
    "# Primary key uniqueness\n",
    "\n",
    "print(churndata['customerID'].nunique())\n",
    "print(churndata.shape)"
   ]
  },
  {
   "cell_type": "code",
   "execution_count": 5,
   "metadata": {
    "ExecuteTime": {
     "end_time": "2020-05-10T16:36:44.993739Z",
     "start_time": "2020-05-10T16:36:44.973751Z"
    },
    "scrolled": false
   },
   "outputs": [
    {
     "data": {
      "text/plain": [
       "customerID           0\n",
       "gender               0\n",
       "SeniorCitizen        0\n",
       "Partner              0\n",
       "Dependents           0\n",
       "tenure               0\n",
       "PhoneService         0\n",
       "MultipleLines        0\n",
       "InternetService      0\n",
       "OnlineSecurity       0\n",
       "OnlineBackup         0\n",
       "DeviceProtection     0\n",
       "TechSupport          0\n",
       "StreamingTV          0\n",
       "StreamingMovies      0\n",
       "Contract             0\n",
       "PaperlessBilling     0\n",
       "PaymentMethod        0\n",
       "MonthlyCharges       0\n",
       "TotalCharges        11\n",
       "Churn                0\n",
       "dtype: int64"
      ]
     },
     "execution_count": 5,
     "metadata": {},
     "output_type": "execute_result"
    }
   ],
   "source": [
    "\n",
    "churndata.isna().sum()\n",
    "\n",
    "# test = churndata.dropna(axis=0)\n",
    "# test.to_csv(\"TelcoChurnClean.csv\")"
   ]
  },
  {
   "cell_type": "markdown",
   "metadata": {},
   "source": [
    "**11** missing values found in the column TotalCharges."
   ]
  },
  {
   "cell_type": "markdown",
   "metadata": {},
   "source": [
    "# Data Exploration"
   ]
  },
  {
   "cell_type": "markdown",
   "metadata": {},
   "source": [
    "## Convert response variable into integer 0/1"
   ]
  },
  {
   "cell_type": "code",
   "execution_count": 6,
   "metadata": {
    "ExecuteTime": {
     "end_time": "2020-05-10T16:36:58.713452Z",
     "start_time": "2020-05-10T16:36:58.568163Z"
    },
    "scrolled": true
   },
   "outputs": [
    {
     "data": {
      "text/html": [
       "<div>\n",
       "<style scoped>\n",
       "    .dataframe tbody tr th:only-of-type {\n",
       "        vertical-align: middle;\n",
       "    }\n",
       "\n",
       "    .dataframe tbody tr th {\n",
       "        vertical-align: top;\n",
       "    }\n",
       "\n",
       "    .dataframe thead th {\n",
       "        text-align: right;\n",
       "    }\n",
       "</style>\n",
       "<table border=\"1\" class=\"dataframe\">\n",
       "  <thead>\n",
       "    <tr style=\"text-align: right;\">\n",
       "      <th></th>\n",
       "      <th>customerID</th>\n",
       "      <th>gender</th>\n",
       "      <th>SeniorCitizen</th>\n",
       "      <th>Partner</th>\n",
       "      <th>Dependents</th>\n",
       "      <th>tenure</th>\n",
       "      <th>PhoneService</th>\n",
       "      <th>MultipleLines</th>\n",
       "      <th>InternetService</th>\n",
       "      <th>OnlineSecurity</th>\n",
       "      <th>...</th>\n",
       "      <th>DeviceProtection</th>\n",
       "      <th>TechSupport</th>\n",
       "      <th>StreamingTV</th>\n",
       "      <th>StreamingMovies</th>\n",
       "      <th>Contract</th>\n",
       "      <th>PaperlessBilling</th>\n",
       "      <th>PaymentMethod</th>\n",
       "      <th>MonthlyCharges</th>\n",
       "      <th>TotalCharges</th>\n",
       "      <th>response</th>\n",
       "    </tr>\n",
       "  </thead>\n",
       "  <tbody>\n",
       "    <tr>\n",
       "      <th>0</th>\n",
       "      <td>7590-VHVEG</td>\n",
       "      <td>Female</td>\n",
       "      <td>0</td>\n",
       "      <td>Yes</td>\n",
       "      <td>No</td>\n",
       "      <td>1</td>\n",
       "      <td>No</td>\n",
       "      <td>No phone service</td>\n",
       "      <td>DSL</td>\n",
       "      <td>No</td>\n",
       "      <td>...</td>\n",
       "      <td>No</td>\n",
       "      <td>No</td>\n",
       "      <td>No</td>\n",
       "      <td>No</td>\n",
       "      <td>Month-to-month</td>\n",
       "      <td>Yes</td>\n",
       "      <td>Electronic check</td>\n",
       "      <td>29.85</td>\n",
       "      <td>29.85</td>\n",
       "      <td>0</td>\n",
       "    </tr>\n",
       "    <tr>\n",
       "      <th>1</th>\n",
       "      <td>5575-GNVDE</td>\n",
       "      <td>Male</td>\n",
       "      <td>0</td>\n",
       "      <td>No</td>\n",
       "      <td>No</td>\n",
       "      <td>34</td>\n",
       "      <td>Yes</td>\n",
       "      <td>No</td>\n",
       "      <td>DSL</td>\n",
       "      <td>Yes</td>\n",
       "      <td>...</td>\n",
       "      <td>Yes</td>\n",
       "      <td>No</td>\n",
       "      <td>No</td>\n",
       "      <td>No</td>\n",
       "      <td>One year</td>\n",
       "      <td>No</td>\n",
       "      <td>Mailed check</td>\n",
       "      <td>56.95</td>\n",
       "      <td>1889.50</td>\n",
       "      <td>0</td>\n",
       "    </tr>\n",
       "    <tr>\n",
       "      <th>2</th>\n",
       "      <td>3668-QPYBK</td>\n",
       "      <td>Male</td>\n",
       "      <td>0</td>\n",
       "      <td>No</td>\n",
       "      <td>No</td>\n",
       "      <td>2</td>\n",
       "      <td>Yes</td>\n",
       "      <td>No</td>\n",
       "      <td>DSL</td>\n",
       "      <td>Yes</td>\n",
       "      <td>...</td>\n",
       "      <td>No</td>\n",
       "      <td>No</td>\n",
       "      <td>No</td>\n",
       "      <td>No</td>\n",
       "      <td>Month-to-month</td>\n",
       "      <td>Yes</td>\n",
       "      <td>Mailed check</td>\n",
       "      <td>53.85</td>\n",
       "      <td>108.15</td>\n",
       "      <td>1</td>\n",
       "    </tr>\n",
       "    <tr>\n",
       "      <th>3</th>\n",
       "      <td>7795-CFOCW</td>\n",
       "      <td>Male</td>\n",
       "      <td>0</td>\n",
       "      <td>No</td>\n",
       "      <td>No</td>\n",
       "      <td>45</td>\n",
       "      <td>No</td>\n",
       "      <td>No phone service</td>\n",
       "      <td>DSL</td>\n",
       "      <td>Yes</td>\n",
       "      <td>...</td>\n",
       "      <td>Yes</td>\n",
       "      <td>Yes</td>\n",
       "      <td>No</td>\n",
       "      <td>No</td>\n",
       "      <td>One year</td>\n",
       "      <td>No</td>\n",
       "      <td>Bank transfer (automatic)</td>\n",
       "      <td>42.30</td>\n",
       "      <td>1840.75</td>\n",
       "      <td>0</td>\n",
       "    </tr>\n",
       "    <tr>\n",
       "      <th>4</th>\n",
       "      <td>9237-HQITU</td>\n",
       "      <td>Female</td>\n",
       "      <td>0</td>\n",
       "      <td>No</td>\n",
       "      <td>No</td>\n",
       "      <td>2</td>\n",
       "      <td>Yes</td>\n",
       "      <td>No</td>\n",
       "      <td>Fiber optic</td>\n",
       "      <td>No</td>\n",
       "      <td>...</td>\n",
       "      <td>No</td>\n",
       "      <td>No</td>\n",
       "      <td>No</td>\n",
       "      <td>No</td>\n",
       "      <td>Month-to-month</td>\n",
       "      <td>Yes</td>\n",
       "      <td>Electronic check</td>\n",
       "      <td>70.70</td>\n",
       "      <td>151.65</td>\n",
       "      <td>1</td>\n",
       "    </tr>\n",
       "    <tr>\n",
       "      <th>...</th>\n",
       "      <td>...</td>\n",
       "      <td>...</td>\n",
       "      <td>...</td>\n",
       "      <td>...</td>\n",
       "      <td>...</td>\n",
       "      <td>...</td>\n",
       "      <td>...</td>\n",
       "      <td>...</td>\n",
       "      <td>...</td>\n",
       "      <td>...</td>\n",
       "      <td>...</td>\n",
       "      <td>...</td>\n",
       "      <td>...</td>\n",
       "      <td>...</td>\n",
       "      <td>...</td>\n",
       "      <td>...</td>\n",
       "      <td>...</td>\n",
       "      <td>...</td>\n",
       "      <td>...</td>\n",
       "      <td>...</td>\n",
       "      <td>...</td>\n",
       "    </tr>\n",
       "    <tr>\n",
       "      <th>7038</th>\n",
       "      <td>6840-RESVB</td>\n",
       "      <td>Male</td>\n",
       "      <td>0</td>\n",
       "      <td>Yes</td>\n",
       "      <td>Yes</td>\n",
       "      <td>24</td>\n",
       "      <td>Yes</td>\n",
       "      <td>Yes</td>\n",
       "      <td>DSL</td>\n",
       "      <td>Yes</td>\n",
       "      <td>...</td>\n",
       "      <td>Yes</td>\n",
       "      <td>Yes</td>\n",
       "      <td>Yes</td>\n",
       "      <td>Yes</td>\n",
       "      <td>One year</td>\n",
       "      <td>Yes</td>\n",
       "      <td>Mailed check</td>\n",
       "      <td>84.80</td>\n",
       "      <td>1990.50</td>\n",
       "      <td>0</td>\n",
       "    </tr>\n",
       "    <tr>\n",
       "      <th>7039</th>\n",
       "      <td>2234-XADUH</td>\n",
       "      <td>Female</td>\n",
       "      <td>0</td>\n",
       "      <td>Yes</td>\n",
       "      <td>Yes</td>\n",
       "      <td>72</td>\n",
       "      <td>Yes</td>\n",
       "      <td>Yes</td>\n",
       "      <td>Fiber optic</td>\n",
       "      <td>No</td>\n",
       "      <td>...</td>\n",
       "      <td>Yes</td>\n",
       "      <td>No</td>\n",
       "      <td>Yes</td>\n",
       "      <td>Yes</td>\n",
       "      <td>One year</td>\n",
       "      <td>Yes</td>\n",
       "      <td>Credit card (automatic)</td>\n",
       "      <td>103.20</td>\n",
       "      <td>7362.90</td>\n",
       "      <td>0</td>\n",
       "    </tr>\n",
       "    <tr>\n",
       "      <th>7040</th>\n",
       "      <td>4801-JZAZL</td>\n",
       "      <td>Female</td>\n",
       "      <td>0</td>\n",
       "      <td>Yes</td>\n",
       "      <td>Yes</td>\n",
       "      <td>11</td>\n",
       "      <td>No</td>\n",
       "      <td>No phone service</td>\n",
       "      <td>DSL</td>\n",
       "      <td>Yes</td>\n",
       "      <td>...</td>\n",
       "      <td>No</td>\n",
       "      <td>No</td>\n",
       "      <td>No</td>\n",
       "      <td>No</td>\n",
       "      <td>Month-to-month</td>\n",
       "      <td>Yes</td>\n",
       "      <td>Electronic check</td>\n",
       "      <td>29.60</td>\n",
       "      <td>346.45</td>\n",
       "      <td>0</td>\n",
       "    </tr>\n",
       "    <tr>\n",
       "      <th>7041</th>\n",
       "      <td>8361-LTMKD</td>\n",
       "      <td>Male</td>\n",
       "      <td>1</td>\n",
       "      <td>Yes</td>\n",
       "      <td>No</td>\n",
       "      <td>4</td>\n",
       "      <td>Yes</td>\n",
       "      <td>Yes</td>\n",
       "      <td>Fiber optic</td>\n",
       "      <td>No</td>\n",
       "      <td>...</td>\n",
       "      <td>No</td>\n",
       "      <td>No</td>\n",
       "      <td>No</td>\n",
       "      <td>No</td>\n",
       "      <td>Month-to-month</td>\n",
       "      <td>Yes</td>\n",
       "      <td>Mailed check</td>\n",
       "      <td>74.40</td>\n",
       "      <td>306.60</td>\n",
       "      <td>1</td>\n",
       "    </tr>\n",
       "    <tr>\n",
       "      <th>7042</th>\n",
       "      <td>3186-AJIEK</td>\n",
       "      <td>Male</td>\n",
       "      <td>0</td>\n",
       "      <td>No</td>\n",
       "      <td>No</td>\n",
       "      <td>66</td>\n",
       "      <td>Yes</td>\n",
       "      <td>No</td>\n",
       "      <td>Fiber optic</td>\n",
       "      <td>Yes</td>\n",
       "      <td>...</td>\n",
       "      <td>Yes</td>\n",
       "      <td>Yes</td>\n",
       "      <td>Yes</td>\n",
       "      <td>Yes</td>\n",
       "      <td>Two year</td>\n",
       "      <td>Yes</td>\n",
       "      <td>Bank transfer (automatic)</td>\n",
       "      <td>105.65</td>\n",
       "      <td>6844.50</td>\n",
       "      <td>0</td>\n",
       "    </tr>\n",
       "  </tbody>\n",
       "</table>\n",
       "<p>7043 rows × 21 columns</p>\n",
       "</div>"
      ],
      "text/plain": [
       "      customerID  gender  SeniorCitizen Partner Dependents  tenure  \\\n",
       "0     7590-VHVEG  Female              0     Yes         No       1   \n",
       "1     5575-GNVDE    Male              0      No         No      34   \n",
       "2     3668-QPYBK    Male              0      No         No       2   \n",
       "3     7795-CFOCW    Male              0      No         No      45   \n",
       "4     9237-HQITU  Female              0      No         No       2   \n",
       "...          ...     ...            ...     ...        ...     ...   \n",
       "7038  6840-RESVB    Male              0     Yes        Yes      24   \n",
       "7039  2234-XADUH  Female              0     Yes        Yes      72   \n",
       "7040  4801-JZAZL  Female              0     Yes        Yes      11   \n",
       "7041  8361-LTMKD    Male              1     Yes         No       4   \n",
       "7042  3186-AJIEK    Male              0      No         No      66   \n",
       "\n",
       "     PhoneService     MultipleLines InternetService OnlineSecurity  ...  \\\n",
       "0              No  No phone service             DSL             No  ...   \n",
       "1             Yes                No             DSL            Yes  ...   \n",
       "2             Yes                No             DSL            Yes  ...   \n",
       "3              No  No phone service             DSL            Yes  ...   \n",
       "4             Yes                No     Fiber optic             No  ...   \n",
       "...           ...               ...             ...            ...  ...   \n",
       "7038          Yes               Yes             DSL            Yes  ...   \n",
       "7039          Yes               Yes     Fiber optic             No  ...   \n",
       "7040           No  No phone service             DSL            Yes  ...   \n",
       "7041          Yes               Yes     Fiber optic             No  ...   \n",
       "7042          Yes                No     Fiber optic            Yes  ...   \n",
       "\n",
       "     DeviceProtection TechSupport StreamingTV StreamingMovies        Contract  \\\n",
       "0                  No          No          No              No  Month-to-month   \n",
       "1                 Yes          No          No              No        One year   \n",
       "2                  No          No          No              No  Month-to-month   \n",
       "3                 Yes         Yes          No              No        One year   \n",
       "4                  No          No          No              No  Month-to-month   \n",
       "...               ...         ...         ...             ...             ...   \n",
       "7038              Yes         Yes         Yes             Yes        One year   \n",
       "7039              Yes          No         Yes             Yes        One year   \n",
       "7040               No          No          No              No  Month-to-month   \n",
       "7041               No          No          No              No  Month-to-month   \n",
       "7042              Yes         Yes         Yes             Yes        Two year   \n",
       "\n",
       "     PaperlessBilling              PaymentMethod MonthlyCharges  TotalCharges  \\\n",
       "0                 Yes           Electronic check          29.85         29.85   \n",
       "1                  No               Mailed check          56.95       1889.50   \n",
       "2                 Yes               Mailed check          53.85        108.15   \n",
       "3                  No  Bank transfer (automatic)          42.30       1840.75   \n",
       "4                 Yes           Electronic check          70.70        151.65   \n",
       "...               ...                        ...            ...           ...   \n",
       "7038              Yes               Mailed check          84.80       1990.50   \n",
       "7039              Yes    Credit card (automatic)         103.20       7362.90   \n",
       "7040              Yes           Electronic check          29.60        346.45   \n",
       "7041              Yes               Mailed check          74.40        306.60   \n",
       "7042              Yes  Bank transfer (automatic)         105.65       6844.50   \n",
       "\n",
       "      response  \n",
       "0            0  \n",
       "1            0  \n",
       "2            1  \n",
       "3            0  \n",
       "4            1  \n",
       "...        ...  \n",
       "7038         0  \n",
       "7039         0  \n",
       "7040         0  \n",
       "7041         1  \n",
       "7042         0  \n",
       "\n",
       "[7043 rows x 21 columns]"
      ]
     },
     "metadata": {},
     "output_type": "display_data"
    }
   ],
   "source": [
    "churndata['response'] = churndata['Churn'].apply(lambda x: 1 if x == 'Yes' else 0)\n",
    "churndata.drop(['Churn'],axis=1,inplace=True)\n",
    "display(churndata)"
   ]
  },
  {
   "cell_type": "markdown",
   "metadata": {},
   "source": [
    "## Stacked bar: All categorical variables vs response"
   ]
  },
  {
   "cell_type": "markdown",
   "metadata": {
    "ExecuteTime": {
     "end_time": "2020-02-28T04:59:04.747367Z",
     "start_time": "2020-02-28T04:59:04.739372Z"
    },
    "hide_input": true
   },
   "source": [
    "Let us look at the distribution of the response variable across levels of each categorical variable"
   ]
  },
  {
   "cell_type": "code",
   "execution_count": 82,
   "metadata": {
    "ExecuteTime": {
     "end_time": "2020-02-28T22:53:20.341809Z",
     "start_time": "2020-02-28T22:51:02.292049Z"
    },
    "hide_input": true,
    "scrolled": false
   },
   "outputs": [
    {
     "data": {
      "image/png": "[encoded data removed]",
      "text/plain": [
       "<Figure size 2880x2880 with 16 Axes>"
      ]
     },
     "metadata": {
      "needs_background": "light"
     },
     "output_type": "display_data"
    }
   ],
   "source": [
    "df = churndata.copy()\n",
    "target = 'response'\n",
    "dataid = 'customerID'\n",
    "\n",
    "categcolnames = list(df.select_dtypes(include = \"object\").columns)\n",
    "categcolnames.remove('customerID')\n",
    "\n",
    "\n",
    "\n",
    "\n",
    "fig, axes = plt.subplots(4, 4, figsize=(40,40))\n",
    "\n",
    "\n",
    "for var,ax in zip(categcolnames,axes.flatten()):\n",
    "\n",
    "    plotdf1 = df[[dataid,target,var]].groupby([var,target])[[dataid]].nunique().reset_index().pivot(index = var,columns = target,values =dataid).reset_index().replace(np.nan,0)\n",
    "    totals = [i+j for i,j in zip(plotdf1[0], plotdf1[1])]\n",
    "    nonevents = [i / j * 100 for i,j in zip(plotdf1[0], totals)]\n",
    "    events = [i / j * 100 for i,j in zip(plotdf1[1], totals)]\n",
    "\n",
    "    barWidth = 0.85\n",
    "    names = df[var].unique()\n",
    "    r = list(range(len(names)))\n",
    "    # Create nonevents bar\n",
    "    ax.bar(r, nonevents, color='blue', edgecolor='white', width=barWidth)\n",
    "    # Create events Bars\n",
    "    ax.bar(r, events, bottom=nonevents, color='orange', edgecolor='white', width=barWidth)\n",
    "    # Custom x axis\n",
    "#     ax.xticks(r, names, rotation=45)\n",
    "    ax.set_title(var)\n",
    "    ax.set_xticks(r)\n",
    "    ax.set_xticklabels(names)\n"
   ]
  },
  {
   "cell_type": "code",
   "execution_count": null,
   "metadata": {},
   "outputs": [],
   "source": []
  },
  {
   "cell_type": "markdown",
   "metadata": {},
   "source": [
    "## Histograms - Continuous variables vs response"
   ]
  },
  {
   "cell_type": "markdown",
   "metadata": {
    "hide_input": true
   },
   "source": [
    "Let us now check distribution of continuous variables for the churn and non-churn customers"
   ]
  },
  {
   "cell_type": "code",
   "execution_count": 103,
   "metadata": {
    "ExecuteTime": {
     "end_time": "2020-05-10T21:02:03.063671Z",
     "start_time": "2020-05-10T21:02:02.213161Z"
    },
    "hide_input": true,
    "scrolled": true
   },
   "outputs": [
    {
     "data": {
      "image/png": "[encoded data removed]",
      "text/plain": [
       "<Figure size 1440x432 with 3 Axes>"
      ]
     },
     "metadata": {
      "needs_background": "light"
     },
     "output_type": "display_data"
    }
   ],
   "source": [
    "warnings.simplefilter('ignore')\n",
    "\n",
    "df0 = churndata[churndata['response']==0]\n",
    "df1 = churndata[churndata['response']==1]\n",
    "\n",
    "numericcolnames = list(df.select_dtypes(exclude = \"object\").columns)\n",
    "\n",
    "fig, axes = plt.subplots(1, 3, figsize=(20,6))\n",
    "\n",
    "for var,axe in zip(numericcolnames,axes.flatten()):\n",
    "    sb.distplot(df0[var],color=\"blue\",label='Non-Churn',ax=axe);\n",
    "    sb.distplot(df1[var],color=\"orange\",label='Churn',ax=axe);\n",
    "    axe.legend(loc='best');\n"
   ]
  },
  {
   "cell_type": "markdown",
   "metadata": {},
   "source": [
    "<br>\n",
    "\n",
    "There is a significant difference between the distributions of **Tenure** and **Monthly Charges** for Churned and Retained customers"
   ]
  },
  {
   "cell_type": "markdown",
   "metadata": {},
   "source": [
    "## Class proportion"
   ]
  },
  {
   "cell_type": "code",
   "execution_count": 8,
   "metadata": {
    "ExecuteTime": {
     "end_time": "2020-05-10T16:41:42.486129Z",
     "start_time": "2020-05-10T16:41:42.479155Z"
    }
   },
   "outputs": [
    {
     "name": "stdout",
     "output_type": "stream",
     "text": [
      "proportion of churned customers is:  26.54 %\n"
     ]
    }
   ],
   "source": [
    "print('proportion of churned customers is: ',np.around((churndata['response'].mean())*100,decimals=2),'%')"
   ]
  },
  {
   "cell_type": "markdown",
   "metadata": {},
   "source": [
    "## Variable Summary"
   ]
  },
  {
   "cell_type": "code",
   "execution_count": 8,
   "metadata": {
    "ExecuteTime": {
     "end_time": "2020-03-02T18:15:03.015778Z",
     "start_time": "2020-03-02T18:15:02.857778Z"
    }
   },
   "outputs": [
    {
     "data": {
      "text/html": [
       "<div>\n",
       "<style scoped>\n",
       "    .dataframe tbody tr th:only-of-type {\n",
       "        vertical-align: middle;\n",
       "    }\n",
       "\n",
       "    .dataframe tbody tr th {\n",
       "        vertical-align: top;\n",
       "    }\n",
       "\n",
       "    .dataframe thead th {\n",
       "        text-align: right;\n",
       "    }\n",
       "</style>\n",
       "<table border=\"1\" class=\"dataframe\">\n",
       "  <thead>\n",
       "    <tr style=\"text-align: right;\">\n",
       "      <th></th>\n",
       "      <th>gender</th>\n",
       "      <th>SeniorCitizen</th>\n",
       "      <th>Partner</th>\n",
       "      <th>Dependents</th>\n",
       "      <th>tenure</th>\n",
       "      <th>PhoneService</th>\n",
       "      <th>MultipleLines</th>\n",
       "      <th>InternetService</th>\n",
       "      <th>OnlineSecurity</th>\n",
       "      <th>OnlineBackup</th>\n",
       "      <th>DeviceProtection</th>\n",
       "      <th>TechSupport</th>\n",
       "      <th>StreamingTV</th>\n",
       "      <th>StreamingMovies</th>\n",
       "      <th>Contract</th>\n",
       "      <th>PaperlessBilling</th>\n",
       "      <th>PaymentMethod</th>\n",
       "      <th>MonthlyCharges</th>\n",
       "      <th>TotalCharges</th>\n",
       "      <th>response</th>\n",
       "    </tr>\n",
       "  </thead>\n",
       "  <tbody>\n",
       "    <tr>\n",
       "      <th>count</th>\n",
       "      <td>7043</td>\n",
       "      <td>7043.000000</td>\n",
       "      <td>7043</td>\n",
       "      <td>7043</td>\n",
       "      <td>7043.000000</td>\n",
       "      <td>7043</td>\n",
       "      <td>7043</td>\n",
       "      <td>7043</td>\n",
       "      <td>7043</td>\n",
       "      <td>7043</td>\n",
       "      <td>7043</td>\n",
       "      <td>7043</td>\n",
       "      <td>7043</td>\n",
       "      <td>7043</td>\n",
       "      <td>7043</td>\n",
       "      <td>7043</td>\n",
       "      <td>7043</td>\n",
       "      <td>7043.000000</td>\n",
       "      <td>7043</td>\n",
       "      <td>7043.000000</td>\n",
       "    </tr>\n",
       "    <tr>\n",
       "      <th>unique</th>\n",
       "      <td>2</td>\n",
       "      <td>NaN</td>\n",
       "      <td>2</td>\n",
       "      <td>2</td>\n",
       "      <td>NaN</td>\n",
       "      <td>2</td>\n",
       "      <td>3</td>\n",
       "      <td>3</td>\n",
       "      <td>3</td>\n",
       "      <td>3</td>\n",
       "      <td>3</td>\n",
       "      <td>3</td>\n",
       "      <td>3</td>\n",
       "      <td>3</td>\n",
       "      <td>3</td>\n",
       "      <td>2</td>\n",
       "      <td>4</td>\n",
       "      <td>NaN</td>\n",
       "      <td>6531</td>\n",
       "      <td>NaN</td>\n",
       "    </tr>\n",
       "    <tr>\n",
       "      <th>top</th>\n",
       "      <td>Male</td>\n",
       "      <td>NaN</td>\n",
       "      <td>No</td>\n",
       "      <td>No</td>\n",
       "      <td>NaN</td>\n",
       "      <td>Yes</td>\n",
       "      <td>No</td>\n",
       "      <td>Fiber optic</td>\n",
       "      <td>No</td>\n",
       "      <td>No</td>\n",
       "      <td>No</td>\n",
       "      <td>No</td>\n",
       "      <td>No</td>\n",
       "      <td>No</td>\n",
       "      <td>Month-to-month</td>\n",
       "      <td>Yes</td>\n",
       "      <td>Electronic check</td>\n",
       "      <td>NaN</td>\n",
       "      <td></td>\n",
       "      <td>NaN</td>\n",
       "    </tr>\n",
       "    <tr>\n",
       "      <th>freq</th>\n",
       "      <td>3555</td>\n",
       "      <td>NaN</td>\n",
       "      <td>3641</td>\n",
       "      <td>4933</td>\n",
       "      <td>NaN</td>\n",
       "      <td>6361</td>\n",
       "      <td>3390</td>\n",
       "      <td>3096</td>\n",
       "      <td>3498</td>\n",
       "      <td>3088</td>\n",
       "      <td>3095</td>\n",
       "      <td>3473</td>\n",
       "      <td>2810</td>\n",
       "      <td>2785</td>\n",
       "      <td>3875</td>\n",
       "      <td>4171</td>\n",
       "      <td>2365</td>\n",
       "      <td>NaN</td>\n",
       "      <td>11</td>\n",
       "      <td>NaN</td>\n",
       "    </tr>\n",
       "    <tr>\n",
       "      <th>mean</th>\n",
       "      <td>NaN</td>\n",
       "      <td>0.162147</td>\n",
       "      <td>NaN</td>\n",
       "      <td>NaN</td>\n",
       "      <td>32.371149</td>\n",
       "      <td>NaN</td>\n",
       "      <td>NaN</td>\n",
       "      <td>NaN</td>\n",
       "      <td>NaN</td>\n",
       "      <td>NaN</td>\n",
       "      <td>NaN</td>\n",
       "      <td>NaN</td>\n",
       "      <td>NaN</td>\n",
       "      <td>NaN</td>\n",
       "      <td>NaN</td>\n",
       "      <td>NaN</td>\n",
       "      <td>NaN</td>\n",
       "      <td>64.761692</td>\n",
       "      <td>NaN</td>\n",
       "      <td>0.265370</td>\n",
       "    </tr>\n",
       "    <tr>\n",
       "      <th>std</th>\n",
       "      <td>NaN</td>\n",
       "      <td>0.368612</td>\n",
       "      <td>NaN</td>\n",
       "      <td>NaN</td>\n",
       "      <td>24.559481</td>\n",
       "      <td>NaN</td>\n",
       "      <td>NaN</td>\n",
       "      <td>NaN</td>\n",
       "      <td>NaN</td>\n",
       "      <td>NaN</td>\n",
       "      <td>NaN</td>\n",
       "      <td>NaN</td>\n",
       "      <td>NaN</td>\n",
       "      <td>NaN</td>\n",
       "      <td>NaN</td>\n",
       "      <td>NaN</td>\n",
       "      <td>NaN</td>\n",
       "      <td>30.090047</td>\n",
       "      <td>NaN</td>\n",
       "      <td>0.441561</td>\n",
       "    </tr>\n",
       "    <tr>\n",
       "      <th>min</th>\n",
       "      <td>NaN</td>\n",
       "      <td>0.000000</td>\n",
       "      <td>NaN</td>\n",
       "      <td>NaN</td>\n",
       "      <td>0.000000</td>\n",
       "      <td>NaN</td>\n",
       "      <td>NaN</td>\n",
       "      <td>NaN</td>\n",
       "      <td>NaN</td>\n",
       "      <td>NaN</td>\n",
       "      <td>NaN</td>\n",
       "      <td>NaN</td>\n",
       "      <td>NaN</td>\n",
       "      <td>NaN</td>\n",
       "      <td>NaN</td>\n",
       "      <td>NaN</td>\n",
       "      <td>NaN</td>\n",
       "      <td>18.250000</td>\n",
       "      <td>NaN</td>\n",
       "      <td>0.000000</td>\n",
       "    </tr>\n",
       "    <tr>\n",
       "      <th>25%</th>\n",
       "      <td>NaN</td>\n",
       "      <td>0.000000</td>\n",
       "      <td>NaN</td>\n",
       "      <td>NaN</td>\n",
       "      <td>9.000000</td>\n",
       "      <td>NaN</td>\n",
       "      <td>NaN</td>\n",
       "      <td>NaN</td>\n",
       "      <td>NaN</td>\n",
       "      <td>NaN</td>\n",
       "      <td>NaN</td>\n",
       "      <td>NaN</td>\n",
       "      <td>NaN</td>\n",
       "      <td>NaN</td>\n",
       "      <td>NaN</td>\n",
       "      <td>NaN</td>\n",
       "      <td>NaN</td>\n",
       "      <td>35.500000</td>\n",
       "      <td>NaN</td>\n",
       "      <td>0.000000</td>\n",
       "    </tr>\n",
       "    <tr>\n",
       "      <th>50%</th>\n",
       "      <td>NaN</td>\n",
       "      <td>0.000000</td>\n",
       "      <td>NaN</td>\n",
       "      <td>NaN</td>\n",
       "      <td>29.000000</td>\n",
       "      <td>NaN</td>\n",
       "      <td>NaN</td>\n",
       "      <td>NaN</td>\n",
       "      <td>NaN</td>\n",
       "      <td>NaN</td>\n",
       "      <td>NaN</td>\n",
       "      <td>NaN</td>\n",
       "      <td>NaN</td>\n",
       "      <td>NaN</td>\n",
       "      <td>NaN</td>\n",
       "      <td>NaN</td>\n",
       "      <td>NaN</td>\n",
       "      <td>70.350000</td>\n",
       "      <td>NaN</td>\n",
       "      <td>0.000000</td>\n",
       "    </tr>\n",
       "    <tr>\n",
       "      <th>75%</th>\n",
       "      <td>NaN</td>\n",
       "      <td>0.000000</td>\n",
       "      <td>NaN</td>\n",
       "      <td>NaN</td>\n",
       "      <td>55.000000</td>\n",
       "      <td>NaN</td>\n",
       "      <td>NaN</td>\n",
       "      <td>NaN</td>\n",
       "      <td>NaN</td>\n",
       "      <td>NaN</td>\n",
       "      <td>NaN</td>\n",
       "      <td>NaN</td>\n",
       "      <td>NaN</td>\n",
       "      <td>NaN</td>\n",
       "      <td>NaN</td>\n",
       "      <td>NaN</td>\n",
       "      <td>NaN</td>\n",
       "      <td>89.850000</td>\n",
       "      <td>NaN</td>\n",
       "      <td>1.000000</td>\n",
       "    </tr>\n",
       "    <tr>\n",
       "      <th>max</th>\n",
       "      <td>NaN</td>\n",
       "      <td>1.000000</td>\n",
       "      <td>NaN</td>\n",
       "      <td>NaN</td>\n",
       "      <td>72.000000</td>\n",
       "      <td>NaN</td>\n",
       "      <td>NaN</td>\n",
       "      <td>NaN</td>\n",
       "      <td>NaN</td>\n",
       "      <td>NaN</td>\n",
       "      <td>NaN</td>\n",
       "      <td>NaN</td>\n",
       "      <td>NaN</td>\n",
       "      <td>NaN</td>\n",
       "      <td>NaN</td>\n",
       "      <td>NaN</td>\n",
       "      <td>NaN</td>\n",
       "      <td>118.750000</td>\n",
       "      <td>NaN</td>\n",
       "      <td>1.000000</td>\n",
       "    </tr>\n",
       "  </tbody>\n",
       "</table>\n",
       "</div>"
      ],
      "text/plain": [
       "       gender  SeniorCitizen Partner Dependents       tenure PhoneService  \\\n",
       "count    7043    7043.000000    7043       7043  7043.000000         7043   \n",
       "unique      2            NaN       2          2          NaN            2   \n",
       "top      Male            NaN      No         No          NaN          Yes   \n",
       "freq     3555            NaN    3641       4933          NaN         6361   \n",
       "mean      NaN       0.162147     NaN        NaN    32.371149          NaN   \n",
       "std       NaN       0.368612     NaN        NaN    24.559481          NaN   \n",
       "min       NaN       0.000000     NaN        NaN     0.000000          NaN   \n",
       "25%       NaN       0.000000     NaN        NaN     9.000000          NaN   \n",
       "50%       NaN       0.000000     NaN        NaN    29.000000          NaN   \n",
       "75%       NaN       0.000000     NaN        NaN    55.000000          NaN   \n",
       "max       NaN       1.000000     NaN        NaN    72.000000          NaN   \n",
       "\n",
       "       MultipleLines InternetService OnlineSecurity OnlineBackup  \\\n",
       "count           7043            7043           7043         7043   \n",
       "unique             3               3              3            3   \n",
       "top               No     Fiber optic             No           No   \n",
       "freq            3390            3096           3498         3088   \n",
       "mean             NaN             NaN            NaN          NaN   \n",
       "std              NaN             NaN            NaN          NaN   \n",
       "min              NaN             NaN            NaN          NaN   \n",
       "25%              NaN             NaN            NaN          NaN   \n",
       "50%              NaN             NaN            NaN          NaN   \n",
       "75%              NaN             NaN            NaN          NaN   \n",
       "max              NaN             NaN            NaN          NaN   \n",
       "\n",
       "       DeviceProtection TechSupport StreamingTV StreamingMovies  \\\n",
       "count              7043        7043        7043            7043   \n",
       "unique                3           3           3               3   \n",
       "top                  No          No          No              No   \n",
       "freq               3095        3473        2810            2785   \n",
       "mean                NaN         NaN         NaN             NaN   \n",
       "std                 NaN         NaN         NaN             NaN   \n",
       "min                 NaN         NaN         NaN             NaN   \n",
       "25%                 NaN         NaN         NaN             NaN   \n",
       "50%                 NaN         NaN         NaN             NaN   \n",
       "75%                 NaN         NaN         NaN             NaN   \n",
       "max                 NaN         NaN         NaN             NaN   \n",
       "\n",
       "              Contract PaperlessBilling     PaymentMethod  MonthlyCharges  \\\n",
       "count             7043             7043              7043     7043.000000   \n",
       "unique               3                2                 4             NaN   \n",
       "top     Month-to-month              Yes  Electronic check             NaN   \n",
       "freq              3875             4171              2365             NaN   \n",
       "mean               NaN              NaN               NaN       64.761692   \n",
       "std                NaN              NaN               NaN       30.090047   \n",
       "min                NaN              NaN               NaN       18.250000   \n",
       "25%                NaN              NaN               NaN       35.500000   \n",
       "50%                NaN              NaN               NaN       70.350000   \n",
       "75%                NaN              NaN               NaN       89.850000   \n",
       "max                NaN              NaN               NaN      118.750000   \n",
       "\n",
       "       TotalCharges     response  \n",
       "count          7043  7043.000000  \n",
       "unique         6531          NaN  \n",
       "top                          NaN  \n",
       "freq             11          NaN  \n",
       "mean            NaN     0.265370  \n",
       "std             NaN     0.441561  \n",
       "min             NaN     0.000000  \n",
       "25%             NaN     0.000000  \n",
       "50%             NaN     0.000000  \n",
       "75%             NaN     1.000000  \n",
       "max             NaN     1.000000  "
      ]
     },
     "execution_count": 8,
     "metadata": {},
     "output_type": "execute_result"
    }
   ],
   "source": [
    "churndata.drop(['customerID'],axis=1).describe(include=\"all\")"
   ]
  },
  {
   "cell_type": "code",
   "execution_count": 19,
   "metadata": {
    "ExecuteTime": {
     "end_time": "2020-03-02T18:39:05.390182Z",
     "start_time": "2020-03-02T18:39:05.064369Z"
    },
    "scrolled": true
   },
   "outputs": [
    {
     "name": "stdout",
     "output_type": "stream",
     "text": [
      "gender \n",
      "\n",
      "        gender\n",
      "Male      3555\n",
      "Female    3488 \n",
      "\n",
      "SeniorCitizen \n",
      "\n",
      "   SeniorCitizen\n",
      "0           5901\n",
      "1           1142 \n",
      "\n",
      "Partner \n",
      "\n",
      "     Partner\n",
      "No      3641\n",
      "Yes     3402 \n",
      "\n",
      "Dependents \n",
      "\n",
      "     Dependents\n",
      "No         4933\n",
      "Yes        2110 \n",
      "\n",
      "PhoneService \n",
      "\n",
      "     PhoneService\n",
      "Yes          6361\n",
      "No            682 \n",
      "\n",
      "MultipleLines \n",
      "\n",
      "                  MultipleLines\n",
      "No                         3390\n",
      "Yes                        2971\n",
      "No phone service            682 \n",
      "\n",
      "InternetService \n",
      "\n",
      "             InternetService\n",
      "Fiber optic             3096\n",
      "DSL                     2421\n",
      "No                      1526 \n",
      "\n",
      "OnlineSecurity \n",
      "\n",
      "                     OnlineSecurity\n",
      "No                             3498\n",
      "Yes                            2019\n",
      "No internet service            1526 \n",
      "\n",
      "OnlineBackup \n",
      "\n",
      "                     OnlineBackup\n",
      "No                           3088\n",
      "Yes                          2429\n",
      "No internet service          1526 \n",
      "\n",
      "DeviceProtection \n",
      "\n",
      "                     DeviceProtection\n",
      "No                               3095\n",
      "Yes                              2422\n",
      "No internet service              1526 \n",
      "\n",
      "TechSupport \n",
      "\n",
      "                     TechSupport\n",
      "No                          3473\n",
      "Yes                         2044\n",
      "No internet service         1526 \n",
      "\n",
      "StreamingTV \n",
      "\n",
      "                     StreamingTV\n",
      "No                          2810\n",
      "Yes                         2707\n",
      "No internet service         1526 \n",
      "\n",
      "StreamingMovies \n",
      "\n",
      "                     StreamingMovies\n",
      "No                              2785\n",
      "Yes                             2732\n",
      "No internet service             1526 \n",
      "\n",
      "Contract \n",
      "\n",
      "                Contract\n",
      "Month-to-month      3875\n",
      "Two year            1695\n",
      "One year            1473 \n",
      "\n",
      "PaperlessBilling \n",
      "\n",
      "     PaperlessBilling\n",
      "Yes              4171\n",
      "No               2872 \n",
      "\n",
      "PaymentMethod \n",
      "\n",
      "                           PaymentMethod\n",
      "Electronic check                    2365\n",
      "Mailed check                        1612\n",
      "Bank transfer (automatic)           1544\n",
      "Credit card (automatic)             1522 \n",
      "\n"
     ]
    }
   ],
   "source": [
    "categorical_var_freq(churndata.drop(['customerID'],axis=1))"
   ]
  },
  {
   "cell_type": "markdown",
   "metadata": {},
   "source": [
    "*SeniorCitizen* flag should be an \"object\" type field, whereas *TotalCharges* should be float type. Make the necessary conversions"
   ]
  },
  {
   "cell_type": "code",
   "execution_count": 10,
   "metadata": {
    "ExecuteTime": {
     "end_time": "2020-05-10T16:44:08.608667Z",
     "start_time": "2020-05-10T16:44:08.602669Z"
    }
   },
   "outputs": [],
   "source": [
    "churndata['SeniorCitizen'] = churndata['SeniorCitizen'].astype('object')"
   ]
  },
  {
   "cell_type": "markdown",
   "metadata": {},
   "source": [
    "## Categorical correlation between variables - Cramer's V"
   ]
  },
  {
   "cell_type": "markdown",
   "metadata": {},
   "source": [
    "As our feature space is predominantly categorical in nature, let us run a cramer's V  test to study association between variables"
   ]
  },
  {
   "cell_type": "code",
   "execution_count": 14,
   "metadata": {
    "ExecuteTime": {
     "end_time": "2020-05-10T16:55:08.869516Z",
     "start_time": "2020-05-10T16:55:03.785823Z"
    }
   },
   "outputs": [
    {
     "data": {
      "image/png": "[encoded data removed]",
      "text/plain": [
       "<Figure size 432x288 with 2 Axes>"
      ]
     },
     "metadata": {
      "needs_background": "light"
     },
     "output_type": "display_data"
    }
   ],
   "source": [
    "df = churndata.drop(['customerID'],axis=1)\n",
    "df['response'] = df['response'].astype('object') \n",
    "categcols = list(df.select_dtypes(include = \"object\").columns)\n",
    "assoc_table = np.empty((len(categcols),len(categcols)))\n",
    "i=0\n",
    "j=0\n",
    "\n",
    "while i<len(categcols):\n",
    "    while j<len(categcols):\n",
    "        v1=df[categcols[i]]\n",
    "        v2=df[categcols[j]]\n",
    "        assoc_table[i,j] = cramers_v(v1,v2)\n",
    "        j=j+1\n",
    "    i=i+1\n",
    "    j=0\n",
    "\n",
    "assoc_data = pd.DataFrame(assoc_table,index=categcols,columns=categcols)\n",
    "# display(assoc_data)\n",
    "\n",
    "sb.heatmap(assoc_data, cmap='PuOr');"
   ]
  },
  {
   "cell_type": "markdown",
   "metadata": {},
   "source": [
    "# Data Preprocessing"
   ]
  },
  {
   "cell_type": "markdown",
   "metadata": {},
   "source": [
    "## Binary encoding of categorical variables"
   ]
  },
  {
   "cell_type": "code",
   "execution_count": 15,
   "metadata": {
    "ExecuteTime": {
     "end_time": "2020-05-10T16:56:47.633412Z",
     "start_time": "2020-05-10T16:56:47.468497Z"
    }
   },
   "outputs": [],
   "source": [
    "categ_cols = list(churndata.select_dtypes(include=\"object\").columns)\n",
    "categ_cols.remove('customerID')\n",
    "\n",
    "churndata_v2 = churndata.copy()\n",
    "for col in categ_cols:\n",
    "    churndata_v2 = pd.concat([churndata_v2,pd.get_dummies(churndata[col]).add_prefix(col+'_').iloc[:,:-1]],axis=1).drop([col],axis=1)"
   ]
  },
  {
   "cell_type": "code",
   "execution_count": 16,
   "metadata": {
    "ExecuteTime": {
     "end_time": "2020-05-10T16:57:03.428508Z",
     "start_time": "2020-05-10T16:57:03.410518Z"
    }
   },
   "outputs": [
    {
     "data": {
      "text/plain": [
       "(7032, 32)"
      ]
     },
     "execution_count": 16,
     "metadata": {},
     "output_type": "execute_result"
    }
   ],
   "source": [
    "# drop rows containing NA values for now\n",
    "churndata_v2.dropna(axis=0,inplace=True)\n",
    "churndata_v2.shape"
   ]
  },
  {
   "cell_type": "markdown",
   "metadata": {},
   "source": [
    "## Split Training and Test samples"
   ]
  },
  {
   "cell_type": "code",
   "execution_count": 18,
   "metadata": {
    "ExecuteTime": {
     "end_time": "2020-05-10T18:04:19.048314Z",
     "start_time": "2020-05-10T18:04:18.160662Z"
    }
   },
   "outputs": [],
   "source": [
    "from sklearn.model_selection import train_test_split\n",
    "X = np.array(churndata_v2.drop(['response','customerID'],axis=1))\n",
    "Y = np.array(churndata_v2[['response']])"
   ]
  },
  {
   "cell_type": "markdown",
   "metadata": {},
   "source": [
    "Split the entire data into an 80% Train and a 20% Test sample. Map the column names back to the training dataframe consisting of the predictor variables"
   ]
  },
  {
   "cell_type": "code",
   "execution_count": 19,
   "metadata": {
    "ExecuteTime": {
     "end_time": "2020-05-10T18:04:20.498901Z",
     "start_time": "2020-05-10T18:04:20.472901Z"
    }
   },
   "outputs": [],
   "source": [
    "x_train, x_test, y_train, y_test = train_test_split(X,Y,test_size=0.2,random_state = 710)\n",
    "x_train_df = pd.DataFrame(x_train, columns = churndata_v2.drop(['response','customerID'],axis=1).columns)"
   ]
  },
  {
   "cell_type": "code",
   "execution_count": 32,
   "metadata": {
    "ExecuteTime": {
     "end_time": "2020-03-31T05:00:26.452368Z",
     "start_time": "2020-03-31T05:00:26.445352Z"
    }
   },
   "outputs": [
    {
     "data": {
      "text/plain": [
       "Index(['SeniorCitizen', 'tenure', 'MonthlyCharges', 'TotalCharges',\n",
       "       'gender_Female', 'Partner_No', 'Dependents_No', 'PhoneService_No',\n",
       "       'MultipleLines_No', 'MultipleLines_No phone service',\n",
       "       'InternetService_DSL', 'InternetService_Fiber optic',\n",
       "       'OnlineSecurity_No', 'OnlineSecurity_No internet service',\n",
       "       'OnlineBackup_No', 'OnlineBackup_No internet service',\n",
       "       'DeviceProtection_No', 'DeviceProtection_No internet service',\n",
       "       'TechSupport_No', 'TechSupport_No internet service', 'StreamingTV_No',\n",
       "       'StreamingTV_No internet service', 'StreamingMovies_No',\n",
       "       'StreamingMovies_No internet service', 'Contract_Month-to-month',\n",
       "       'Contract_One year', 'PaperlessBilling_No',\n",
       "       'PaymentMethod_Bank transfer (automatic)',\n",
       "       'PaymentMethod_Credit card (automatic)',\n",
       "       'PaymentMethod_Electronic check'],\n",
       "      dtype='object')"
      ]
     },
     "execution_count": 32,
     "metadata": {},
     "output_type": "execute_result"
    }
   ],
   "source": [
    "x_train_df.shape\n",
    "x_train_df.columns"
   ]
  },
  {
   "cell_type": "markdown",
   "metadata": {},
   "source": [
    "# Statistical inference"
   ]
  },
  {
   "cell_type": "code",
   "execution_count": 22,
   "metadata": {
    "ExecuteTime": {
     "end_time": "2020-05-10T18:46:33.962307Z",
     "start_time": "2020-05-10T18:46:28.909644Z"
    }
   },
   "outputs": [],
   "source": [
    "import statsmodels.api as sm"
   ]
  },
  {
   "cell_type": "markdown",
   "metadata": {},
   "source": [
    "## Fit logit model"
   ]
  },
  {
   "cell_type": "code",
   "execution_count": 25,
   "metadata": {
    "ExecuteTime": {
     "end_time": "2020-05-10T18:51:57.696026Z",
     "start_time": "2020-05-10T18:51:56.984040Z"
    }
   },
   "outputs": [],
   "source": [
    "X = x_train\n",
    "y = y_train\n",
    "\n",
    "logisticmod = sm.Logit(y,X)"
   ]
  },
  {
   "cell_type": "code",
   "execution_count": 37,
   "metadata": {
    "ExecuteTime": {
     "end_time": "2020-05-10T19:15:20.013134Z",
     "start_time": "2020-05-10T19:15:19.976155Z"
    },
    "collapsed": true
   },
   "outputs": [
    {
     "name": "stdout",
     "output_type": "stream",
     "text": [
      "Optimization terminated successfully.\n",
      "         Current function value: 0.410565\n",
      "         Iterations 8\n"
     ]
    }
   ],
   "source": [
    "#Fit the model on training data\n",
    "result = logisticmod.fit()"
   ]
  },
  {
   "cell_type": "markdown",
   "metadata": {},
   "source": [
    "## Parameter Estimation Table"
   ]
  },
  {
   "cell_type": "code",
   "execution_count": 117,
   "metadata": {
    "ExecuteTime": {
     "end_time": "2020-05-10T21:40:33.785005Z",
     "start_time": "2020-05-10T21:40:33.746024Z"
    },
    "scrolled": true
   },
   "outputs": [
    {
     "data": {
      "text/html": [
       "<div>\n",
       "<style scoped>\n",
       "    .dataframe tbody tr th:only-of-type {\n",
       "        vertical-align: middle;\n",
       "    }\n",
       "\n",
       "    .dataframe tbody tr th {\n",
       "        vertical-align: top;\n",
       "    }\n",
       "\n",
       "    .dataframe thead th {\n",
       "        text-align: right;\n",
       "    }\n",
       "</style>\n",
       "<table border=\"1\" class=\"dataframe\">\n",
       "  <thead>\n",
       "    <tr style=\"text-align: right;\">\n",
       "      <th></th>\n",
       "      <th>Variable</th>\n",
       "      <th>Coefficient</th>\n",
       "      <th>stderror</th>\n",
       "      <th>pvalue</th>\n",
       "      <th>CI_lower</th>\n",
       "      <th>CI_upper</th>\n",
       "    </tr>\n",
       "  </thead>\n",
       "  <tbody>\n",
       "    <tr>\n",
       "      <th>0</th>\n",
       "      <td>tenure</td>\n",
       "      <td>-0.061698</td>\n",
       "      <td>7.019159e-03</td>\n",
       "      <td>1.497002e-18</td>\n",
       "      <td>-7.545496e-02</td>\n",
       "      <td>-4.794037e-02</td>\n",
       "    </tr>\n",
       "    <tr>\n",
       "      <th>1</th>\n",
       "      <td>Contract_One year</td>\n",
       "      <td>0.773740</td>\n",
       "      <td>1.171892e-01</td>\n",
       "      <td>4.043307e-11</td>\n",
       "      <td>5.440529e-01</td>\n",
       "      <td>1.003426e+00</td>\n",
       "    </tr>\n",
       "    <tr>\n",
       "      <th>2</th>\n",
       "      <td>TotalCharges</td>\n",
       "      <td>0.000336</td>\n",
       "      <td>7.970847e-05</td>\n",
       "      <td>2.464598e-05</td>\n",
       "      <td>1.799860e-04</td>\n",
       "      <td>4.924375e-04</td>\n",
       "    </tr>\n",
       "    <tr>\n",
       "      <th>3</th>\n",
       "      <td>PaperlessBilling_No</td>\n",
       "      <td>-0.326100</td>\n",
       "      <td>8.440677e-02</td>\n",
       "      <td>1.118061e-04</td>\n",
       "      <td>-4.915338e-01</td>\n",
       "      <td>-1.606654e-01</td>\n",
       "    </tr>\n",
       "    <tr>\n",
       "      <th>4</th>\n",
       "      <td>PaymentMethod_Electronic check</td>\n",
       "      <td>0.374857</td>\n",
       "      <td>1.084894e-01</td>\n",
       "      <td>5.498046e-04</td>\n",
       "      <td>1.622215e-01</td>\n",
       "      <td>5.874922e-01</td>\n",
       "    </tr>\n",
       "    <tr>\n",
       "      <th>5</th>\n",
       "      <td>SeniorCitizen_0</td>\n",
       "      <td>-0.302645</td>\n",
       "      <td>9.374260e-02</td>\n",
       "      <td>1.244549e-03</td>\n",
       "      <td>-4.863772e-01</td>\n",
       "      <td>-1.189129e-01</td>\n",
       "    </tr>\n",
       "    <tr>\n",
       "      <th>6</th>\n",
       "      <td>MultipleLines_No</td>\n",
       "      <td>-0.375647</td>\n",
       "      <td>2.009277e-01</td>\n",
       "      <td>6.154419e-02</td>\n",
       "      <td>-7.694585e-01</td>\n",
       "      <td>1.816357e-02</td>\n",
       "    </tr>\n",
       "    <tr>\n",
       "      <th>7</th>\n",
       "      <td>StreamingMovies_No</td>\n",
       "      <td>-0.601554</td>\n",
       "      <td>3.637142e-01</td>\n",
       "      <td>9.814402e-02</td>\n",
       "      <td>-1.314421e+00</td>\n",
       "      <td>1.113130e-01</td>\n",
       "    </tr>\n",
       "    <tr>\n",
       "      <th>8</th>\n",
       "      <td>StreamingTV_No</td>\n",
       "      <td>-0.501422</td>\n",
       "      <td>3.640224e-01</td>\n",
       "      <td>1.683736e-01</td>\n",
       "      <td>-1.214893e+00</td>\n",
       "      <td>2.120487e-01</td>\n",
       "    </tr>\n",
       "    <tr>\n",
       "      <th>9</th>\n",
       "      <td>TechSupport_No</td>\n",
       "      <td>0.240400</td>\n",
       "      <td>1.933372e-01</td>\n",
       "      <td>2.137118e-01</td>\n",
       "      <td>-1.385339e-01</td>\n",
       "      <td>6.193338e-01</td>\n",
       "    </tr>\n",
       "    <tr>\n",
       "      <th>10</th>\n",
       "      <td>Dependents_No</td>\n",
       "      <td>0.115092</td>\n",
       "      <td>1.011059e-01</td>\n",
       "      <td>2.549823e-01</td>\n",
       "      <td>-8.307191e-02</td>\n",
       "      <td>3.132558e-01</td>\n",
       "    </tr>\n",
       "    <tr>\n",
       "      <th>11</th>\n",
       "      <td>OnlineSecurity_No</td>\n",
       "      <td>0.199116</td>\n",
       "      <td>1.939023e-01</td>\n",
       "      <td>3.044736e-01</td>\n",
       "      <td>-1.809258e-01</td>\n",
       "      <td>5.791574e-01</td>\n",
       "    </tr>\n",
       "    <tr>\n",
       "      <th>12</th>\n",
       "      <td>MonthlyCharges</td>\n",
       "      <td>-0.034085</td>\n",
       "      <td>3.544525e-02</td>\n",
       "      <td>3.362453e-01</td>\n",
       "      <td>-1.035559e-01</td>\n",
       "      <td>3.538689e-02</td>\n",
       "    </tr>\n",
       "    <tr>\n",
       "      <th>13</th>\n",
       "      <td>InternetService_Fiber optic</td>\n",
       "      <td>2.810121</td>\n",
       "      <td>4.207575e+00</td>\n",
       "      <td>5.042155e-01</td>\n",
       "      <td>-5.436576e+00</td>\n",
       "      <td>1.105682e+01</td>\n",
       "    </tr>\n",
       "    <tr>\n",
       "      <th>14</th>\n",
       "      <td>DeviceProtection_No</td>\n",
       "      <td>-0.121595</td>\n",
       "      <td>1.927088e-01</td>\n",
       "      <td>5.280534e-01</td>\n",
       "      <td>-4.992978e-01</td>\n",
       "      <td>2.561069e-01</td>\n",
       "    </tr>\n",
       "    <tr>\n",
       "      <th>15</th>\n",
       "      <td>PaymentMethod_Bank transfer (automatic)</td>\n",
       "      <td>0.080120</td>\n",
       "      <td>1.282581e-01</td>\n",
       "      <td>5.321843e-01</td>\n",
       "      <td>-1.712617e-01</td>\n",
       "      <td>3.315010e-01</td>\n",
       "    </tr>\n",
       "    <tr>\n",
       "      <th>16</th>\n",
       "      <td>Partner_No</td>\n",
       "      <td>0.039127</td>\n",
       "      <td>8.741503e-02</td>\n",
       "      <td>6.544387e-01</td>\n",
       "      <td>-1.322030e-01</td>\n",
       "      <td>2.104577e-01</td>\n",
       "    </tr>\n",
       "    <tr>\n",
       "      <th>17</th>\n",
       "      <td>InternetService_DSL</td>\n",
       "      <td>1.196080</td>\n",
       "      <td>3.315319e+00</td>\n",
       "      <td>7.182686e-01</td>\n",
       "      <td>-5.301826e+00</td>\n",
       "      <td>7.693987e+00</td>\n",
       "    </tr>\n",
       "    <tr>\n",
       "      <th>18</th>\n",
       "      <td>OnlineBackup_No</td>\n",
       "      <td>0.035545</td>\n",
       "      <td>1.968672e-01</td>\n",
       "      <td>8.567171e-01</td>\n",
       "      <td>-3.503073e-01</td>\n",
       "      <td>4.213980e-01</td>\n",
       "    </tr>\n",
       "    <tr>\n",
       "      <th>19</th>\n",
       "      <td>PaymentMethod_Credit card (automatic)</td>\n",
       "      <td>-0.011688</td>\n",
       "      <td>1.315290e-01</td>\n",
       "      <td>9.291902e-01</td>\n",
       "      <td>-2.694803e-01</td>\n",
       "      <td>2.461039e-01</td>\n",
       "    </tr>\n",
       "    <tr>\n",
       "      <th>20</th>\n",
       "      <td>gender_Female</td>\n",
       "      <td>-0.006106</td>\n",
       "      <td>7.284468e-02</td>\n",
       "      <td>9.331972e-01</td>\n",
       "      <td>-1.488790e-01</td>\n",
       "      <td>1.366669e-01</td>\n",
       "    </tr>\n",
       "    <tr>\n",
       "      <th>21</th>\n",
       "      <td>PhoneService_No</td>\n",
       "      <td>-0.214920</td>\n",
       "      <td>7.928001e+06</td>\n",
       "      <td>1.000000e+00</td>\n",
       "      <td>-1.553860e+07</td>\n",
       "      <td>1.553860e+07</td>\n",
       "    </tr>\n",
       "    <tr>\n",
       "      <th>22</th>\n",
       "      <td>MultipleLines_No phone service</td>\n",
       "      <td>-0.214920</td>\n",
       "      <td>7.928001e+06</td>\n",
       "      <td>1.000000e+00</td>\n",
       "      <td>-1.553860e+07</td>\n",
       "      <td>1.553860e+07</td>\n",
       "    </tr>\n",
       "    <tr>\n",
       "      <th>23</th>\n",
       "      <td>TechSupport_No internet service</td>\n",
       "      <td>-0.205195</td>\n",
       "      <td>4.926142e+14</td>\n",
       "      <td>1.000000e+00</td>\n",
       "      <td>-9.655060e+14</td>\n",
       "      <td>9.655060e+14</td>\n",
       "    </tr>\n",
       "    <tr>\n",
       "      <th>24</th>\n",
       "      <td>StreamingTV_No internet service</td>\n",
       "      <td>-0.205195</td>\n",
       "      <td>NaN</td>\n",
       "      <td>NaN</td>\n",
       "      <td>NaN</td>\n",
       "      <td>NaN</td>\n",
       "    </tr>\n",
       "    <tr>\n",
       "      <th>25</th>\n",
       "      <td>OnlineSecurity_No internet service</td>\n",
       "      <td>-0.205195</td>\n",
       "      <td>NaN</td>\n",
       "      <td>NaN</td>\n",
       "      <td>NaN</td>\n",
       "      <td>NaN</td>\n",
       "    </tr>\n",
       "    <tr>\n",
       "      <th>26</th>\n",
       "      <td>StreamingMovies_No internet service</td>\n",
       "      <td>-0.205195</td>\n",
       "      <td>NaN</td>\n",
       "      <td>NaN</td>\n",
       "      <td>NaN</td>\n",
       "      <td>NaN</td>\n",
       "    </tr>\n",
       "    <tr>\n",
       "      <th>27</th>\n",
       "      <td>Contract_Month-to-month</td>\n",
       "      <td>1.372388</td>\n",
       "      <td>NaN</td>\n",
       "      <td>NaN</td>\n",
       "      <td>NaN</td>\n",
       "      <td>NaN</td>\n",
       "    </tr>\n",
       "    <tr>\n",
       "      <th>28</th>\n",
       "      <td>OnlineBackup_No internet service</td>\n",
       "      <td>-0.205195</td>\n",
       "      <td>NaN</td>\n",
       "      <td>NaN</td>\n",
       "      <td>NaN</td>\n",
       "      <td>NaN</td>\n",
       "    </tr>\n",
       "    <tr>\n",
       "      <th>29</th>\n",
       "      <td>DeviceProtection_No internet service</td>\n",
       "      <td>-0.205195</td>\n",
       "      <td>NaN</td>\n",
       "      <td>NaN</td>\n",
       "      <td>NaN</td>\n",
       "      <td>NaN</td>\n",
       "    </tr>\n",
       "  </tbody>\n",
       "</table>\n",
       "</div>"
      ],
      "text/plain": [
       "                                   Variable  Coefficient      stderror  \\\n",
       "0                                    tenure    -0.061698  7.019159e-03   \n",
       "1                         Contract_One year     0.773740  1.171892e-01   \n",
       "2                              TotalCharges     0.000336  7.970847e-05   \n",
       "3                       PaperlessBilling_No    -0.326100  8.440677e-02   \n",
       "4            PaymentMethod_Electronic check     0.374857  1.084894e-01   \n",
       "5                           SeniorCitizen_0    -0.302645  9.374260e-02   \n",
       "6                          MultipleLines_No    -0.375647  2.009277e-01   \n",
       "7                        StreamingMovies_No    -0.601554  3.637142e-01   \n",
       "8                            StreamingTV_No    -0.501422  3.640224e-01   \n",
       "9                            TechSupport_No     0.240400  1.933372e-01   \n",
       "10                            Dependents_No     0.115092  1.011059e-01   \n",
       "11                        OnlineSecurity_No     0.199116  1.939023e-01   \n",
       "12                           MonthlyCharges    -0.034085  3.544525e-02   \n",
       "13              InternetService_Fiber optic     2.810121  4.207575e+00   \n",
       "14                      DeviceProtection_No    -0.121595  1.927088e-01   \n",
       "15  PaymentMethod_Bank transfer (automatic)     0.080120  1.282581e-01   \n",
       "16                               Partner_No     0.039127  8.741503e-02   \n",
       "17                      InternetService_DSL     1.196080  3.315319e+00   \n",
       "18                          OnlineBackup_No     0.035545  1.968672e-01   \n",
       "19    PaymentMethod_Credit card (automatic)    -0.011688  1.315290e-01   \n",
       "20                            gender_Female    -0.006106  7.284468e-02   \n",
       "21                          PhoneService_No    -0.214920  7.928001e+06   \n",
       "22           MultipleLines_No phone service    -0.214920  7.928001e+06   \n",
       "23          TechSupport_No internet service    -0.205195  4.926142e+14   \n",
       "24          StreamingTV_No internet service    -0.205195           NaN   \n",
       "25       OnlineSecurity_No internet service    -0.205195           NaN   \n",
       "26      StreamingMovies_No internet service    -0.205195           NaN   \n",
       "27                  Contract_Month-to-month     1.372388           NaN   \n",
       "28         OnlineBackup_No internet service    -0.205195           NaN   \n",
       "29     DeviceProtection_No internet service    -0.205195           NaN   \n",
       "\n",
       "          pvalue      CI_lower      CI_upper  \n",
       "0   1.497002e-18 -7.545496e-02 -4.794037e-02  \n",
       "1   4.043307e-11  5.440529e-01  1.003426e+00  \n",
       "2   2.464598e-05  1.799860e-04  4.924375e-04  \n",
       "3   1.118061e-04 -4.915338e-01 -1.606654e-01  \n",
       "4   5.498046e-04  1.622215e-01  5.874922e-01  \n",
       "5   1.244549e-03 -4.863772e-01 -1.189129e-01  \n",
       "6   6.154419e-02 -7.694585e-01  1.816357e-02  \n",
       "7   9.814402e-02 -1.314421e+00  1.113130e-01  \n",
       "8   1.683736e-01 -1.214893e+00  2.120487e-01  \n",
       "9   2.137118e-01 -1.385339e-01  6.193338e-01  \n",
       "10  2.549823e-01 -8.307191e-02  3.132558e-01  \n",
       "11  3.044736e-01 -1.809258e-01  5.791574e-01  \n",
       "12  3.362453e-01 -1.035559e-01  3.538689e-02  \n",
       "13  5.042155e-01 -5.436576e+00  1.105682e+01  \n",
       "14  5.280534e-01 -4.992978e-01  2.561069e-01  \n",
       "15  5.321843e-01 -1.712617e-01  3.315010e-01  \n",
       "16  6.544387e-01 -1.322030e-01  2.104577e-01  \n",
       "17  7.182686e-01 -5.301826e+00  7.693987e+00  \n",
       "18  8.567171e-01 -3.503073e-01  4.213980e-01  \n",
       "19  9.291902e-01 -2.694803e-01  2.461039e-01  \n",
       "20  9.331972e-01 -1.488790e-01  1.366669e-01  \n",
       "21  1.000000e+00 -1.553860e+07  1.553860e+07  \n",
       "22  1.000000e+00 -1.553860e+07  1.553860e+07  \n",
       "23  1.000000e+00 -9.655060e+14  9.655060e+14  \n",
       "24           NaN           NaN           NaN  \n",
       "25           NaN           NaN           NaN  \n",
       "26           NaN           NaN           NaN  \n",
       "27           NaN           NaN           NaN  \n",
       "28           NaN           NaN           NaN  \n",
       "29           NaN           NaN           NaN  "
      ]
     },
     "execution_count": 117,
     "metadata": {},
     "output_type": "execute_result"
    }
   ],
   "source": [
    "# Sort based on the pvalues and obtain the index\n",
    "sorted_idx = np.argsort(result.pvalues)\n",
    "\n",
    "feature_names = np.array(x_train_df.columns)[sorted_idx] # get feature names based on index\n",
    "feature_weights = result.params[sorted_idx] #get coefficient values\n",
    "weights_stderror = result.bse[sorted_idx]  # get std. error\n",
    "pvalues = result.pvalues[sorted_idx]  # get p-values\n",
    "CI_lower = result.conf_int()[:,0][sorted_idx]\n",
    "CI_upper = result.conf_int()[:,1][sorted_idx]\n",
    "\n",
    "coefficients_table = pd.DataFrame({'Variable':feature_names,'Coefficient':feature_weights,'stderror':weights_stderror,'pvalue':pvalues,'CI_lower':CI_lower,'CI_upper':CI_upper},columns=['Variable','Coefficient','stderror','pvalue','CI_lower','CI_upper'])\n",
    "\n",
    "coefficients_table"
   ]
  },
  {
   "cell_type": "markdown",
   "metadata": {},
   "source": [
    "<br>\n",
    "\n",
    "Statistically significant features: **Total Charges**, **Tenure**, **Senior Citizen(Yes/No)**,**Paperless billing(Yes/No)**, **Payment Method**, **Multiple lines**, **Streaming Movies(Yes/No)**,**Contract type**"
   ]
  },
  {
   "cell_type": "markdown",
   "metadata": {},
   "source": [
    "# Feature engineering"
   ]
  },
  {
   "cell_type": "markdown",
   "metadata": {},
   "source": [
    "## LASSO feature selection"
   ]
  },
  {
   "cell_type": "code",
   "execution_count": 24,
   "metadata": {
    "ExecuteTime": {
     "end_time": "2020-03-31T04:43:46.921417Z",
     "start_time": "2020-03-31T04:43:02.997516Z"
    },
    "collapsed": true
   },
   "outputs": [
    {
     "name": "stderr",
     "output_type": "stream",
     "text": [
      "C:\\Users\\Hi\\Anaconda3\\lib\\site-packages\\sklearn\\linear_model\\coordinate_descent.py:492: ConvergenceWarning:\n",
      "\n",
      "Objective did not converge. You might want to increase the number of iterations. Fitting data with very small alpha may cause precision problems.\n",
      "\n",
      "C:\\Users\\Hi\\Anaconda3\\lib\\site-packages\\sklearn\\linear_model\\coordinate_descent.py:492: ConvergenceWarning:\n",
      "\n",
      "Objective did not converge. You might want to increase the number of iterations. Fitting data with very small alpha may cause precision problems.\n",
      "\n",
      "C:\\Users\\Hi\\Anaconda3\\lib\\site-packages\\sklearn\\linear_model\\coordinate_descent.py:492: ConvergenceWarning:\n",
      "\n",
      "Objective did not converge. You might want to increase the number of iterations. Fitting data with very small alpha may cause precision problems.\n",
      "\n",
      "C:\\Users\\Hi\\Anaconda3\\lib\\site-packages\\sklearn\\linear_model\\coordinate_descent.py:492: ConvergenceWarning:\n",
      "\n",
      "Objective did not converge. You might want to increase the number of iterations. Fitting data with very small alpha may cause precision problems.\n",
      "\n",
      "C:\\Users\\Hi\\Anaconda3\\lib\\site-packages\\sklearn\\linear_model\\coordinate_descent.py:492: ConvergenceWarning:\n",
      "\n",
      "Objective did not converge. You might want to increase the number of iterations. Fitting data with very small alpha may cause precision problems.\n",
      "\n",
      "C:\\Users\\Hi\\Anaconda3\\lib\\site-packages\\sklearn\\linear_model\\coordinate_descent.py:492: ConvergenceWarning:\n",
      "\n",
      "Objective did not converge. You might want to increase the number of iterations. Fitting data with very small alpha may cause precision problems.\n",
      "\n",
      "C:\\Users\\Hi\\Anaconda3\\lib\\site-packages\\sklearn\\linear_model\\coordinate_descent.py:492: ConvergenceWarning:\n",
      "\n",
      "Objective did not converge. You might want to increase the number of iterations. Fitting data with very small alpha may cause precision problems.\n",
      "\n",
      "C:\\Users\\Hi\\Anaconda3\\lib\\site-packages\\sklearn\\linear_model\\coordinate_descent.py:492: ConvergenceWarning:\n",
      "\n",
      "Objective did not converge. You might want to increase the number of iterations. Fitting data with very small alpha may cause precision problems.\n",
      "\n",
      "C:\\Users\\Hi\\Anaconda3\\lib\\site-packages\\sklearn\\linear_model\\coordinate_descent.py:492: ConvergenceWarning:\n",
      "\n",
      "Objective did not converge. You might want to increase the number of iterations. Fitting data with very small alpha may cause precision problems.\n",
      "\n",
      "C:\\Users\\Hi\\Anaconda3\\lib\\site-packages\\sklearn\\linear_model\\coordinate_descent.py:492: ConvergenceWarning:\n",
      "\n",
      "Objective did not converge. You might want to increase the number of iterations. Fitting data with very small alpha may cause precision problems.\n",
      "\n",
      "C:\\Users\\Hi\\Anaconda3\\lib\\site-packages\\sklearn\\linear_model\\coordinate_descent.py:492: ConvergenceWarning:\n",
      "\n",
      "Objective did not converge. You might want to increase the number of iterations. Fitting data with very small alpha may cause precision problems.\n",
      "\n",
      "C:\\Users\\Hi\\Anaconda3\\lib\\site-packages\\sklearn\\linear_model\\coordinate_descent.py:492: ConvergenceWarning:\n",
      "\n",
      "Objective did not converge. You might want to increase the number of iterations. Fitting data with very small alpha may cause precision problems.\n",
      "\n",
      "C:\\Users\\Hi\\Anaconda3\\lib\\site-packages\\sklearn\\linear_model\\coordinate_descent.py:492: ConvergenceWarning:\n",
      "\n",
      "Objective did not converge. You might want to increase the number of iterations. Fitting data with very small alpha may cause precision problems.\n",
      "\n",
      "C:\\Users\\Hi\\Anaconda3\\lib\\site-packages\\sklearn\\linear_model\\coordinate_descent.py:492: ConvergenceWarning:\n",
      "\n",
      "Objective did not converge. You might want to increase the number of iterations. Fitting data with very small alpha may cause precision problems.\n",
      "\n",
      "C:\\Users\\Hi\\Anaconda3\\lib\\site-packages\\sklearn\\linear_model\\coordinate_descent.py:492: ConvergenceWarning:\n",
      "\n",
      "Objective did not converge. You might want to increase the number of iterations. Fitting data with very small alpha may cause precision problems.\n",
      "\n"
     ]
    },
    {
     "data": {
      "text/plain": [
       "GridSearchCV(cv=5, error_score='raise-deprecating',\n",
       "       estimator=Lasso(alpha=1.0, copy_X=True, fit_intercept=True, max_iter=10000,\n",
       "   normalize=False, positive=False, precompute=False, random_state=None,\n",
       "   selection='cyclic', tol=0.0001, warm_start=False),\n",
       "       fit_params=None, iid='warn', n_jobs=None,\n",
       "       param_grid={'alpha': [1e-10, 1e-08, 1e-06, 0.0001, 0.01, 0.1, 0.5, 1, 1.5, 2, 3, 4, 5]},\n",
       "       pre_dispatch='2*n_jobs', refit=True, return_train_score='warn',\n",
       "       scoring='roc_auc', verbose=0)"
      ]
     },
     "execution_count": 24,
     "metadata": {},
     "output_type": "execute_result"
    }
   ],
   "source": [
    "from sklearn.linear_model import Lasso\n",
    "from sklearn.model_selection import GridSearchCV\n",
    "\n",
    "lasso=Lasso(max_iter=10000)\n",
    "param_grid = {'alpha':[1e-10,1e-8,1e-6,1e-4,1e-2,0.1,0.5,1,1.5,2,3,4,5]}\n",
    "lasso_gridcv = GridSearchCV(lasso,param_grid,scoring=\"roc_auc\",cv=5)\n",
    "lasso_gridcv.fit(x_train,y_train)"
   ]
  },
  {
   "cell_type": "code",
   "execution_count": 80,
   "metadata": {
    "ExecuteTime": {
     "end_time": "2020-03-03T05:36:25.155141Z",
     "start_time": "2020-03-03T05:36:24.923279Z"
    },
    "collapsed": true
   },
   "outputs": [
    {
     "data": {
      "text/plain": [
       "([<matplotlib.axis.XTick at 0x21c29fe85f8>,\n",
       "  <matplotlib.axis.XTick at 0x21c29fe24a8>,\n",
       "  <matplotlib.axis.XTick at 0x21c2a017208>,\n",
       "  <matplotlib.axis.XTick at 0x21c28cb2be0>,\n",
       "  <matplotlib.axis.XTick at 0x21c29f81828>,\n",
       "  <matplotlib.axis.XTick at 0x21c29fa2860>,\n",
       "  <matplotlib.axis.XTick at 0x21c29fa2b38>,\n",
       "  <matplotlib.axis.XTick at 0x21c28cfeef0>,\n",
       "  <matplotlib.axis.XTick at 0x21c28ca6c88>,\n",
       "  <matplotlib.axis.XTick at 0x21c29f9ad68>,\n",
       "  <matplotlib.axis.XTick at 0x21c28c47da0>,\n",
       "  <matplotlib.axis.XTick at 0x21c29f81240>,\n",
       "  <matplotlib.axis.XTick at 0x21c28f8e5c0>],\n",
       " <a list of 13 Text xticklabel objects>)"
      ]
     },
     "execution_count": 80,
     "metadata": {},
     "output_type": "execute_result"
    },
    {
     "data": {
      "image/png": "[encoded data removed]",
      "text/plain": [
       "<Figure size 432x288 with 1 Axes>"
      ]
     },
     "metadata": {
      "needs_background": "light"
     },
     "output_type": "display_data"
    }
   ],
   "source": [
    "plt.plot(param_grid['alpha'],lasso_gridcv.cv_results_['mean_test_score']) \n",
    "plt.xticks([1e-10,1e-8,1e-6,1e-4,1e-2,0.1,0.5,1,1.5,2,3,4,5])"
   ]
  },
  {
   "cell_type": "code",
   "execution_count": 25,
   "metadata": {
    "ExecuteTime": {
     "end_time": "2020-03-31T04:44:21.511536Z",
     "start_time": "2020-03-31T04:44:21.505538Z"
    }
   },
   "outputs": [
    {
     "name": "stdout",
     "output_type": "stream",
     "text": [
      "{'alpha': 0.0001}\n"
     ]
    }
   ],
   "source": [
    "print(lasso_gridcv.best_params_)"
   ]
  },
  {
   "cell_type": "markdown",
   "metadata": {},
   "source": [
    "optimum alpha value selected through 5-fold CV is 0.0001. Next,we will fit a lasso model with the optimal alpha value to see which variables are eliminated from the model"
   ]
  },
  {
   "cell_type": "code",
   "execution_count": 26,
   "metadata": {
    "ExecuteTime": {
     "end_time": "2020-03-31T04:44:42.827393Z",
     "start_time": "2020-03-31T04:44:42.726451Z"
    }
   },
   "outputs": [],
   "source": [
    "lasso_opt = Lasso(alpha=0.0001,max_iter=10000).fit(x_train,y_train)"
   ]
  },
  {
   "cell_type": "code",
   "execution_count": 27,
   "metadata": {
    "ExecuteTime": {
     "end_time": "2020-03-31T04:45:45.815421Z",
     "start_time": "2020-03-31T04:45:45.792437Z"
    },
    "scrolled": true
   },
   "outputs": [
    {
     "data": {
      "text/html": [
       "<div>\n",
       "<style scoped>\n",
       "    .dataframe tbody tr th:only-of-type {\n",
       "        vertical-align: middle;\n",
       "    }\n",
       "\n",
       "    .dataframe tbody tr th {\n",
       "        vertical-align: top;\n",
       "    }\n",
       "\n",
       "    .dataframe thead th {\n",
       "        text-align: right;\n",
       "    }\n",
       "</style>\n",
       "<table border=\"1\" class=\"dataframe\">\n",
       "  <thead>\n",
       "    <tr style=\"text-align: right;\">\n",
       "      <th></th>\n",
       "      <th>predictor</th>\n",
       "      <th>lasso.coef</th>\n",
       "    </tr>\n",
       "  </thead>\n",
       "  <tbody>\n",
       "    <tr>\n",
       "      <th>11</th>\n",
       "      <td>InternetService_Fiber optic</td>\n",
       "      <td>0.127276</td>\n",
       "    </tr>\n",
       "    <tr>\n",
       "      <th>29</th>\n",
       "      <td>PaymentMethod_Electronic check</td>\n",
       "      <td>0.075957</td>\n",
       "    </tr>\n",
       "    <tr>\n",
       "      <th>18</th>\n",
       "      <td>TechSupport_No</td>\n",
       "      <td>0.066932</td>\n",
       "    </tr>\n",
       "    <tr>\n",
       "      <th>24</th>\n",
       "      <td>Contract_Month-to-month</td>\n",
       "      <td>0.064441</td>\n",
       "    </tr>\n",
       "    <tr>\n",
       "      <th>0</th>\n",
       "      <td>SeniorCitizen</td>\n",
       "      <td>0.058152</td>\n",
       "    </tr>\n",
       "    <tr>\n",
       "      <th>12</th>\n",
       "      <td>OnlineSecurity_No</td>\n",
       "      <td>0.054035</td>\n",
       "    </tr>\n",
       "    <tr>\n",
       "      <th>14</th>\n",
       "      <td>OnlineBackup_No</td>\n",
       "      <td>0.032527</td>\n",
       "    </tr>\n",
       "    <tr>\n",
       "      <th>7</th>\n",
       "      <td>PhoneService_No</td>\n",
       "      <td>0.032038</td>\n",
       "    </tr>\n",
       "    <tr>\n",
       "      <th>6</th>\n",
       "      <td>Dependents_No</td>\n",
       "      <td>0.015988</td>\n",
       "    </tr>\n",
       "    <tr>\n",
       "      <th>16</th>\n",
       "      <td>DeviceProtection_No</td>\n",
       "      <td>0.010474</td>\n",
       "    </tr>\n",
       "    <tr>\n",
       "      <th>27</th>\n",
       "      <td>PaymentMethod_Bank transfer (automatic)</td>\n",
       "      <td>0.008102</td>\n",
       "    </tr>\n",
       "    <tr>\n",
       "      <th>5</th>\n",
       "      <td>Partner_No</td>\n",
       "      <td>0.005556</td>\n",
       "    </tr>\n",
       "    <tr>\n",
       "      <th>28</th>\n",
       "      <td>PaymentMethod_Credit card (automatic)</td>\n",
       "      <td>0.003598</td>\n",
       "    </tr>\n",
       "    <tr>\n",
       "      <th>2</th>\n",
       "      <td>MonthlyCharges</td>\n",
       "      <td>0.002185</td>\n",
       "    </tr>\n",
       "    <tr>\n",
       "      <th>9</th>\n",
       "      <td>MultipleLines_No phone service</td>\n",
       "      <td>0.001124</td>\n",
       "    </tr>\n",
       "    <tr>\n",
       "      <th>19</th>\n",
       "      <td>TechSupport_No internet service</td>\n",
       "      <td>-0.000000</td>\n",
       "    </tr>\n",
       "    <tr>\n",
       "      <th>23</th>\n",
       "      <td>StreamingMovies_No internet service</td>\n",
       "      <td>-0.000000</td>\n",
       "    </tr>\n",
       "    <tr>\n",
       "      <th>21</th>\n",
       "      <td>StreamingTV_No internet service</td>\n",
       "      <td>-0.000000</td>\n",
       "    </tr>\n",
       "    <tr>\n",
       "      <th>17</th>\n",
       "      <td>DeviceProtection_No internet service</td>\n",
       "      <td>-0.000000</td>\n",
       "    </tr>\n",
       "    <tr>\n",
       "      <th>13</th>\n",
       "      <td>OnlineSecurity_No internet service</td>\n",
       "      <td>-0.000000</td>\n",
       "    </tr>\n",
       "    <tr>\n",
       "      <th>4</th>\n",
       "      <td>gender_Female</td>\n",
       "      <td>-0.000000</td>\n",
       "    </tr>\n",
       "    <tr>\n",
       "      <th>10</th>\n",
       "      <td>InternetService_DSL</td>\n",
       "      <td>-0.000000</td>\n",
       "    </tr>\n",
       "    <tr>\n",
       "      <th>15</th>\n",
       "      <td>OnlineBackup_No internet service</td>\n",
       "      <td>-0.000000</td>\n",
       "    </tr>\n",
       "    <tr>\n",
       "      <th>3</th>\n",
       "      <td>TotalCharges</td>\n",
       "      <td>-0.000047</td>\n",
       "    </tr>\n",
       "    <tr>\n",
       "      <th>1</th>\n",
       "      <td>tenure</td>\n",
       "      <td>-0.001837</td>\n",
       "    </tr>\n",
       "    <tr>\n",
       "      <th>20</th>\n",
       "      <td>StreamingTV_No</td>\n",
       "      <td>-0.023126</td>\n",
       "    </tr>\n",
       "    <tr>\n",
       "      <th>25</th>\n",
       "      <td>Contract_One year</td>\n",
       "      <td>-0.032400</td>\n",
       "    </tr>\n",
       "    <tr>\n",
       "      <th>8</th>\n",
       "      <td>MultipleLines_No</td>\n",
       "      <td>-0.034792</td>\n",
       "    </tr>\n",
       "    <tr>\n",
       "      <th>26</th>\n",
       "      <td>PaperlessBilling_No</td>\n",
       "      <td>-0.042596</td>\n",
       "    </tr>\n",
       "    <tr>\n",
       "      <th>22</th>\n",
       "      <td>StreamingMovies_No</td>\n",
       "      <td>-0.044101</td>\n",
       "    </tr>\n",
       "  </tbody>\n",
       "</table>\n",
       "</div>"
      ],
      "text/plain": [
       "                                  predictor  lasso.coef\n",
       "11              InternetService_Fiber optic    0.127276\n",
       "29           PaymentMethod_Electronic check    0.075957\n",
       "18                           TechSupport_No    0.066932\n",
       "24                  Contract_Month-to-month    0.064441\n",
       "0                             SeniorCitizen    0.058152\n",
       "12                        OnlineSecurity_No    0.054035\n",
       "14                          OnlineBackup_No    0.032527\n",
       "7                           PhoneService_No    0.032038\n",
       "6                             Dependents_No    0.015988\n",
       "16                      DeviceProtection_No    0.010474\n",
       "27  PaymentMethod_Bank transfer (automatic)    0.008102\n",
       "5                                Partner_No    0.005556\n",
       "28    PaymentMethod_Credit card (automatic)    0.003598\n",
       "2                            MonthlyCharges    0.002185\n",
       "9            MultipleLines_No phone service    0.001124\n",
       "19          TechSupport_No internet service   -0.000000\n",
       "23      StreamingMovies_No internet service   -0.000000\n",
       "21          StreamingTV_No internet service   -0.000000\n",
       "17     DeviceProtection_No internet service   -0.000000\n",
       "13       OnlineSecurity_No internet service   -0.000000\n",
       "4                             gender_Female   -0.000000\n",
       "10                      InternetService_DSL   -0.000000\n",
       "15         OnlineBackup_No internet service   -0.000000\n",
       "3                              TotalCharges   -0.000047\n",
       "1                                    tenure   -0.001837\n",
       "20                           StreamingTV_No   -0.023126\n",
       "25                        Contract_One year   -0.032400\n",
       "8                          MultipleLines_No   -0.034792\n",
       "26                      PaperlessBilling_No   -0.042596\n",
       "22                       StreamingMovies_No   -0.044101"
      ]
     },
     "metadata": {},
     "output_type": "display_data"
    }
   ],
   "source": [
    "var = pd.DataFrame(x_train_df.columns, columns=[\"predictor\"])\n",
    "coef = pd.DataFrame(lasso_opt.coef_, columns=[\"lasso.coef\"])\n",
    "varselectiontable = pd.concat([var,coef],axis=1)\n",
    "display(varselectiontable.sort_values(by=['lasso.coef'],ascending=False))\n",
    "    "
   ]
  },
  {
   "cell_type": "markdown",
   "metadata": {},
   "source": [
    "The following variables are eliminated: **Gender**, **InternetService_DSL**,**OnlineSecurity_No internet service**, **OnlineBackup_No internet service**, **DeviceProtection_No internet service**,**TechSupport_No internet service**,**StreamingTV_No internet service**,**StreamingMovies_No internet service**"
   ]
  },
  {
   "cell_type": "markdown",
   "metadata": {},
   "source": [
    "## Recursive feature elimination using Random Forest"
   ]
  },
  {
   "cell_type": "markdown",
   "metadata": {},
   "source": [
    "We will use Recursive Feature Elimination using the Random Forest Classifier. We will try to do this by using a cost-sensitive model,  and will also optimize for the # of variables to be selected. We will calculate cost using the formula : *n_samples/(n_classes * n_sampleswithclass)* "
   ]
  },
  {
   "cell_type": "code",
   "execution_count": 28,
   "metadata": {
    "ExecuteTime": {
     "end_time": "2020-03-31T04:48:17.165071Z",
     "start_time": "2020-03-31T04:48:17.157074Z"
    }
   },
   "outputs": [
    {
     "name": "stdout",
     "output_type": "stream",
     "text": [
      "{0: 0.6783646888567294, 1: 1.9016227180527383}\n"
     ]
    }
   ],
   "source": [
    "wt0= y_train.shape[0]/(2*np.count_nonzero(y_train==0))\n",
    "wt1= y_train.shape[0]/(2*np.count_nonzero(y_train==1)) \n",
    "weights = {0:wt0,1:wt1}\n",
    "print(weights)"
   ]
  },
  {
   "cell_type": "code",
   "execution_count": 30,
   "metadata": {
    "ExecuteTime": {
     "end_time": "2020-03-31T04:55:39.749403Z",
     "start_time": "2020-03-31T04:54:21.837944Z"
    }
   },
   "outputs": [
    {
     "name": "stdout",
     "output_type": "stream",
     "text": [
      "[[0.81176436 0.81926029 0.82044523 0.82268302 0.82386112 0.82467938\n",
      "  0.82437678 0.82296385 0.8224     0.8220086  0.82516739]]\n"
     ]
    }
   ],
   "source": [
    "from sklearn.feature_selection import RFE\n",
    "from sklearn.ensemble import RandomForestClassifier\n",
    "from sklearn.model_selection import cross_val_score\n",
    "\n",
    "# Define RF classifier model\n",
    "rfmodel = RandomForestClassifier(n_estimators=100,random_state=710,class_weight = weights,n_jobs=-1)\n",
    "# Define CV score array for auc scores\n",
    "scores_array = np.empty((1,len(range(10,31,2))))\n",
    "\n",
    "i=0\n",
    "for n in list(range(10,31,2)):\n",
    "\n",
    "    # Define RFE selector\n",
    "    select = RFE(rfmodel,n_features_to_select=n)\n",
    "    # Select features using x_train, y_train\n",
    "    select.fit(x_train,np.ravel(y_train))\n",
    "    # Create x_train_rfe as a subset of x_train consisting of only the selected features\n",
    "    x_train_rfe= select.transform(x_train)\n",
    "    # Obtain CV score (auc) using only selected features\n",
    "    scores_array[0,i] = format(cross_val_score(rfmodel,x_train_rfe,np.ravel(y_train),cv=3,scoring=\"roc_auc\").mean())\n",
    "    i=i+1\n",
    "\n",
    "print(scores_array)"
   ]
  },
  {
   "cell_type": "code",
   "execution_count": 31,
   "metadata": {
    "ExecuteTime": {
     "end_time": "2020-03-31T04:59:24.786150Z",
     "start_time": "2020-03-31T04:59:23.812778Z"
    }
   },
   "outputs": [
    {
     "data": {
      "text/plain": [
       "[<matplotlib.lines.Line2D at 0x124a2622f60>]"
      ]
     },
     "execution_count": 31,
     "metadata": {},
     "output_type": "execute_result"
    },
    {
     "data": {
      "image/png": "[encoded data removed]",
      "text/plain": [
       "<Figure size 432x288 with 1 Axes>"
      ]
     },
     "metadata": {
      "needs_background": "light"
     },
     "output_type": "display_data"
    }
   ],
   "source": [
    "plt.plot(np.array(list(range(10,31,2))),scores_array.transpose())"
   ]
  },
  {
   "cell_type": "markdown",
   "metadata": {},
   "source": [
    "The iterations suggest that the optimum number of features to be selected are **20**. Let us see what are the selected features"
   ]
  },
  {
   "cell_type": "code",
   "execution_count": 33,
   "metadata": {
    "ExecuteTime": {
     "end_time": "2020-03-31T05:01:32.977000Z",
     "start_time": "2020-03-31T05:01:27.640593Z"
    }
   },
   "outputs": [
    {
     "data": {
      "text/plain": [
       "RFE(estimator=RandomForestClassifier(bootstrap=True,\n",
       "            class_weight={0: 0.6783646888567294, 1: 1.9016227180527383},\n",
       "            criterion='gini', max_depth=None, max_features='auto',\n",
       "            max_leaf_nodes=None, min_impurity_decrease=0.0,\n",
       "            min_impurity_split=None, min_samples_leaf=1,\n",
       "            min_samples_split=2, min_weight_fraction_leaf=0.0,\n",
       "            n_estimators=100, n_jobs=-1, oob_score=False, random_state=710,\n",
       "            verbose=0, warm_start=False),\n",
       "  n_features_to_select=20, step=1, verbose=0)"
      ]
     },
     "execution_count": 33,
     "metadata": {},
     "output_type": "execute_result"
    }
   ],
   "source": [
    "select = RFE(rfmodel,n_features_to_select=20)\n",
    "select.fit(x_train,np.ravel(y_train))\n",
    "\n"
   ]
  },
  {
   "cell_type": "code",
   "execution_count": 34,
   "metadata": {
    "ExecuteTime": {
     "end_time": "2020-03-31T05:01:36.520079Z",
     "start_time": "2020-03-31T05:01:36.508088Z"
    }
   },
   "outputs": [
    {
     "name": "stdout",
     "output_type": "stream",
     "text": [
      "StreamingTV_No internet service            False\n",
      "OnlineBackup_No internet service           False\n",
      "PaymentMethod_Credit card (automatic)      False\n",
      "OnlineSecurity_No internet service         False\n",
      "TechSupport_No internet service            False\n",
      "InternetService_DSL                        False\n",
      "MultipleLines_No phone service             False\n",
      "DeviceProtection_No internet service       False\n",
      "StreamingMovies_No internet service        False\n",
      "PhoneService_No                            False\n",
      "TechSupport_No                              True\n",
      "StreamingMovies_No                          True\n",
      "StreamingTV_No                              True\n",
      "Contract_Month-to-month                     True\n",
      "Contract_One year                           True\n",
      "PaperlessBilling_No                         True\n",
      "PaymentMethod_Bank transfer (automatic)     True\n",
      "SeniorCitizen                               True\n",
      "OnlineBackup_No                             True\n",
      "OnlineSecurity_No                           True\n",
      "InternetService_Fiber optic                 True\n",
      "MultipleLines_No                            True\n",
      "Dependents_No                               True\n",
      "Partner_No                                  True\n",
      "gender_Female                               True\n",
      "TotalCharges                                True\n",
      "MonthlyCharges                              True\n",
      "tenure                                      True\n",
      "DeviceProtection_No                         True\n",
      "PaymentMethod_Electronic check              True\n",
      "dtype: bool\n"
     ]
    }
   ],
   "source": [
    "cols = list(x_train_df.columns)\n",
    "temp = pd.Series(select.support_,index = cols)\n",
    "# print(temp[temp==True])\n",
    "print(temp.sort_values())\n",
    "\n"
   ]
  },
  {
   "cell_type": "markdown",
   "metadata": {},
   "source": [
    "# Modeling"
   ]
  },
  {
   "cell_type": "code",
   "execution_count": 118,
   "metadata": {
    "ExecuteTime": {
     "end_time": "2020-05-10T21:59:29.715411Z",
     "start_time": "2020-05-10T21:59:29.710414Z"
    }
   },
   "outputs": [],
   "source": [
    "# We will move ahead with the following variables\n",
    "\n",
    "selected_vars_index = [18,22,20,24,25,26,27,0,14,12,11,8,6,5,4,3,2,1,16,29,28,9,7]"
   ]
  },
  {
   "cell_type": "code",
   "execution_count": 119,
   "metadata": {
    "ExecuteTime": {
     "end_time": "2020-05-10T21:59:31.528831Z",
     "start_time": "2020-05-10T21:59:31.521840Z"
    }
   },
   "outputs": [],
   "source": [
    "x_train_selected = x_train[:,selected_vars_index]\n",
    "x_test_selected = x_test[:,selected_vars_index]"
   ]
  },
  {
   "cell_type": "code",
   "execution_count": 38,
   "metadata": {
    "ExecuteTime": {
     "end_time": "2020-03-31T05:43:03.827397Z",
     "start_time": "2020-03-31T05:43:03.820403Z"
    }
   },
   "outputs": [
    {
     "data": {
      "text/plain": [
       "(5625, 23)"
      ]
     },
     "execution_count": 38,
     "metadata": {},
     "output_type": "execute_result"
    }
   ],
   "source": [
    "x_train_selected.shape"
   ]
  },
  {
   "cell_type": "markdown",
   "metadata": {},
   "source": [
    "## Logistic regression (L2 regularization)"
   ]
  },
  {
   "cell_type": "markdown",
   "metadata": {},
   "source": [
    "### Fit model"
   ]
  },
  {
   "cell_type": "code",
   "execution_count": 144,
   "metadata": {
    "ExecuteTime": {
     "end_time": "2020-05-10T23:54:55.543911Z",
     "start_time": "2020-05-10T23:54:55.536916Z"
    }
   },
   "outputs": [
    {
     "data": {
      "text/plain": [
       "(5625, 1)"
      ]
     },
     "execution_count": 144,
     "metadata": {},
     "output_type": "execute_result"
    }
   ],
   "source": [
    "X = x_train_selected\n",
    "y = y_train"
   ]
  },
  {
   "cell_type": "code",
   "execution_count": 181,
   "metadata": {
    "ExecuteTime": {
     "end_time": "2020-05-11T01:03:32.541704Z",
     "start_time": "2020-05-11T01:03:32.536709Z"
    }
   },
   "outputs": [],
   "source": [
    "from sklearn.model_selection import cross_val_score\n",
    "from sklearn.linear_model import LogisticRegression\n",
    "from sklearn.metrics import make_scorer\n",
    "\n",
    "logreg = LogisticRegression()\n",
    "custom_scorer1 = make_scorer(symm_misclassif,needs_proba=True)\n",
    "custom_scorer2 = make_scorer(asymm_misclassif,needs_proba=True)"
   ]
  },
  {
   "cell_type": "markdown",
   "metadata": {},
   "source": [
    "#### Select optimum cutoff based on overall misclassification"
   ]
  },
  {
   "cell_type": "code",
   "execution_count": 182,
   "metadata": {
    "ExecuteTime": {
     "end_time": "2020-05-11T01:09:55.007033Z",
     "start_time": "2020-05-11T01:09:48.077002Z"
    }
   },
   "outputs": [
    {
     "name": "stdout",
     "output_type": "stream",
     "text": [
      "optimum probability - symmetric:  [0.5]\n",
      "optimum probability - asymmetric:  [0.25]\n"
     ]
    },
    {
     "data": {
      "image/png": "[encoded data removed]",
      "text/plain": [
       "<Figure size 864x360 with 2 Axes>"
      ]
     },
     "metadata": {
      "needs_background": "light"
     },
     "output_type": "display_data"
    }
   ],
   "source": [
    "prob_array = np.around(np.arange(0.1,0.9,0.05), decimals=2) \n",
    "mean_crossvalscore_sym = np.zeros(prob_array.size)\n",
    "mean_crossvalscore_asym = np.zeros(prob_array.size)\n",
    "i=0 \n",
    "\n",
    "for p in prob_array: \n",
    "    mean_crossvalscore_sym[i] =  cross_val_score(logreg,X,y,scoring=custom_scorer1,cv=3).mean()\n",
    "    mean_crossvalscore_asym[i] =  cross_val_score(logreg,X,y,scoring=custom_scorer2,cv=3).mean()\n",
    "    i=i+1 \n",
    "\n",
    "\n",
    "fig,ax=plt.subplots(1,2,figsize=(12,5))\n",
    "ax[0].plot(prob_array,mean_crossvalscore_sym);\n",
    "ax[1].plot(prob_array,mean_crossvalscore_asym);\n",
    "\n",
    "print('optimum probability - symmetric: ',prob_array[mean_crossvalscore_sym == np.min(mean_crossvalscore_sym)])\n",
    "print('optimum probability - asymmetric: ',prob_array[mean_crossvalscore_asym == np.min(mean_crossvalscore_asym)])\n"
   ]
  },
  {
   "cell_type": "markdown",
   "metadata": {},
   "source": [
    "#### Evaluate on Training sample"
   ]
  },
  {
   "cell_type": "code",
   "execution_count": 183,
   "metadata": {
    "ExecuteTime": {
     "end_time": "2020-05-11T01:13:23.436493Z",
     "start_time": "2020-05-11T01:13:23.261594Z"
    }
   },
   "outputs": [
    {
     "name": "stdout",
     "output_type": "stream",
     "text": [
      "Confusion Matrix :\n",
      "[[3006 1140]\n",
      " [ 294 1185]]\n",
      "Accuracy Score : 0.7450666666666667\n",
      "Report : \n",
      "              precision    recall  f1-score   support\n",
      "\n",
      "           0       0.91      0.73      0.81      4146\n",
      "           1       0.51      0.80      0.62      1479\n",
      "\n",
      "    accuracy                           0.75      5625\n",
      "   macro avg       0.71      0.76      0.72      5625\n",
      "weighted avg       0.81      0.75      0.76      5625\n",
      "\n",
      "AUC:  0.763126608994813\n"
     ]
    }
   ],
   "source": [
    "logreg.fit(X,y)\n",
    "\n",
    "predicted = (logreg.predict_proba(X)[:,1].reshape((y.shape[0],1))>0.25)*1\n",
    "\n",
    "from sklearn.metrics import confusion_matrix \n",
    "from sklearn.metrics import accuracy_score \n",
    "from sklearn.metrics import classification_report\n",
    "from sklearn.metrics import roc_auc_score\n",
    "\n",
    "print('Confusion Matrix :')\n",
    "print(confusion_matrix(y,predicted)) \n",
    "print('Accuracy Score :',accuracy_score(y, predicted))\n",
    "print('Report : ')\n",
    "print(classification_report(y, predicted))\n",
    "print('AUC: ',roc_auc_score(y,predicted))"
   ]
  },
  {
   "cell_type": "markdown",
   "metadata": {},
   "source": [
    "### Evaluate model on Test"
   ]
  },
  {
   "cell_type": "code",
   "execution_count": 184,
   "metadata": {
    "ExecuteTime": {
     "end_time": "2020-05-11T01:15:04.687693Z",
     "start_time": "2020-05-11T01:15:04.660709Z"
    }
   },
   "outputs": [
    {
     "name": "stdout",
     "output_type": "stream",
     "text": [
      "Confusion Matrix :\n",
      "[[731 286]\n",
      " [ 73 317]]\n",
      "Accuracy Score : 0.7448471926083866\n",
      "Report : \n",
      "              precision    recall  f1-score   support\n",
      "\n",
      "           0       0.91      0.72      0.80      1017\n",
      "           1       0.53      0.81      0.64       390\n",
      "\n",
      "    accuracy                           0.74      1407\n",
      "   macro avg       0.72      0.77      0.72      1407\n",
      "weighted avg       0.80      0.74      0.76      1407\n",
      "\n"
     ]
    }
   ],
   "source": [
    "predicted_test = (logreg.predict_proba(x_test_selected)[:,1].reshape((y_test.shape[0],1))>0.25)*1\n",
    "\n",
    "from sklearn.metrics import confusion_matrix \n",
    "from sklearn.metrics import accuracy_score \n",
    "from sklearn.metrics import classification_report\n",
    "\n",
    "print('Confusion Matrix :')\n",
    "print(confusion_matrix(y_test,predicted_test)) \n",
    "print('Accuracy Score :',accuracy_score(y_test, predicted_test))\n",
    "print('Report : ')\n",
    "print(classification_report(y_test, predicted_test))"
   ]
  }
 ],
 "metadata": {
  "kernelspec": {
   "display_name": "Python 3",
   "language": "python",
   "name": "python3"
  },
  "language_info": {
   "codemirror_mode": {
    "name": "ipython",
    "version": 3
   },
   "file_extension": ".py",
   "mimetype": "text/x-python",
   "name": "python",
   "nbconvert_exporter": "python",
   "pygments_lexer": "ipython3",
   "version": "3.7.3"
  },
  "latex_envs": {
   "LaTeX_envs_menu_present": true,
   "autoclose": false,
   "autocomplete": true,
   "bibliofile": "biblio.bib",
   "cite_by": "apalike",
   "current_citInitial": 1,
   "eqLabelWithNumbers": true,
   "eqNumInitial": 1,
   "hotkeys": {
    "equation": "Ctrl-E",
    "itemize": "Ctrl-I"
   },
   "labels_anchors": false,
   "latex_user_defs": false,
   "report_style_numbering": false,
   "user_envs_cfg": false
  },
  "toc": {
   "base_numbering": 1,
   "nav_menu": {},
   "number_sections": true,
   "sideBar": true,
   "skip_h1_title": false,
   "title_cell": "Table of Contents",
   "title_sidebar": "Contents",
   "toc_cell": false,
   "toc_position": {
    "height": "calc(100% - 180px)",
    "left": "10px",
    "top": "150px",
    "width": "225.174px"
   },
   "toc_section_display": true,
   "toc_window_display": true
  },
  "varInspector": {
   "cols": {
    "lenName": 16,
    "lenType": 16,
    "lenVar": 40
   },
   "kernels_config": {
    "python": {
     "delete_cmd_postfix": "",
     "delete_cmd_prefix": "del ",
     "library": "var_list.py",
     "varRefreshCmd": "print(var_dic_list())"
    },
    "r": {
     "delete_cmd_postfix": ") ",
     "delete_cmd_prefix": "rm(",
     "library": "var_list.r",
     "varRefreshCmd": "cat(var_dic_list()) "
    }
   },
   "types_to_exclude": [
    "module",
    "function",
    "builtin_function_or_method",
    "instance",
    "_Feature"
   ],
   "window_display": false
  }
 },
 "nbformat": 4,
 "nbformat_minor": 2
}
